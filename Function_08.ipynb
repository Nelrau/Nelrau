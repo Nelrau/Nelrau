{
  "cells": [
    {
      "cell_type": "markdown",
      "metadata": {
        "id": "view-in-github",
        "colab_type": "text"
      },
      "source": [
        "<a href=\"https://colab.research.google.com/github/Nelrau/python_basic/blob/basic/Function_08.ipynb\" target=\"_parent\"><img src=\"https://colab.research.google.com/assets/colab-badge.svg\" alt=\"Open In Colab\"/></a>"
      ]
    },
    {
      "cell_type": "markdown",
      "metadata": {
        "id": "IWygUGPyaQQs"
      },
      "source": [
        "# Valores Padrões para os argumentos\n",
        "\n",
        "### Estrutura\n",
        "\n",
        "- Nesse caso, você não é obrigado a passar o valor para usar a função, pode usar o valor padrão."
      ]
    },
    {
      "cell_type": "raw",
      "metadata": {
        "id": "OUFxbL7AaQQ7"
      },
      "source": [
        "def minha_funcao(argumento = valor_padrao):\n",
        "    ...\n",
        "    return ..."
      ]
    },
    {
      "cell_type": "markdown",
      "metadata": {
        "id": "6DIEk1cUaQQ9"
      },
      "source": [
        "- Como vimos, o sort() para listas tem um argumento padrão. O reverse = False é padrão, então a ordem é crescente. Caso o usuário queira fazer em ordem decrescente, o reverse deve ser alterado para True"
      ]
    },
    {
      "cell_type": "code",
      "execution_count": 1,
      "metadata": {
        "colab": {
          "base_uri": "https://localhost:8080/"
        },
        "id": "QAXYFQN4aQRB",
        "outputId": "a7806e89-687c-43e8-f7ec-8ba845df55d8"
      },
      "outputs": [
        {
          "output_type": "stream",
          "name": "stdout",
          "text": [
            "['airpods', 'apple tv', 'apple watch', 'iPad', 'iphone x', 'mac', 'mac book']\n"
          ]
        }
      ],
      "source": [
        "produtos = ['apple tv', 'mac', 'iphone x', 'iPad', 'apple watch', 'mac book', 'airpods']\n",
        "\n",
        "produtos.sort()\n",
        "print(produtos)\n",
        "\n",
        "#produtos.sort(reverse = True)\n",
        "#print(produtos)"
      ]
    },
    {
      "cell_type": "markdown",
      "metadata": {
        "id": "cQUZUpbSaQRJ"
      },
      "source": [
        "- Vamos criar uma função que padronize códigos de produtos. O default será padronizar os códigos para letras minúsculas (dado por 'm'), mas se o usuário quiser pode padronizar para maiúscula, dado por ('M')."
      ]
    },
    {
      "cell_type": "code",
      "execution_count": 2,
      "metadata": {
        "colab": {
          "base_uri": "https://localhost:8080/"
        },
        "id": "fRX5d4GTaQRK",
        "outputId": "2d4e10b9-949d-4d5e-9136-f0679766e235"
      },
      "outputs": [
        {
          "output_type": "stream",
          "name": "stdout",
          "text": [
            "['abc12', 'abc34', 'abc37']\n"
          ]
        }
      ],
      "source": [
        "def padronizar_codigos(lista_codigos, padrao='m'):\n",
        "    for i, item in enumerate(lista_codigos):\n",
        "      item = item.replace('  ', ' ')\n",
        "      item = item.strip()\n",
        "      if padrao == 'm':\n",
        "        item = item.lower()\n",
        "      elif padrao == 'M':\n",
        "        item = item.upper()\n",
        "      lista_codigos[i] = item # atribuir a mudança ao item da lista na (lista_codigos[] = item.)\n",
        "    return lista_codigos\n",
        "\n",
        "\n",
        "\n",
        "cod_produtos = ['  ABC12 ', 'abc34', 'AbC37']\n",
        "print(padronizar_codigos(cod_produtos))"
      ]
    }
  ],
  "metadata": {
    "kernelspec": {
      "display_name": "Python 3",
      "language": "python",
      "name": "python3"
    },
    "language_info": {
      "codemirror_mode": {
        "name": "ipython",
        "version": 3
      },
      "file_extension": ".py",
      "mimetype": "text/x-python",
      "name": "python",
      "nbconvert_exporter": "python",
      "pygments_lexer": "ipython3",
      "version": "3.8.3"
    },
    "colab": {
      "provenance": [],
      "include_colab_link": true
    }
  },
  "nbformat": 4,
  "nbformat_minor": 0
}