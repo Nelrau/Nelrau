{
  "cells": [
    {
      "cell_type": "markdown",
      "metadata": {
        "id": "view-in-github",
        "colab_type": "text"
      },
      "source": [
        "<a href=\"https://colab.research.google.com/github/Nelrau/python_basic/blob/basic/List_Comprehensions_e_Functions_em_Iterables_04.ipynb\" target=\"_parent\"><img src=\"https://colab.research.google.com/assets/colab-badge.svg\" alt=\"Open In Colab\"/></a>"
      ]
    },
    {
      "cell_type": "markdown",
      "metadata": {
        "id": "xuY1KDtCH2Ud"
      },
      "source": [
        "# List Comprehensions com if para \"filtrar\" itens\n",
        "\n",
        "### Estrutura:"
      ]
    },
    {
      "cell_type": "raw",
      "metadata": {
        "id": "ubxGQxXeH2Uw"
      },
      "source": [
        "lista = [expressão for item in iterable if condicao]"
      ]
    },
    {
      "cell_type": "markdown",
      "metadata": {
        "id": "8cSNUL16H2Ux"
      },
      "source": [
        "- Digamos que eu queira criar uma lista de produtos que bateram a meta."
      ]
    },
    {
      "cell_type": "code",
      "execution_count": 1,
      "metadata": {
        "id": "XGPaXdmiH2U0"
      },
      "outputs": [],
      "source": [
        "meta = 1000\n",
        "vendas_produtos = [1500, 150, 2100, 1950]\n",
        "produtos = ['vinho', 'cafeiteira', 'microondas', 'iphone']"
      ]
    },
    {
      "cell_type": "markdown",
      "metadata": {
        "id": "I1Q8iaZ8H2U5"
      },
      "source": [
        "Fazendo por valor"
      ]
    },
    {
      "cell_type": "code",
      "execution_count": 14,
      "metadata": {
        "colab": {
          "base_uri": "https://localhost:8080/"
        },
        "id": "19hbG-NVH2U6",
        "outputId": "d3cf3697-0369-4e6e-bd1e-a72590e5039d"
      },
      "outputs": [
        {
          "output_type": "stream",
          "name": "stdout",
          "text": [
            "[1500, 2100, 1950]\n"
          ]
        }
      ],
      "source": [
        "produto = [vendas_produtos[i] for i, item in enumerate(vendas_produtos) if item >= meta]\n",
        "print(produto)"
      ]
    },
    {
      "cell_type": "markdown",
      "metadata": {
        "id": "O7B6x5tgH2U8"
      },
      "source": [
        "Fazendo por list comprehension"
      ]
    },
    {
      "cell_type": "code",
      "execution_count": 15,
      "metadata": {
        "colab": {
          "base_uri": "https://localhost:8080/"
        },
        "id": "kLtngCK9H2U_",
        "outputId": "b4bae2ea-1aac-4374-abc5-e6bd04b24371"
      },
      "outputs": [
        {
          "output_type": "stream",
          "name": "stdout",
          "text": [
            "['vinho', 'microondas', 'iphone']\n"
          ]
        }
      ],
      "source": [
        "produto = [produtos[i] for i, item in enumerate(vendas_produtos) if item >= meta]\n",
        "print(produto)"
      ]
    }
  ],
  "metadata": {
    "kernelspec": {
      "display_name": "Python 3",
      "language": "python",
      "name": "python3"
    },
    "language_info": {
      "codemirror_mode": {
        "name": "ipython",
        "version": 3
      },
      "file_extension": ".py",
      "mimetype": "text/x-python",
      "name": "python",
      "nbconvert_exporter": "python",
      "pygments_lexer": "ipython3",
      "version": "3.8.3"
    },
    "colab": {
      "provenance": [],
      "include_colab_link": true
    }
  },
  "nbformat": 4,
  "nbformat_minor": 0
}