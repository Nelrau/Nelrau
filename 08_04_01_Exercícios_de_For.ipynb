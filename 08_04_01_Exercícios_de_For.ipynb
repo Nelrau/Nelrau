{
  "cells": [
    {
      "cell_type": "markdown",
      "metadata": {
        "id": "view-in-github",
        "colab_type": "text"
      },
      "source": [
        "<a href=\"https://colab.research.google.com/github/Nelrau/python_basic/blob/basic/08_04_01_Exerc%C3%ADcios_de_For.ipynb\" target=\"_parent\"><img src=\"https://colab.research.google.com/assets/colab-badge.svg\" alt=\"Open In Colab\"/></a>"
      ]
    },
    {
      "cell_type": "markdown",
      "metadata": {
        "id": "OTqEY-sWT1qg"
      },
      "source": [
        "# Exercícios\n",
        "\n",
        "## 1. Criando um Registro de Hóspedes\n",
        "\n",
        "Digamos que você está criando o sistema para registrar a chegada de hóspedes em um hotel. No hotel, os hóspedes podem ter quartos com 1, 2, 3 e 4 pessoas. Seu sistema deve conseguir:\n",
        "\n",
        "1. Identificar quantas pessoas o hóspede que acabou de chegar vai ter no quarto (perguntando por meio de input)\n",
        "2. De acordo com a quantidade de pessoas do hóspede, ele deve fazer um for para perguntar o cpf e o nome de cada pessoa, a fim de registrá-la no quarto (2 inputs para cada pessoa, 1 para o cpf e outro para o nome)\n",
        "3. O seu programa então deve gerar uma lista com todas as pessoas que ficarão no quarto em que cada item dessa lista é o nome da pessoa e o cpf da pessoa, assim:"
      ]
    },
    {
      "cell_type": "raw",
      "metadata": {
        "id": "VmUJgQ_cT1qo"
      },
      "source": [
        "quarto = [\n",
        "    ['João', 'cpf:00000000000'],\n",
        "    ['Julia', 'cpf:11111111111'],\n",
        "    ['Marcus', 'cpf:22222222222'],\n",
        "    ['Maria', 'cpf:33333333333'],\n",
        "]"
      ]
    },
    {
      "cell_type": "markdown",
      "metadata": {
        "id": "-p4fuBhaT1qu"
      },
      "source": [
        "- Para simplificar, não vamos nos preocupar com possibilidades de \"tentar colocar mais de 1 hóspede, digitar o cpf errado, etc. Nosso objetivo é treinar a criação de uma rotina de cadastro"
      ]
    },
    {
      "cell_type": "code",
      "execution_count": 28,
      "metadata": {
        "id": "6Rizh_UXT1q1",
        "outputId": "b5ad17f3-b49e-47d8-b501-5862f587bbb4",
        "colab": {
          "base_uri": "https://localhost:8080/"
        }
      },
      "outputs": [
        {
          "output_type": "stream",
          "name": "stdout",
          "text": [
            "quantos quartos: 2\n",
            "Digite seu nome: carlos\n",
            "Digite seu cpf: paula\n",
            "Digite seu nome: pedro\n",
            "Digite seu cpf: maria\n",
            "[['carlos', 'paula'], ['pedro', 'maria']]\n"
          ]
        }
      ],
      "source": [
        "#seu código aqui\n",
        "quarto = []\n",
        "quant = int(input('quantos quartos: '))\n",
        "for hospede in range(quant):\n",
        "  hospede= [input('Digite seu nome: '), input('Digite seu cpf: ')]\n",
        "  quarto.append(hospede)\n",
        "print(quarto)"
      ]
    },
    {
      "cell_type": "markdown",
      "metadata": {
        "id": "w0oNX0M3T1q4"
      },
      "source": [
        "## 2. Análise de Vendas\n",
        "\n",
        "Nesse exercício vamos fazer uma \"análise simples\" de atingimento de Meta.\n",
        "\n",
        "Temos uma lista com os vendedores e os valores de vendas e queremos identificar (printar) quais os vendedores que bateram a meta e qual foi o valor que eles venderam."
      ]
    },
    {
      "cell_type": "code",
      "execution_count": 70,
      "metadata": {
        "id": "61wHHQmfT1q8",
        "outputId": "66d5e37d-e258-44a2-8ff0-4f60870f4c05",
        "colab": {
          "base_uri": "https://localhost:8080/"
        }
      },
      "outputs": [
        {
          "output_type": "stream",
          "name": "stdout",
          "text": [
            "João    - 15000\n",
            "Julia   - 27000\n",
            "Ana     - 10300\n"
          ]
        }
      ],
      "source": [
        "meta = 10000\n",
        "vendas = [\n",
        "    ['João', 15000],\n",
        "    ['Julia', 27000],\n",
        "    ['Marcus', 9900],\n",
        "    ['Maria', 3750],\n",
        "    ['Ana', 10300],\n",
        "    ['Alon', 7870],\n",
        "]\n",
        "#seu código aqui\n",
        "for venda in range(len(vendas)):# venda in vendas/ print(item[0],item[1])\n",
        "  if vendas[venda][1] >= meta:\n",
        "    print(f'{vendas[venda][0]:7} - {vendas[venda][1]}')"
      ]
    },
    {
      "cell_type": "markdown",
      "metadata": {
        "id": "A2fNYAvYT1rA"
      },
      "source": [
        "## 3. Comparação com Ano Anterior\n",
        "\n",
        "Digamos que você está analisando as vendas de produtos de um ecommerce e quer identificar quais produtos tiveram no ano de 2020 mais vendas do que no ano de 2019, para reportar isso para a diretoria.\n",
        "\n",
        "Sua resposta pode ser um print de cada produto, qual foi a venda de 2019, a venda de 2020 e o % de crescimento de 2020 para 2019.\n",
        "\n",
        "Lembrando, para calcular o % de crescimento de um produto de um ano para o outro, podemos fazer: (vendas_produto2020/vendas_produto2019 - 1)\n",
        "\n",
        "Dica: lembre do enumerate, ele pode facilitar seu \"for\""
      ]
    },
    {
      "cell_type": "code",
      "execution_count": 85,
      "metadata": {
        "id": "ZdbATKrUT1rC",
        "outputId": "12a711a6-50e0-4072-d919-4869c39f1199",
        "colab": {
          "base_uri": "https://localhost:8080/"
        }
      },
      "outputs": [
        {
          "output_type": "stream",
          "name": "stdout",
          "text": [
            "6\n",
            "iphone            vendeu em 2020 951642 2019 558147 tendo o crescimento de 71%\n",
            "tv                vendeu em 2020 787604 2019 405252 tendo o crescimento de 94%\n",
            "máquina de café   vendeu em 2020 867660 2019 718654 tendo o crescimento de 21%\n",
            "notebook dell     vendeu em 2020 694913 2019 422760 tendo o crescimento de 64%\n",
            "notebook hp       vendeu em 2020 539704 2019 154753 tendo o crescimento de 249%\n",
            "microsoft surface vendeu em 2020 667179 2019 438508 tendo o crescimento de 52%\n",
            "webcam            vendeu em 2020 295633 2019 237467 tendo o crescimento de 24%\n",
            "caixa de som      vendeu em 2020 725316 2019 489705 tendo o crescimento de 48%\n",
            "microfone         vendeu em 2020 644622 2019 328311 tendo o crescimento de 96%\n",
            "câmera canon      vendeu em 2020 994303 2019 591120 tendo o crescimento de 68%\n",
            "17\n"
          ]
        }
      ],
      "source": [
        "produtos = ['iphone', 'galaxy', 'ipad', 'tv', 'máquina de café', 'kindle', 'geladeira', 'adega', 'notebook dell', 'notebook hp', 'notebook asus', 'microsoft surface', 'webcam', 'caixa de som', 'microfone', 'câmera canon']\n",
        "vendas2019 = [558147,712350,573823,405252,718654,531580,973139,892292,422760,154753,887061,438508,237467,489705,328311,591120]\n",
        "vendas2020 = [951642,244295,26964,787604,867660,78830,710331,646016,694913,539704,324831,667179,295633,725316,644622,994303]\n",
        "#seu código aqui\n",
        "tam =int(len(produtos[0]))\n",
        "print(tam)\n",
        "for i, produto in enumerate(produtos):\n",
        "  if len(produto) > tam:\n",
        "    tam = len(produto)\n",
        "  if vendas2020[i] > vendas2019[i]:\n",
        "    print(f'{produto:17} vendeu em 2020 {vendas2020[i]:<6} 2019 {vendas2019[i]:<6} tendo o crescimento de {vendas2020[i] / vendas2019[i] - 1:1.0%}')\n",
        "print(tam)\n"
      ]
    }
  ],
  "metadata": {
    "kernelspec": {
      "display_name": "Python 3",
      "language": "python",
      "name": "python3"
    },
    "language_info": {
      "codemirror_mode": {
        "name": "ipython",
        "version": 3
      },
      "file_extension": ".py",
      "mimetype": "text/x-python",
      "name": "python",
      "nbconvert_exporter": "python",
      "pygments_lexer": "ipython3",
      "version": "3.8.3"
    },
    "colab": {
      "provenance": [],
      "include_colab_link": true
    }
  },
  "nbformat": 4,
  "nbformat_minor": 0
}