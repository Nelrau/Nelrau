{
  "cells": [
    {
      "cell_type": "markdown",
      "metadata": {
        "id": "view-in-github",
        "colab_type": "text"
      },
      "source": [
        "<a href=\"https://colab.research.google.com/github/Nelrau/python_basic/blob/basic/List_Comprehensions_e_Functions_em_Iterables_06.ipynb\" target=\"_parent\"><img src=\"https://colab.research.google.com/assets/colab-badge.svg\" alt=\"Open In Colab\"/></a>"
      ]
    },
    {
      "cell_type": "markdown",
      "metadata": {
        "id": "kOkWfDO2Y9CW"
      },
      "source": [
        "# List Comprehension com if para escolher o resultado final\n",
        "\n",
        "### Estrutura:"
      ]
    },
    {
      "cell_type": "raw",
      "metadata": {
        "id": "R0ddNiJ1Y9Cy"
      },
      "source": [
        "lista = [item if condicao else outro_resultado for item in iterable]"
      ]
    },
    {
      "cell_type": "markdown",
      "metadata": {
        "id": "h6xGASMWY9DB"
      },
      "source": [
        "- Digamos que eu esteja analisando os vendedores de uma loja e queira criar uma lista para enviar para o RH com o bônus de cada vendedor.\n",
        "- O bônus é dado por 10% do valor de vendas dele, caso ele tenha batido a meta"
      ]
    },
    {
      "cell_type": "code",
      "execution_count": null,
      "metadata": {
        "id": "fRYgNfUCY9DQ"
      },
      "outputs": [],
      "source": [
        "vendedores_dic = {'Maria': 1200, 'José': 300, 'Antônio': 800, 'João': 1500, 'Francisco': 1900, 'Ana': 2750, 'Luiz': 400, 'Paulo': 20, 'Carlos': 23, 'Manoel': 70, 'Pedro': 90, 'Francisca': 80, 'Marcos': 1100, 'Raimundo': 999, 'Sebastião': 900, 'Antônia': 880, 'Marcelo': 870, 'Jorge': 50, 'Márcia': 1111, 'Geraldo': 120, 'Adriana': 300, 'Sandra': 450, 'Luis': 800}\n",
        "meta = 1000"
      ]
    },
    {
      "cell_type": "markdown",
      "metadata": {
        "id": "6LzY3vkjY9Di"
      },
      "source": [
        "- Fazendo por for"
      ]
    },
    {
      "cell_type": "code",
      "execution_count": null,
      "metadata": {
        "colab": {
          "base_uri": "https://localhost:8080/"
        },
        "id": "LHw9mmKDY9Dk",
        "outputId": "5817cde2-8cbd-44ca-9cfd-25db3dd67f44"
      },
      "outputs": [
        {
          "output_type": "stream",
          "name": "stdout",
          "text": [
            "Maria      120.00\n",
            "João       150.00\n",
            "Francisco  190.00\n",
            "Ana        275.00\n",
            "Marcos     110.00\n",
            "Márcia     111.10\n"
          ]
        }
      ],
      "source": [
        "for i in vendedores_dic:\n",
        "  if vendedores_dic[i] > meta:\n",
        "    bonus = int(vendedores_dic[i]) * .1\n",
        "    print(f'{i:10} {bonus:.2f}')"
      ]
    },
    {
      "cell_type": "markdown",
      "metadata": {
        "id": "GwlyACDQY9Dl"
      },
      "source": [
        "- Fazendo por List Comprehension"
      ]
    },
    {
      "cell_type": "code",
      "execution_count": null,
      "metadata": {
        "colab": {
          "base_uri": "https://localhost:8080/"
        },
        "id": "7qs-LzLyY9Do",
        "outputId": "d6b52cfd-bdbd-43ab-fe9f-9db6b11487cf"
      },
      "outputs": [
        {
          "output_type": "stream",
          "name": "stdout",
          "text": [
            "['Maria bonus de 120.00', 'João bonus de 150.00', 'Francisco bonus de 190.00', 'Ana bonus de 275.00', 'Marcos bonus de 110.00', 'Márcia bonus de 111.10']\n"
          ]
        }
      ],
      "source": [
        "bonus = [f'{i} bonus de {vendedores_dic[i] * .1:.2f}' for i in vendedores_dic if vendedores_dic[i] > meta]\n",
        "print(bonus)"
      ]
    }
  ],
  "metadata": {
    "kernelspec": {
      "display_name": "Python 3",
      "language": "python",
      "name": "python3"
    },
    "language_info": {
      "codemirror_mode": {
        "name": "ipython",
        "version": 3
      },
      "file_extension": ".py",
      "mimetype": "text/x-python",
      "name": "python",
      "nbconvert_exporter": "python",
      "pygments_lexer": "ipython3",
      "version": "3.8.3"
    },
    "colab": {
      "provenance": [],
      "include_colab_link": true
    }
  },
  "nbformat": 4,
  "nbformat_minor": 0
}