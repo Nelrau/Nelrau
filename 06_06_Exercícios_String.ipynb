{
  "cells": [
    {
      "cell_type": "markdown",
      "metadata": {
        "id": "view-in-github",
        "colab_type": "text"
      },
      "source": [
        "<a href=\"https://colab.research.google.com/github/Nelrau/python_basic/blob/basic/06_06_Exerc%C3%ADcios_String.ipynb\" target=\"_parent\"><img src=\"https://colab.research.google.com/assets/colab-badge.svg\" alt=\"Open In Colab\"/></a>"
      ]
    },
    {
      "cell_type": "markdown",
      "metadata": {
        "id": "q1X9y3H7nKkH"
      },
      "source": [
        "# Exercícios\n",
        "\n",
        "## 1. Cadastro de CPF\n",
        "\n",
        "Crie um programa para cadastro de CPF de clientes que recebe o CPF em um input box apenas com números.\n",
        "\n",
        "Ex: 'Insira seu CPF (digite apenas números)'\n",
        "\n",
        "Caso o usuário digite algo diferente de números ou digite menos de 11 caracteres (tamanho do CPF brasileiro), o programa deve exibir uma mensagem de \"Digite seu CPF corretamente e digite apenas números\""
      ]
    },
    {
      "cell_type": "code",
      "execution_count": 10,
      "metadata": {
        "id": "yMoxdLDrnKkO",
        "colab": {
          "base_uri": "https://localhost:8080/"
        },
        "outputId": "d99e3e50-c4bf-4ef0-d2a3-ebcdc3a493a7"
      },
      "outputs": [
        {
          "output_type": "stream",
          "name": "stdout",
          "text": [
            "digite seu cpf \"apenas numero\"11111~4444\n",
            "escrita invalida\n"
          ]
        }
      ],
      "source": [
        "cpf = input('digite seu cpf \"apenas numero\"')\n",
        "if 11 == len(cpf) and cpf.isnumeric():\n",
        "  print(cpf)\n",
        "else:\n",
        "  print('escrita invalida')"
      ]
    },
    {
      "cell_type": "markdown",
      "metadata": {
        "id": "0PG1QChUnKkR"
      },
      "source": [
        "## 2. Melhorando nosso Cadastro de CPF\n",
        "\n",
        "Agora, além das validações anteriores, vamos criar um input que permita que o usuário insira pontos, traços e inclusive espaços vazios.\n",
        "\n",
        "Nosso programa deve \"tratar\" o que o usuário inserir para padronizar o CPF dele em apenas números.\n",
        "\n",
        "A verificação de tamanho do CPF com 11 caracteres continua válida, mas ela só deve ser feita depois de retirar todos os pontos, traços e espaços do CPF que o cliente inserir e, uma vez retirados pontos, traços e espaços, devem sobrar apenas números no CPF. Qualquer outro caractere deve ser considerado inválido.\n",
        "\n",
        "No final, nosso programa deve exibir uma mensagem para o usuário, caso ele tenha inserido o CPF inválido ou então apenas deve printar o CPF correto já só com número."
      ]
    },
    {
      "cell_type": "code",
      "execution_count": 12,
      "metadata": {
        "id": "eHp9X7SrnKkU",
        "colab": {
          "base_uri": "https://localhost:8080/"
        },
        "outputId": "726c869b-0450-4563-f4ec-666e1bbff996"
      },
      "outputs": [
        {
          "output_type": "stream",
          "name": "stdout",
          "text": [
            "digite seu cpf \"apenas numero\"000---00011100\n",
            "00000011100\n"
          ]
        }
      ],
      "source": [
        "cpf = input('digite seu cpf \"apenas numero\"')\n",
        "cpf = cpf.strip()\n",
        "cpf = cpf.replace('.', '')\n",
        "cpf = cpf.replace('-', '')\n",
        "if 11 == len(cpf) and cpf.isnumeric():\n",
        "  print(cpf)\n",
        "else:\n",
        "  print('escrita invalida')"
      ]
    },
    {
      "cell_type": "markdown",
      "metadata": {
        "id": "N-65KqAFnKkW"
      },
      "source": [
        "## 3. Cadastro de e-mails\n",
        "\n",
        "- A Hashtag sempre se comunica com seus clientes por e-mail. Para isso, a gente tem em cada página um cadastro de nome e e-mail. Nesse cadastro, nosso sistema verifica se o e-mail que a pessoa inseriu é um e-mail válido, verificando se ele tem '@' e se depois do '@' tem algum ponto, afinal:\n",
        "\n",
        "- liragmail.com NÃO é um e-mail válido\n",
        "- lira@gmail NÃO é um e-mail válido\n",
        "- lira@gmail.com é um e-mail válido\n",
        "\n",
        "Crie um programa que permita o cadastro de nome e e-mail de uma pessoa (por meio de inputs) e que verifique:\n",
        "1. Se nome e e-mail foram preenchidos, caso contrário ele deve avisar para preencher todos os dados corretamente\n",
        "2. Se o e-mail contém '@' e se depois do '@' existe algum '.', caso contrário ele deve exibir uma mensagem de e-mail inválido\n",
        "\n",
        "Obs: Pode te ajudar lembrar do método .find da aula de Métodos de String. Você pode testar o que ele dá como resposta caso ele não encontre um item dentro da string"
      ]
    },
    {
      "cell_type": "code",
      "execution_count": 90,
      "metadata": {
        "id": "s6BUlXp8nKka",
        "colab": {
          "base_uri": "https://localhost:8080/"
        },
        "outputId": "05155e6e-668b-463f-b048-65dfcb7ba5c2"
      },
      "outputs": [
        {
          "output_type": "stream",
          "name": "stdout",
          "text": [
            "email naga@hotmail.com\n",
            "Servidor hotmail.com\n",
            "naga@hotmail.com\n"
          ]
        }
      ],
      "source": [
        "email = 'naga@hotmail.com'\n",
        "\n",
        "if email.find('@') != -1 and email.find('.') != -1:\n",
        "    print(f'email {email}')\n",
        "    servidor = email.find('@')\n",
        "    print(f'Servidor {email[servidor + 1:]}')\n",
        "\n",
        "else:\n",
        "  print('incorreto')\n",
        "\n",
        "if '@' in email and '.' in email:\n",
        "  print(email)\n",
        "else:\n",
        "  print('incorreto')"
      ]
    },
    {
      "cell_type": "code",
      "source": [],
      "metadata": {
        "colab": {
          "base_uri": "https://localhost:8080/"
        },
        "id": "UcCaGsOMDZTu",
        "outputId": "ffb06c2a-b9d5-4b80-fc91-c0cef2d4927b"
      },
      "execution_count": 87,
      "outputs": [
        {
          "output_type": "stream",
          "name": "stdout",
          "text": [
            "10\n"
          ]
        }
      ]
    }
  ],
  "metadata": {
    "kernelspec": {
      "display_name": "Python 3",
      "language": "python",
      "name": "python3"
    },
    "language_info": {
      "codemirror_mode": {
        "name": "ipython",
        "version": 3
      },
      "file_extension": ".py",
      "mimetype": "text/x-python",
      "name": "python",
      "nbconvert_exporter": "python",
      "pygments_lexer": "ipython3",
      "version": "3.8.3"
    },
    "colab": {
      "provenance": [],
      "include_colab_link": true
    }
  },
  "nbformat": 4,
  "nbformat_minor": 0
}