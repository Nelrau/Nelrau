{
  "cells": [
    {
      "cell_type": "markdown",
      "metadata": {
        "id": "view-in-github",
        "colab_type": "text"
      },
      "source": [
        "<a href=\"https://colab.research.google.com/github/Nelrau/python_basic/blob/basic/Exerc%C3%ADcios_Fundamentos_Python.ipynb\" target=\"_parent\"><img src=\"https://colab.research.google.com/assets/colab-badge.svg\" alt=\"Open In Colab\"/></a>"
      ]
    },
    {
      "cell_type": "markdown",
      "id": "677c85ea",
      "metadata": {
        "id": "677c85ea"
      },
      "source": [
        "### 1- Imposto a pagar no Lucro Presumido\n",
        "\n",
        "- 5% sobre faturamento de ISS (mensal)\n",
        "- 0,65% de PIS sobre faturamento, (mensal)\n",
        "- 3% de COFINS sobre faturmaneto, (mensal)\n",
        "- 4.8% de IR (trimestral)\n",
        "- 10% de IR Adicional sobre o que ultrapassar 20mil do faturamento (trimestral)\n",
        "- CSLL: 2,88% sobre faturamento (trimestral)"
      ]
    },
    {
      "cell_type": "code",
      "execution_count": 31,
      "id": "aa56f2ec",
      "metadata": {
        "colab": {
          "base_uri": "https://localhost:8080/"
        },
        "id": "aa56f2ec",
        "outputId": "545d8c8b-e3dd-4be9-9ae5-68bc24980634"
      },
      "outputs": [
        {
          "output_type": "stream",
          "name": "stdout",
          "text": [
            "{'jan': 'faturamento - 95141.98, mensal - 8229.78127, trimestral - 14821.102063999999', 'fev': 'faturamento - 95425.16, mensal - 8254.27634, trimestral - 14871.168288', 'mar': 'faturamento - 89716.31, mensal - 7760.460814999999, trimestral - 13861.843608', 'abr': 'faturamento - 78459.99, mensal - 6786.789135000001, trimestral - 11871.726232', 'mai': 'faturamento - 71087.28, mensal - 6149.04972, trimestral - 10568.231104', 'jun': 'faturamento - 83911.06, mensal - 7258.306689999999, trimestral - 12835.475407999998', 'jul': 'faturamento - 56467.26, mensal - 4884.41799, trimestral - 7983.411568000001', 'ago': 'faturamento - 88513.58, mensal - 7656.42467, trimestral - 13649.200944', 'set': 'faturamento - 66552.49, mensal - 5756.790385, trimestral - 9766.480232000002', 'out': 'faturamento - 80164.07, mensal - 6934.192055000001, trimestral - 12173.007576000002', 'nov': 'faturamento - 66964.33, mensal - 5792.4145450000005, trimestral - 9839.293544', 'dez': 'faturamento - 71525.25, mensal - 6186.934125, trimestral - 10645.664200000001'} \n",
            "\n"
          ]
        }
      ],
      "source": [
        "faturamento = {\n",
        "    'jan': 'R$ 95.141,98',\n",
        "    'fev': 'R$ 95.425,16',\n",
        "    'mar': 'R$ 89.716,31',\n",
        "    'abr': 'R$ 78.459,99',\n",
        "    'mai': 'R$ 71.087,28',\n",
        "    'jun': 'R$ 83.911,06',\n",
        "    'jul': 'R$ 56.467,26',\n",
        "    'ago': 'R$ 88.513,58',\n",
        "    'set': 'R$ 66.552,49',\n",
        "    'out': 'R$ 80.164,07',\n",
        "    'nov': 'R$ 66.964,33',\n",
        "    'dez': 'R$ 71.525,25',\n",
        "}\n",
        "def imposto_mensal(valor):\n",
        "  inss = .05 * valor\n",
        "  pis = .0065 * valor\n",
        "  cofins = .03 * valor\n",
        "  imposto = inss + pis + cofins\n",
        "  return imposto\n",
        "\n",
        "def tratamento(texto):\n",
        "  texto = texto.replace('R$ ','').replace('.','').replace(',','.')\n",
        "  valor = float(texto)\n",
        "  return valor\n",
        "\n",
        "def imposto_trimestral(valor):\n",
        "  ir = .048 * valor\n",
        "  if valor > 20000:\n",
        "    ir_adicional = .1 * (valor - 20000)\n",
        "  else:\n",
        "    ir_adicional = 0\n",
        "  csll = .0288 * valor\n",
        "  imposto =  ir + ir_adicional + csll\n",
        "  return imposto\n",
        "\n",
        "# você precisa inserir no sistema um dicionário no formato:\n",
        "for venda in faturamento:\n",
        "  valor = tratamento(faturamento[venda])\n",
        "  mensal = imposto_mensal(valor)\n",
        "  trimestral = imposto_trimestral(valor)\n",
        "  faturamento[venda] = (f'faturamento - {valor}, mensal - {mensal}, trimestral - {trimestral}')\n",
        "\n",
        "print(faturamento,'\\n')\n",
        "# resultado = {\n",
        "#     'mes': (faturamento, imposto_mensal, imposto_trimestral),\n",
        "# }"
      ]
    },
    {
      "cell_type": "markdown",
      "id": "9718fa37",
      "metadata": {
        "id": "9718fa37"
      },
      "source": [
        "### 2 - Puxando informações de um banco de Dados"
      ]
    },
    {
      "cell_type": "code",
      "execution_count": 56,
      "id": "dcdf9001",
      "metadata": {
        "colab": {
          "base_uri": "https://localhost:8080/"
        },
        "id": "dcdf9001",
        "outputId": "8aa53ae9-bcc1-4289-ddce-2ba63e162c69"
      },
      "outputs": [
        {
          "output_type": "stream",
          "name": "stdout",
          "text": [
            "RH segue a lista de funcionarios: \n",
            "Nome: NATHANIEL FORD       Cargo: GENERAL MANAGER-METROPOLITAN TRANSIT AUTHORITY\n",
            "Nome: GARY JIMENEZ         Cargo: CAPTAIN III (POLICE DEPARTMENT)\n",
            "Nome: ALBERT PARDINI       Cargo: CAPTAIN III (POLICE DEPARTMENT)\n",
            "Nome: CHRISTOPHER CHONG    Cargo: WIRE ROPE CABLE MAINTENANCE MECHANIC\n",
            "Nome: PATRICK GARDNER      Cargo: DEPUTY CHIEF OF DEPARTMENT,(FIRE DEPARTMENT)\n",
            "Nome: DAVID SULLIVAN       Cargo: ASSISTANT DEPUTY CHIEF II\n",
            "Nome: ALSON LEE            Cargo: BATTALION CHIEF, (FIRE DEPARTMENT)\n",
            "Nome: DAVID KUSHNER        Cargo: DEPUTY DIRECTOR OF INVESTMENTS\n",
            "Nome: MICHAEL MORRIS       Cargo: BATTALION CHIEF, (FIRE DEPARTMENT)\n",
            "Nome: JOANNE HAYES-WHITE   Cargo: CHIEF OF DEPARTMENT, (FIRE DEPARTMENT)\n"
          ]
        }
      ],
      "source": [
        "# puxando informações SQL de um banco de dados\n",
        "informacoes = [(1, 'NATHANIEL FORD', 'GENERAL MANAGER-METROPOLITAN TRANSIT AUTHORITY', 167411.18, 0.0, 400184.25, None, 567595.43, 567595.43, 2011, '', 'San Francisco', ''),\n",
        "               (2, 'GARY JIMENEZ', 'CAPTAIN III (POLICE DEPARTMENT)', 155966.02, 245131.88, 137811.38, None, 538909.28, 538909.28, 2011, '', 'San Francisco', ''),\n",
        "               (3, 'ALBERT PARDINI', 'CAPTAIN III (POLICE DEPARTMENT)', 212739.13, 106088.18, 16452.6, None, 335279.91, 335279.91, 2011, '', 'San Francisco', ''),\n",
        "               (4, 'CHRISTOPHER CHONG', 'WIRE ROPE CABLE MAINTENANCE MECHANIC', 77916.0, 56120.71, 198306.9, None, 332343.61, 332343.61, 2011, '', 'San Francisco', ''),\n",
        "               (5, 'PATRICK GARDNER', 'DEPUTY CHIEF OF DEPARTMENT,(FIRE DEPARTMENT)', 134401.6, 9737.0, 182234.59, None, 326373.19, 326373.19, 2011, '', 'San Francisco', ''),\n",
        "               (6, 'DAVID SULLIVAN', 'ASSISTANT DEPUTY CHIEF II', 118602.0, 8601.0, 189082.74, None, 316285.74, 316285.74, 2011, '', 'San Francisco', ''),\n",
        "               (7, 'ALSON LEE', 'BATTALION CHIEF, (FIRE DEPARTMENT)', 92492.01, 89062.9, 134426.14, None, 315981.05, 315981.05, 2011, '', 'San Francisco', ''),\n",
        "               (8, 'DAVID KUSHNER', 'DEPUTY DIRECTOR OF INVESTMENTS', 256576.96, 0.0, 51322.5, None, 307899.46, 307899.46, 2011, '', 'San Francisco', ''),\n",
        "               (9, 'MICHAEL MORRIS', 'BATTALION CHIEF, (FIRE DEPARTMENT)', 176932.64, 86362.68, 40132.23, None, 303427.55, 303427.55, 2011, '', 'San Francisco', ''),\n",
        "               (10, 'JOANNE HAYES-WHITE', 'CHIEF OF DEPARTMENT, (FIRE DEPARTMENT)', 285262.0, 0.0, 17115.73, None, 302377.73, 302377.73, 2011, '', 'San Francisco', '')]\n",
        "descricao = (('Id', \"<class 'int'>\", None, 10, 10, 0, True), ('EmployeeName', \"<class 'str'>\", None, 65536, 65536, 0, True), ('JobTitle', \"<class 'str'>\", None, 65536, 65536, 0, True), ('BasePay', \"<class 'float'>\", None, 54, 54, 0, True), ('OvertimePay', \"<class 'float'>\", None, 54, 54, 0, True), ('OtherPay', \"<class 'float'>\", None, 54, 54, 0, True), ('Benefits', \"<class 'float'>\", None, 54, 54, 0, True), ('TotalPay', \"<class 'float'>\", None, 54, 54, 0, True), ('TotalPayBenefits', \"<class 'float'>\", None, 54, 54, 0, True), ('Year', \"<class 'int'>\", None, 10, 10, 0, True), ('Notes', \"<class 'str'>\", None, 65536, 65536, 0, True), ('Agency', \"<class 'str'>\", None, 65536, 65536, 0, True), ('Status', \"<class 'str'>\", None, 65536, 65536, 0, True))\n",
        "\n",
        "# precisamos 1º de uma lista com o nome das colunas para poder organizar as colunas da nossa tabela:\n",
        "# o nome das colunas está na variável descrição, dê uma olhada.\n",
        "colunas = [nome[0] for nome in descricao]\n",
        "\n",
        "\n",
        "import pandas as pd\n",
        "\n",
        "#tabela = pd.DataFrame.from_records(informacoes)\n",
        "# para acertar nossa tabela, vamos precisar fazer:\n",
        "\n",
        "\n",
        "tabela = pd.DataFrame.from_records(informacoes, columns=colunas) # onde colunas é uma lista com o nome das colunas\n",
        "#display(tabela)\n",
        "\n",
        "texto = 'RH segue a lista de funcionarios: '\n",
        "for registro in informacoes:\n",
        "  nome = registro[1]\n",
        "  cargo = registro[2]\n",
        "  texto = texto + '\\n'f'Nome: {nome:20} Cargo: {cargo}'\n",
        "\n",
        "print(texto)\n",
        "# além disso, precisamos enviar por e-mail para o RH uma lista com o nome e o cargo de cada pessoa da tabela\n",
        "# então você precisa construir o texto do corpo desse email do tipo:\n",
        "\n",
        "# texto = \"\"\"\n",
        "# RH, segue a lista dos funcionários:\n",
        "# Fulano, Cargo: tal\n",
        "# Beltrano, Cargo: isso\n",
        "# \"\"\""
      ]
    },
    {
      "cell_type": "markdown",
      "id": "e9843750",
      "metadata": {
        "id": "e9843750"
      },
      "source": [
        "### 3 - Extração dos links de Download de Vídeos do Vimeo\n",
        "\n",
        "- Precisamos pegar os links em 1080p, 720p e 540p para importar os vídeos para uma nova plataforma"
      ]
    },
    {
      "cell_type": "code",
      "execution_count": null,
      "id": "6c712a8f",
      "metadata": {
        "id": "6c712a8f"
      },
      "outputs": [],
      "source": [
        "# para pegar o dicionario do vimeo, use:\n",
        "from dic import dicionario_vimeo\n",
        "\n",
        "\n",
        "# você precisa chegar em:\n",
        "# videos = [\n",
        "#     {'uri': video_uri, 'nome': nome_video, 'duracao': duracao, 'link540p': link540p, 'link720p': link720p, 'link1080p': link1080p},\n",
        "# ]"
      ]
    }
  ],
  "metadata": {
    "kernelspec": {
      "display_name": "Python 3 (ipykernel)",
      "language": "python",
      "name": "python3"
    },
    "language_info": {
      "codemirror_mode": {
        "name": "ipython",
        "version": 3
      },
      "file_extension": ".py",
      "mimetype": "text/x-python",
      "name": "python",
      "nbconvert_exporter": "python",
      "pygments_lexer": "ipython3",
      "version": "3.9.7"
    },
    "colab": {
      "provenance": [],
      "include_colab_link": true
    }
  },
  "nbformat": 4,
  "nbformat_minor": 5
}