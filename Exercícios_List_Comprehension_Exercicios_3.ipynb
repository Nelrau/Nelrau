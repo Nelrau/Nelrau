{
  "cells": [
    {
      "cell_type": "markdown",
      "metadata": {
        "id": "view-in-github",
        "colab_type": "text"
      },
      "source": [
        "<a href=\"https://colab.research.google.com/github/Nelrau/python_basic/blob/basic/Exerc%C3%ADcios_List_Comprehension_Exercicios_3.ipynb\" target=\"_parent\"><img src=\"https://colab.research.google.com/assets/colab-badge.svg\" alt=\"Open In Colab\"/></a>"
      ]
    },
    {
      "cell_type": "markdown",
      "metadata": {
        "id": "_hqX4qRpTXRw"
      },
      "source": [
        "# Exercícios\n",
        "\n",
        "## 1. Tamanho do Pedido de Compras\n",
        "\n",
        "Nesse exercício vamos avaliar o estoque de uma empresa. Vamos considerar que todos os produtos dessa empresa são comprados em lotes de 500 unidades.\n",
        "\n",
        "- Caso o estoque esteja abaixo de 1000 unidades, devemos fazer um pedido de 500 unidades.\n",
        "- Caso o estoque esteja abaixo de 200 unidades, devemos fazer um pedido de 1000 unidades.\n",
        "\n",
        "Defina o valor a ser pedido de cada produto para enviar ao time de compras."
      ]
    },
    {
      "cell_type": "code",
      "execution_count": 1,
      "metadata": {
        "id": "yjccxaBZTXRy"
      },
      "outputs": [],
      "source": [
        "estoque = [('BSA2199',396),('PPF5239',251),('BSA1212',989),('PPF2154',449),('BEB3410',241),('PPF8999',527),('EMB9591',601),('BSA2006',314),('EMB3604',469),('EMB2070',733),('PPF9018',339),('PPF1468',906),('BSA5819',291),('PPF8666',850),('BEB2983',353),('BEB5877',456),('PPF5008',963),('PPF3877',185),('PPF7321',163),('BSA8833',644),('PPF4980',421),('PPF3063',757),('BSA2089',271),('BSA8398',180),('EMB4622',515),('EMB9814',563),('PPF3784',229),('PPF2398',270),('BEB3211',181),('PPF8655',459),('PPF1874',799),('PPF8789',126),('PPF6324',375),('EMB9290',883),('BSA5516',555),('BSA8451',243),('BSA8213',423)]\n"
      ]
    },
    {
      "cell_type": "code",
      "source": [
        "lista_pedido = [f'pedir 1000 unidades de {pedido}' if q < 200 else f'pedir 500 unidades de {pedido}' for pedido, q in estoque]\n",
        "print(lista_pedido)"
      ],
      "metadata": {
        "colab": {
          "base_uri": "https://localhost:8080/"
        },
        "id": "9J8WNZ8MvUyq",
        "outputId": "9191db69-46cb-489d-bb0e-6efeec65d6a4"
      },
      "execution_count": 19,
      "outputs": [
        {
          "output_type": "stream",
          "name": "stdout",
          "text": [
            "['pedir 500 unidades de BSA2199', 'pedir 500 unidades de PPF5239', 'pedir 500 unidades de BSA1212', 'pedir 500 unidades de PPF2154', 'pedir 500 unidades de BEB3410', 'pedir 500 unidades de PPF8999', 'pedir 500 unidades de EMB9591', 'pedir 500 unidades de BSA2006', 'pedir 500 unidades de EMB3604', 'pedir 500 unidades de EMB2070', 'pedir 500 unidades de PPF9018', 'pedir 500 unidades de PPF1468', 'pedir 500 unidades de BSA5819', 'pedir 500 unidades de PPF8666', 'pedir 500 unidades de BEB2983', 'pedir 500 unidades de BEB5877', 'pedir 500 unidades de PPF5008', 'pedir 1000 unidades de PPF3877', 'pedir 1000 unidades de PPF7321', 'pedir 500 unidades de BSA8833', 'pedir 500 unidades de PPF4980', 'pedir 500 unidades de PPF3063', 'pedir 500 unidades de BSA2089', 'pedir 1000 unidades de BSA8398', 'pedir 500 unidades de EMB4622', 'pedir 500 unidades de EMB9814', 'pedir 500 unidades de PPF3784', 'pedir 500 unidades de PPF2398', 'pedir 1000 unidades de BEB3211', 'pedir 500 unidades de PPF8655', 'pedir 500 unidades de PPF1874', 'pedir 1000 unidades de PPF8789', 'pedir 500 unidades de PPF6324', 'pedir 500 unidades de EMB9290', 'pedir 500 unidades de BSA5516', 'pedir 500 unidades de BSA8451', 'pedir 500 unidades de BSA8213']\n"
          ]
        }
      ]
    },
    {
      "cell_type": "code",
      "source": [
        "for u in lista_pedido:\n",
        "  print(u)"
      ],
      "metadata": {
        "colab": {
          "base_uri": "https://localhost:8080/"
        },
        "id": "nCgHQCJSxTq7",
        "outputId": "e8ffc85e-f02b-4749-991b-d2e067638d2b"
      },
      "execution_count": 20,
      "outputs": [
        {
          "output_type": "stream",
          "name": "stdout",
          "text": [
            "pedir 500 unidades de BSA2199\n",
            "pedir 500 unidades de PPF5239\n",
            "pedir 500 unidades de BSA1212\n",
            "pedir 500 unidades de PPF2154\n",
            "pedir 500 unidades de BEB3410\n",
            "pedir 500 unidades de PPF8999\n",
            "pedir 500 unidades de EMB9591\n",
            "pedir 500 unidades de BSA2006\n",
            "pedir 500 unidades de EMB3604\n",
            "pedir 500 unidades de EMB2070\n",
            "pedir 500 unidades de PPF9018\n",
            "pedir 500 unidades de PPF1468\n",
            "pedir 500 unidades de BSA5819\n",
            "pedir 500 unidades de PPF8666\n",
            "pedir 500 unidades de BEB2983\n",
            "pedir 500 unidades de BEB5877\n",
            "pedir 500 unidades de PPF5008\n",
            "pedir 1000 unidades de PPF3877\n",
            "pedir 1000 unidades de PPF7321\n",
            "pedir 500 unidades de BSA8833\n",
            "pedir 500 unidades de PPF4980\n",
            "pedir 500 unidades de PPF3063\n",
            "pedir 500 unidades de BSA2089\n",
            "pedir 1000 unidades de BSA8398\n",
            "pedir 500 unidades de EMB4622\n",
            "pedir 500 unidades de EMB9814\n",
            "pedir 500 unidades de PPF3784\n",
            "pedir 500 unidades de PPF2398\n",
            "pedir 1000 unidades de BEB3211\n",
            "pedir 500 unidades de PPF8655\n",
            "pedir 500 unidades de PPF1874\n",
            "pedir 1000 unidades de PPF8789\n",
            "pedir 500 unidades de PPF6324\n",
            "pedir 500 unidades de EMB9290\n",
            "pedir 500 unidades de BSA5516\n",
            "pedir 500 unidades de BSA8451\n",
            "pedir 500 unidades de BSA8213\n"
          ]
        }
      ]
    }
  ],
  "metadata": {
    "kernelspec": {
      "display_name": "Python 3",
      "language": "python",
      "name": "python3"
    },
    "language_info": {
      "codemirror_mode": {
        "name": "ipython",
        "version": 3
      },
      "file_extension": ".py",
      "mimetype": "text/x-python",
      "name": "python",
      "nbconvert_exporter": "python",
      "pygments_lexer": "ipython3",
      "version": "3.8.3"
    },
    "colab": {
      "provenance": [],
      "include_colab_link": true
    }
  },
  "nbformat": 4,
  "nbformat_minor": 0
}