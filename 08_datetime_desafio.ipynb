{
  "cells": [
    {
      "cell_type": "markdown",
      "metadata": {
        "id": "view-in-github",
        "colab_type": "text"
      },
      "source": [
        "<a href=\"https://colab.research.google.com/github/Nelrau/python_basic/blob/basic/08_datetime_desafio.ipynb\" target=\"_parent\"><img src=\"https://colab.research.google.com/assets/colab-badge.svg\" alt=\"Open In Colab\"/></a>"
      ]
    },
    {
      "cell_type": "markdown",
      "metadata": {
        "id": "iFdHkU6fJTmw"
      },
      "source": [
        "## Calculando a idade\n",
        "\n",
        "Um usuário fornece sua data de nascimento no formato \"dd/mm/aaaa\". Crie um script Python que calcula a idade do usuário.\n"
      ]
    },
    {
      "cell_type": "code",
      "source": [
        "from datetime import datetime\n",
        "import tkinter as tk"
      ],
      "metadata": {
        "id": "O4o4HBaAJhDX"
      },
      "execution_count": 1,
      "outputs": []
    },
    {
      "cell_type": "code",
      "source": [
        "hoje = datetime.now()\n",
        "print(hoje)"
      ],
      "metadata": {
        "colab": {
          "base_uri": "https://localhost:8080/"
        },
        "id": "0y6kKW2aJ0uT",
        "outputId": "e52214b9-1721-4869-9d60-283990b8a2c9"
      },
      "execution_count": 21,
      "outputs": [
        {
          "output_type": "stream",
          "name": "stdout",
          "text": [
            "2023-09-16 19:01:12.105067\n"
          ]
        }
      ]
    },
    {
      "cell_type": "code",
      "source": [
        "dia = int(input('Dia que nasceu: '))\n",
        "mes = int(input('mes que nasceu: '))\n",
        "ano = int(input('ano que nasceu: '))"
      ],
      "metadata": {
        "colab": {
          "base_uri": "https://localhost:8080/"
        },
        "id": "9b8DAw-PLAfw",
        "outputId": "37108238-af1c-440a-e299-c787429aaf95"
      },
      "execution_count": null,
      "outputs": [
        {
          "name": "stdout",
          "output_type": "stream",
          "text": [
            "Dia que nasceu: 06\n",
            "mes que nasceu: 03\n",
            "ano que nasceu: 1990\n"
          ]
        }
      ]
    },
    {
      "cell_type": "code",
      "source": [
        "dia = int(input('Dia que nasceu: '))\n",
        "mes = int(input('mes que nasceu: '))\n",
        "ano = int(input('ano que nasceu: '))\n",
        "def aniversario(dia, mes, ano):\n",
        "  data_nascimento = datetime(ano,mes,dia)\n",
        "  idade = (hoje - data_nascimento) / 365\n",
        "  return idade\n",
        "\n",
        "idade = aniversario(dia, mes, ano)\n",
        "print(f'Sua idade é - {int(idade.days)}')"
      ],
      "metadata": {
        "colab": {
          "base_uri": "https://localhost:8080/"
        },
        "id": "WhI9QMvELfTg",
        "outputId": "dea5780b-865b-4a98-e4cc-cb2f0abb018e"
      },
      "execution_count": 38,
      "outputs": [
        {
          "output_type": "stream",
          "name": "stdout",
          "text": [
            "Dia que nasceu: 24\n",
            "mes que nasceu: 03\n",
            "ano que nasceu: 1980\n",
            "Seu aniversario é - 43\n"
          ]
        }
      ]
    },
    {
      "cell_type": "markdown",
      "source": [
        "# outra forma de fazer"
      ],
      "metadata": {
        "id": "ehdR9ZskYbHc"
      }
    },
    {
      "cell_type": "code",
      "source": [
        "data_nascimento = input('Data de nascimento: (dd/mm/aaaa) ')"
      ],
      "metadata": {
        "colab": {
          "base_uri": "https://localhost:8080/"
        },
        "id": "XxHWDcTRTu3-",
        "outputId": "402f399e-6c48-4768-8edc-a422deb6650f"
      },
      "execution_count": 27,
      "outputs": [
        {
          "name": "stdout",
          "output_type": "stream",
          "text": [
            "Data de nascimento: (dd/mm/aaaa) 18/10/1982\n"
          ]
        }
      ]
    },
    {
      "cell_type": "code",
      "source": [
        "data_nascimento = datetime.strptime(data_nascimento, '%d/%m/%Y')\n",
        "print(data_nascimento)"
      ],
      "metadata": {
        "colab": {
          "base_uri": "https://localhost:8080/"
        },
        "id": "Aw0OnkFkUCD4",
        "outputId": "617c06b3-7d4f-49ef-8bfa-8606c04a0abf"
      },
      "execution_count": 28,
      "outputs": [
        {
          "output_type": "stream",
          "name": "stdout",
          "text": [
            "1982-10-18 00:00:00\n"
          ]
        }
      ]
    },
    {
      "cell_type": "code",
      "source": [
        "def data_aniversario(dia):\n",
        "\n",
        "  idade = (hoje - dia) / 365\n",
        "  return idade"
      ],
      "metadata": {
        "id": "k1mEM-xoVzYX"
      },
      "execution_count": 29,
      "outputs": []
    },
    {
      "cell_type": "code",
      "source": [
        "idade = data_aniversario(data_nascimento)\n",
        "print(idade.days)"
      ],
      "metadata": {
        "colab": {
          "base_uri": "https://localhost:8080/"
        },
        "id": "QoAicmhtWUoF",
        "outputId": "9c0c92a0-c32d-4408-b857-96a92f33f776"
      },
      "execution_count": 30,
      "outputs": [
        {
          "output_type": "stream",
          "name": "stdout",
          "text": [
            "40\n"
          ]
        }
      ]
    }
  ],
  "metadata": {
    "kernelspec": {
      "display_name": "Python 3 (ipykernel)",
      "language": "python",
      "name": "python3"
    },
    "language_info": {
      "codemirror_mode": {
        "name": "ipython",
        "version": 3
      },
      "file_extension": ".py",
      "mimetype": "text/x-python",
      "name": "python",
      "nbconvert_exporter": "python",
      "pygments_lexer": "ipython3",
      "version": "3.10.11"
    },
    "colab": {
      "provenance": [],
      "include_colab_link": true
    }
  },
  "nbformat": 4,
  "nbformat_minor": 0
}