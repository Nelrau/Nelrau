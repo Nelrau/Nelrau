{
  "cells": [
    {
      "cell_type": "markdown",
      "metadata": {
        "id": "view-in-github",
        "colab_type": "text"
      },
      "source": [
        "<a href=\"https://colab.research.google.com/github/Nelrau/python_basic/blob/basic/Listas_10.ipynb\" target=\"_parent\"><img src=\"https://colab.research.google.com/assets/colab-badge.svg\" alt=\"Open In Colab\"/></a>"
      ]
    },
    {
      "cell_type": "markdown",
      "metadata": {
        "id": "S_3I2YvYm-2H"
      },
      "source": [
        "# Listas de Listas\n",
        "\n",
        "### Estrutura:\n",
        "\n",
        "Cada item de uma lista pode ser qualquer tipo de variável. Inclusive, uma lista.\n",
        "\n",
        "Quando dentro de uma lista temos cada item como sendo uma outra lista, temos uma \"nested list\", ou seja, uma lista de listas.\n",
        "\n",
        "Todas as regras de lista e tudo que vimos até agora funciona exatamente igual, mas vamos ver como isso funciona na prática"
      ]
    },
    {
      "cell_type": "code",
      "execution_count": 4,
      "metadata": {
        "id": "etH71M91m-2W"
      },
      "outputs": [],
      "source": [
        "vendedores = ['Lira', 'João', 'Diego', 'Alon']\n",
        "produtos = ['ipad', 'iphone']\n",
        "vendas = [\n",
        "    [100, 200],\n",
        "    [300, 500],\n",
        "    [50, 1000],\n",
        "    [900, 10],\n",
        "]"
      ]
    },
    {
      "cell_type": "markdown",
      "metadata": {
        "id": "iD-UaSlpm-2c"
      },
      "source": [
        "- Quanto João vendeu de IPad?\n",
        "- Quanto Diego vendeu de IPhone\n",
        "- Qual o total de vendas de IPhone?"
      ]
    },
    {
      "cell_type": "code",
      "execution_count": 11,
      "metadata": {
        "id": "WJR0E33cm-2e",
        "outputId": "ecde5658-78ce-4906-e3c3-665cd87d64c9",
        "colab": {
          "base_uri": "https://localhost:8080/"
        }
      },
      "outputs": [
        {
          "output_type": "stream",
          "name": "stdout",
          "text": [
            "300\n",
            "1000\n",
            "1710\n"
          ]
        }
      ],
      "source": [
        "joao_ipad = vendas[1][0]# lista dentro de lista indice 1 e indece 0\n",
        "print(joao_ipad)\n",
        "\n",
        "diego_ipho = vendas[2][1]\n",
        "print(diego_ipho)\n",
        "\n",
        "total = vendas[0][1] + vendas[1][1] + vendas[2][1] + vendas[3][1]\n",
        "print(total)"
      ]
    },
    {
      "cell_type": "markdown",
      "metadata": {
        "id": "QHqlRvIim-2l"
      },
      "source": [
        "- E se Lira na verdade fez apenas 50 vendas de IPhone, como eu modifico na minha lista o valor de vendas dele?"
      ]
    },
    {
      "cell_type": "code",
      "execution_count": 12,
      "metadata": {
        "id": "-C6IOjXzm-2n",
        "outputId": "9caae69d-105a-44b0-bc38-e8fa82025f1a",
        "colab": {
          "base_uri": "https://localhost:8080/"
        }
      },
      "outputs": [
        {
          "output_type": "stream",
          "name": "stdout",
          "text": [
            "[[100, 50], [300, 500], [50, 1000], [900, 10]]\n"
          ]
        }
      ],
      "source": [
        "vendas[0][1] = 50\n",
        "print(vendas)"
      ]
    },
    {
      "cell_type": "markdown",
      "metadata": {
        "id": "aguRUkf8m-2p"
      },
      "source": [
        "- E se agora eu tenho um novo produto 'mac', como eu adiciono as vendas em cada um dos vendedores?<br>\n",
        "vendas_mac = [10,15,6,70,]"
      ]
    },
    {
      "cell_type": "code",
      "execution_count": 5,
      "metadata": {
        "id": "7H3wHaFem-2r",
        "outputId": "b12d50f5-561f-46a4-8c2b-1b52f5ad6e49",
        "colab": {
          "base_uri": "https://localhost:8080/"
        }
      },
      "outputs": [
        {
          "output_type": "stream",
          "name": "stdout",
          "text": [
            "['ipad', 'iphone', 'mac']\n",
            "[[100, 200, 10], [300, 500, 15], [50, 1000, 6], [900, 10, 70]]\n"
          ]
        }
      ],
      "source": [
        "vendas_mac = [10,15,6,70,]\n",
        "produtos += ['mac']\n",
        "#produtos.append('mac')\n",
        "print(produtos)\n",
        "'''vendas[0].append(vendas_mac[0])\n",
        "vendas[1].append(vendas_mac[1])\n",
        "vendas[2].append(vendas_mac[2])\n",
        "vendas[3].append(vendas_mac[3])'''\n",
        "vendas[0] += [vendas_mac[0]]\n",
        "vendas[1] += [vendas_mac[1]]\n",
        "vendas[2] += [vendas_mac[2]]\n",
        "vendas[3] += [vendas_mac[3]]\n",
        "print(vendas)"
      ]
    }
  ],
  "metadata": {
    "kernelspec": {
      "display_name": "Python 3",
      "language": "python",
      "name": "python3"
    },
    "language_info": {
      "codemirror_mode": {
        "name": "ipython",
        "version": 3
      },
      "file_extension": ".py",
      "mimetype": "text/x-python",
      "name": "python",
      "nbconvert_exporter": "python",
      "pygments_lexer": "ipython3",
      "version": "3.8.3"
    },
    "colab": {
      "provenance": [],
      "include_colab_link": true
    }
  },
  "nbformat": 4,
  "nbformat_minor": 0
}