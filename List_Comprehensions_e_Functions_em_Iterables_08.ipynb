{
  "cells": [
    {
      "cell_type": "markdown",
      "metadata": {
        "id": "view-in-github",
        "colab_type": "text"
      },
      "source": [
        "<a href=\"https://colab.research.google.com/github/Nelrau/python_basic/blob/basic/List_Comprehensions_e_Functions_em_Iterables_08.ipynb\" target=\"_parent\"><img src=\"https://colab.research.google.com/assets/colab-badge.svg\" alt=\"Open In Colab\"/></a>"
      ]
    },
    {
      "cell_type": "markdown",
      "metadata": {
        "id": "0SARbRqg3vOp"
      },
      "source": [
        "# List Comprehension não serve só para criar uma lista, serve para qualquer ação em iterable\n",
        "\n",
        "### Exemplo:"
      ]
    },
    {
      "cell_type": "markdown",
      "metadata": {
        "id": "inzyAO3X3vO6"
      },
      "source": [
        "- Vamos calcular quantos % das vendas o meu top 5 produtos representa das vendas totais"
      ]
    },
    {
      "cell_type": "code",
      "execution_count": 38,
      "metadata": {
        "id": "0aAf0D_y3vO8"
      },
      "outputs": [],
      "source": [
        "produtos = ['coca', 'pepsi', 'guarana', 'skol', 'brahma', 'agua', 'del valle', 'dolly', 'red bull', 'cachaça', 'vinho tinto', 'vodka', 'vinho branco', 'tequila', 'champagne', 'gin', 'guaracamp', 'matte', 'leite de castanha', 'leite', 'jurupinga', 'sprite', 'fanta']\n",
        "vendas = [1200, 300, 800, 1500, 1900, 2750, 400, 20, 23, 70, 90, 80, 1100, 999, 900, 880, 870, 50, 1111, 120, 300, 450, 800]\n",
        "top5 = ['agua', 'brahma', 'skol', 'coca', 'leite de castanha']"
      ]
    },
    {
      "cell_type": "markdown",
      "metadata": {
        "id": "J89PIavd3vPB"
      },
      "source": [
        "- Fazendo por for"
      ]
    },
    {
      "cell_type": "code",
      "execution_count": 65,
      "metadata": {
        "colab": {
          "base_uri": "https://localhost:8080/"
        },
        "id": "pwjncDab3vPD",
        "outputId": "4975526e-9212-44bc-ca2f-dc1fa8a1c35b"
      },
      "outputs": [
        {
          "output_type": "stream",
          "name": "stdout",
          "text": [
            "8461\n",
            "Top 5 representou 50.6% das vendas\n"
          ]
        }
      ],
      "source": [
        "total_top5 = 0\n",
        "for i, produto in enumerate(produtos):\n",
        "  if produto in top5:\n",
        "    total_top5 += vendas[i]\n",
        "\n",
        "print(total_top5)\n",
        "print('Top 5 representou {:0.1%} das vendas'.format(total_top5/sum(vendas)))"
      ]
    },
    {
      "cell_type": "markdown",
      "metadata": {
        "id": "h08kxshq3vPF"
      },
      "source": [
        "- Fazendo por list comprehension"
      ]
    },
    {
      "cell_type": "code",
      "execution_count": 66,
      "metadata": {
        "colab": {
          "base_uri": "https://localhost:8080/"
        },
        "id": "5ReFqyTQ3vPG",
        "outputId": "0dad47be-64b4-4e15-aaf7-af0a4a166ae8"
      },
      "outputs": [
        {
          "output_type": "stream",
          "name": "stdout",
          "text": [
            "8461\n",
            "Top 5 representou 50.6% das vendas\n"
          ]
        }
      ],
      "source": [
        "total_top5 =  sum(vendas[i]for i, produto in enumerate(produtos) if produto in top5)\n",
        "print(total_top5)\n",
        "print('Top 5 representou {:0.1%} das vendas'.format(total_top5/sum(vendas)))"
      ]
    }
  ],
  "metadata": {
    "kernelspec": {
      "display_name": "Python 3",
      "language": "python",
      "name": "python3"
    },
    "language_info": {
      "codemirror_mode": {
        "name": "ipython",
        "version": 3
      },
      "file_extension": ".py",
      "mimetype": "text/x-python",
      "name": "python",
      "nbconvert_exporter": "python",
      "pygments_lexer": "ipython3",
      "version": "3.8.3"
    },
    "colab": {
      "provenance": [],
      "include_colab_link": true
    }
  },
  "nbformat": 4,
  "nbformat_minor": 0
}