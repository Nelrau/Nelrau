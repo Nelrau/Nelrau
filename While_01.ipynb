{
  "cells": [
    {
      "cell_type": "markdown",
      "metadata": {
        "id": "view-in-github",
        "colab_type": "text"
      },
      "source": [
        "<a href=\"https://colab.research.google.com/github/Nelrau/python_basic/blob/basic/While_01.ipynb\" target=\"_parent\"><img src=\"https://colab.research.google.com/assets/colab-badge.svg\" alt=\"Open In Colab\"/></a>"
      ]
    },
    {
      "cell_type": "markdown",
      "metadata": {
        "id": "38KUoOrNRwEj"
      },
      "source": [
        "# Estrutura while:\n",
        "\n",
        "### Funcionamento:\n",
        "\n",
        "Usamos o while quando queremos repetir um código de forma indeterminada até uma condição se tornar verdadeira/falsa.\n",
        "\n",
        "A lógica é: enquanto a condição for verdadeira, o while executa o código. Assim que ela terminar de ser verdadeira, o código \"sai\" do while."
      ]
    },
    {
      "cell_type": "raw",
      "metadata": {
        "id": "r25LNJXkRwEv"
      },
      "source": [
        "while condicao:\n",
        "    repete esse código"
      ]
    },
    {
      "cell_type": "markdown",
      "metadata": {
        "id": "3uaKRBNBRwEx"
      },
      "source": [
        "- Exemplo: Quando criamos automações na internet\n",
        "- Exemplo2: Crie um programa que funcione como o registro de vendas de uma empresa.\n",
        "\n",
        "Nele, a pessoa deve inserir o nome do produto e o produto deve ser adicionado na lista de venda. Enquanto o usuário não encerrar o programa, significa que ele está registrando novos produtos, então o programa deve permitir e entrada de quantos produtos o usuário quiser."
      ]
    },
    {
      "cell_type": "code",
      "execution_count": 6,
      "metadata": {
        "id": "Y1-EWMzeRwE0",
        "outputId": "e53c3b7d-052e-47f2-b6f9-0f9a55cb3e05",
        "colab": {
          "base_uri": "https://localhost:8080/"
        }
      },
      "outputs": [
        {
          "output_type": "stream",
          "name": "stdout",
          "text": [
            "Registre um produto. Para cancelar o registro de um novo produto, basta apertar enter com a caixa vazia:  arroz\n",
            "Registre um produto. Para cancelar o registro de um novo produto, basta apertar enter com a caixa vazia: pera\n",
            "Registre um produto. Para cancelar o registro de um novo produto, basta apertar enter com a caixa vazia: feijao\n",
            "Registre um produto. Para cancelar o registro de um novo produto, basta apertar enter com a caixa vazia: \n",
            "Registro Finalizado. As vendas cadastradas foram: [' arroz', 'pera', 'feijao', '']\n"
          ]
        }
      ],
      "source": [
        "\n",
        "vendas = []\n",
        "#crie aqui o programa\n",
        "while venda != '':\n",
        "  venda = input('Registre um produto. Para cancelar o registro de um novo produto, basta apertar enter com a caixa vazia: ')\n",
        "  vendas.append(venda)\n",
        "\n",
        "print('Registro Finalizado. As vendas cadastradas foram: {}'.format(vendas))"
      ]
    }
  ],
  "metadata": {
    "kernelspec": {
      "display_name": "Python 3",
      "language": "python",
      "name": "python3"
    },
    "language_info": {
      "codemirror_mode": {
        "name": "ipython",
        "version": 3
      },
      "file_extension": ".py",
      "mimetype": "text/x-python",
      "name": "python",
      "nbconvert_exporter": "python",
      "pygments_lexer": "ipython3",
      "version": "3.8.3"
    },
    "colab": {
      "provenance": [],
      "include_colab_link": true
    }
  },
  "nbformat": 4,
  "nbformat_minor": 0
}