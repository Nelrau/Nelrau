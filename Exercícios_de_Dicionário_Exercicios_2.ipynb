{
  "cells": [
    {
      "cell_type": "markdown",
      "metadata": {
        "id": "view-in-github",
        "colab_type": "text"
      },
      "source": [
        "<a href=\"https://colab.research.google.com/github/Nelrau/python_basic/blob/basic/Exerc%C3%ADcios_de_Dicion%C3%A1rio_Exercicios_2.ipynb\" target=\"_parent\"><img src=\"https://colab.research.google.com/assets/colab-badge.svg\" alt=\"Open In Colab\"/></a>"
      ]
    },
    {
      "cell_type": "markdown",
      "metadata": {
        "id": "hcC1g6r0E4rC"
      },
      "source": [
        "# Exercícios\n",
        "\n",
        "## 1. Exercício \"menos prático\" para treinar manipulação de dicionário\n",
        "\n",
        "Dessa vez, vamos apenas treinar a manipulação de dicionário. Transforme as listas abaixo em 1 único dicionário no formato:"
      ]
    },
    {
      "cell_type": "raw",
      "metadata": {
        "id": "SnjjqroHE4rW"
      },
      "source": [
        "dicionario = {\n",
        "    produto: [vendas2019, vendas2020],\n",
        "    produto2: [vendas2019, vendas2020],\n",
        "    produto3: [vendas2019, vendas2020],\n",
        "    ...\n",
        "}"
      ]
    },
    {
      "cell_type": "markdown",
      "metadata": {
        "id": "viqNbGz0E4rY"
      },
      "source": [
        "- Apesar de parecer \"menos prático\" esse é um procedimento que precisamos nos acostumar a fazer, visto que algumas funções (tema dos próximos módulos) precisam de dicionários para funcionar e saber transformar listas em dicionários (e vice-versa) é uma habilidade muito útil\n",
        "\n",
        "Obs: Lembre do zip para juntar listas.<br>\n",
        "Obs2: Repare que cada item das vendas é na verdade uma lista. Então é provável que você precise fazer esse código em 2 etapas"
      ]
    },
    {
      "cell_type": "code",
      "execution_count": 61,
      "metadata": {
        "colab": {
          "base_uri": "https://localhost:8080/"
        },
        "id": "NXGbmW9YE4rd",
        "outputId": "66a792d4-c207-4ab9-abdf-7c0127a05c4d"
      },
      "outputs": [
        {
          "output_type": "stream",
          "name": "stdout",
          "text": [
            "((558147, 951642), (712350, 244295), (573823, 26964), (405252, 787604), (718654, 867660), (531580, 78830), (973139, 710331), (892292, 646016), (422760, 694913), (154753, 539704), (887061, 324831), (438508, 667179), (237467, 295633), (489705, 725316), (328311, 644622), (591120, 994303))\n",
            "{'iphone': (558147, 951642), 'galaxy': (712350, 244295), 'ipad': (573823, 26964), 'tv': (405252, 787604), 'máquina de café': (718654, 867660), 'kindle': (531580, 78830), 'geladeira': (973139, 710331), 'adega': (892292, 646016), 'notebook dell': (422760, 694913), 'notebook hp': (154753, 539704), 'notebook asus': (887061, 324831), 'microsoft surface': (438508, 667179), 'webcam': (237467, 295633), 'caixa de som': (489705, 725316), 'microfone': (328311, 644622), 'câmera canon': (591120, 994303)}\n"
          ]
        }
      ],
      "source": [
        "from textwrap import indent\n",
        "from typing import Counter\n",
        "produtos = ['iphone', 'galaxy', 'ipad', 'tv', 'máquina de café', 'kindle', 'geladeira', 'adega', 'notebook dell', 'notebook hp', 'notebook asus', 'microsoft surface', 'webcam', 'caixa de som', 'microfone', 'câmera canon']\n",
        "vendas2019 = [558147,712350,573823,405252,718654,531580,973139,892292,422760,154753,887061,438508,237467,489705,328311,591120]\n",
        "vendas2020 = [951642,244295,26964,787604,867660,78830,710331,646016,694913,539704,324831,667179,295633,725316,644622,994303]\n",
        "\n",
        "#seu código aqui\n",
        "vendas = tuple(zip(vendas2019, vendas2020))\n",
        "dicionario = dict(zip(produtos, vendas))\n",
        "print(vendas)\n",
        "print(dicionario)"
      ]
    },
    {
      "cell_type": "code",
      "source": [
        "dicionario = {}\n",
        "dicionario = dicionario.fromkeys(produtos)\n",
        "c = 0\n",
        "for item in dicionario:\n",
        "  dicionario[item] = [vendas2019[c], vendas2020[c]]\n",
        "  c += 1\n",
        "for i in dicionario:\n",
        "  print(f'{i} - {dicionario[i]}')"
      ],
      "metadata": {
        "id": "gXr0cfcPZZVg"
      },
      "execution_count": null,
      "outputs": []
    }
  ],
  "metadata": {
    "kernelspec": {
      "display_name": "Python 3",
      "language": "python",
      "name": "python3"
    },
    "language_info": {
      "codemirror_mode": {
        "name": "ipython",
        "version": 3
      },
      "file_extension": ".py",
      "mimetype": "text/x-python",
      "name": "python",
      "nbconvert_exporter": "python",
      "pygments_lexer": "ipython3",
      "version": "3.8.3"
    },
    "colab": {
      "provenance": [],
      "include_colab_link": true
    }
  },
  "nbformat": 4,
  "nbformat_minor": 0
}