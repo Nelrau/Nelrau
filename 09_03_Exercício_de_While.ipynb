{
  "cells": [
    {
      "cell_type": "markdown",
      "metadata": {
        "id": "view-in-github",
        "colab_type": "text"
      },
      "source": [
        "<a href=\"https://colab.research.google.com/github/Nelrau/python_basic/blob/basic/09_03_Exerc%C3%ADcio_de_While.ipynb\" target=\"_parent\"><img src=\"https://colab.research.google.com/assets/colab-badge.svg\" alt=\"Open In Colab\"/></a>"
      ]
    },
    {
      "cell_type": "markdown",
      "metadata": {
        "id": "83msnUPIaADo"
      },
      "source": [
        "# Exercícios\n",
        "\n",
        "## 1. Input até o usuário parar\n",
        "\n",
        "Vamos criar um sistema de vendas. Nosso programa deve registrar os produtos e as quantidades (2 inputs) e adicionar em uma lista.\n",
        "\n",
        "O programa deve continuar rodando até o input ser vazio, ou seja, o usuário apertar enter sem digitar nenhum produto ou quantidade.\n",
        "\n",
        "Ao final do programa, ele deve printar todos os produtos e quantidades vendidas.\n",
        "\n",
        "Obs: Caso queira, para o print ficar mais visual, pode usar o join para cada item ser printado em uma linha.\n",
        "Sugestão para sua lista de produtos vendidos:"
      ]
    },
    {
      "cell_type": "raw",
      "metadata": {
        "id": "8HBWaRg3aAD2"
      },
      "source": [
        "vendas = [\n",
        "    ['maçã', 5],\n",
        "    ['banana', 15],\n",
        "    ['azeite', 1],\n",
        "    ['vinho', 3],\n",
        "]"
      ]
    },
    {
      "cell_type": "code",
      "execution_count": 8,
      "metadata": {
        "id": "d78zBCHQaAD5",
        "outputId": "afa66400-7542-42b6-d7b6-3e65a92005d2",
        "colab": {
          "base_uri": "https://localhost:8080/",
          "height": 283
        }
      },
      "outputs": [
        {
          "name": "stdout",
          "output_type": "stream",
          "text": [
            "Qual produto? pera\n",
            "quantidada: 10\n"
          ]
        },
        {
          "output_type": "error",
          "ename": "AttributeError",
          "evalue": "ignored",
          "traceback": [
            "\u001b[0;31m---------------------------------------------------------------------------\u001b[0m",
            "\u001b[0;31mAttributeError\u001b[0m                            Traceback (most recent call last)",
            "\u001b[0;32m<ipython-input-8-e86e18721a32>\u001b[0m in \u001b[0;36m<cell line: 3>\u001b[0;34m()\u001b[0m\n\u001b[1;32m      6\u001b[0m     \u001b[0;32mbreak\u001b[0m\u001b[0;34m\u001b[0m\u001b[0;34m\u001b[0m\u001b[0m\n\u001b[1;32m      7\u001b[0m   \u001b[0mqtd\u001b[0m \u001b[0;34m=\u001b[0m \u001b[0mint\u001b[0m\u001b[0;34m(\u001b[0m\u001b[0minput\u001b[0m\u001b[0;34m(\u001b[0m\u001b[0;34m'quantidada: '\u001b[0m\u001b[0;34m)\u001b[0m\u001b[0;34m)\u001b[0m\u001b[0;34m\u001b[0m\u001b[0;34m\u001b[0m\u001b[0m\n\u001b[0;32m----> 8\u001b[0;31m   \u001b[0mmercadoria\u001b[0m\u001b[0;34m.\u001b[0m\u001b[0mappend\u001b[0m\u001b[0;34m(\u001b[0m\u001b[0;34m[\u001b[0m\u001b[0mproduto\u001b[0m\u001b[0;34m,\u001b[0m \u001b[0mqtd\u001b[0m\u001b[0;34m]\u001b[0m\u001b[0;34m)\u001b[0m\u001b[0;34m\u001b[0m\u001b[0;34m\u001b[0m\u001b[0m\n\u001b[0m\u001b[1;32m      9\u001b[0m \u001b[0;34m\u001b[0m\u001b[0m\n\u001b[1;32m     10\u001b[0m print(mercadoria\n",
            "\u001b[0;31mAttributeError\u001b[0m: 'str' object has no attribute 'append'"
          ]
        }
      ],
      "source": [
        "#seu código aqui\n",
        "mercadoria = []\n",
        "while True:\n",
        "  produto = input('Qual produto? ')\n",
        "  if not produto:\n",
        "    break\n",
        "  qtd = int(input('quantidada: '))\n",
        "  mercadoria.append([produto, qtd])\n",
        "\n",
        "print(mercadoria\n",
        "      )"
      ]
    },
    {
      "cell_type": "markdown",
      "metadata": {
        "id": "Ay2FTJiFaAD9"
      },
      "source": [
        "### Obs: Podemos fazer o While de 2 maneiras:\n",
        "\n",
        "1. While com a condição que finalize o programa\n",
        "2. While rodando para sempre, mas com uma condição dentro do while que dê um break no código.\n",
        "\n",
        "Vamos mostrar as 2 opções"
      ]
    }
  ],
  "metadata": {
    "kernelspec": {
      "display_name": "Python 3",
      "language": "python",
      "name": "python3"
    },
    "language_info": {
      "codemirror_mode": {
        "name": "ipython",
        "version": 3
      },
      "file_extension": ".py",
      "mimetype": "text/x-python",
      "name": "python",
      "nbconvert_exporter": "python",
      "pygments_lexer": "ipython3",
      "version": "3.8.3"
    },
    "colab": {
      "provenance": [],
      "include_colab_link": true
    }
  },
  "nbformat": 4,
  "nbformat_minor": 0
}