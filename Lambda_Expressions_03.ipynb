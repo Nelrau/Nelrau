{
  "cells": [
    {
      "cell_type": "markdown",
      "metadata": {
        "id": "view-in-github",
        "colab_type": "text"
      },
      "source": [
        "<a href=\"https://colab.research.google.com/github/Nelrau/python_basic/blob/basic/Lambda_Expressions_03.ipynb\" target=\"_parent\"><img src=\"https://colab.research.google.com/assets/colab-badge.svg\" alt=\"Open In Colab\"/></a>"
      ]
    },
    {
      "cell_type": "markdown",
      "metadata": {
        "id": "HKkQ-120ui9a"
      },
      "source": [
        "# Lambda Expressions para gerar funções\n",
        "\n",
        "### Descrição\n",
        "\n",
        "- Uma das aplicações de lambda expressions, além da vista na aula passada, é criar um \"gerador de funções\". Nesse caso, usaremos a lambda expressions dentro da definição de uma outra função\n",
        "\n",
        "### Exemplo:\n",
        "\n",
        "1. Vamos criar uma função que me permita calcular o valor acrescido do imposto de diferentes categorias (produto, serviço, royalties, etc.)"
      ]
    },
    {
      "cell_type": "code",
      "execution_count": 12,
      "metadata": {
        "colab": {
          "base_uri": "https://localhost:8080/"
        },
        "id": "T79rfpq6ui9t",
        "outputId": "141984cb-a21b-438a-d5cb-8991da0c9338"
      },
      "outputs": [
        {
          "output_type": "stream",
          "name": "stdout",
          "text": [
            "110.00000000000001\n",
            "114.99999999999999\n",
            "125.0\n"
          ]
        }
      ],
      "source": [
        "def calcularproduto(preco):\n",
        "  return preco * produto\n",
        "produto  = 1 + 0.1\n",
        "def calcularservicos(preco):\n",
        "  return preco * serviço\n",
        "serviço  = 1 + 0.15\n",
        "def calcularoyalites(preco):\n",
        "  return preco * royalties\n",
        "royalties = 1 + 0.25\n",
        "\n",
        "print(calcularproduto(100))\n",
        "print(calcularservicos(100))\n",
        "print(calcularoyalites(100))"
      ]
    },
    {
      "cell_type": "markdown",
      "metadata": {
        "id": "HvGoapoBui9z"
      },
      "source": [
        "- Agora vamos definir as funções que calculam o imposto das 3 categorias (produto, serviço, royalties)"
      ]
    },
    {
      "cell_type": "code",
      "execution_count": 13,
      "metadata": {
        "id": "sgSIv1evui91",
        "colab": {
          "base_uri": "https://localhost:8080/"
        },
        "outputId": "31bcdb3e-3e5b-4976-848d-ec9e32c8a942"
      },
      "outputs": [
        {
          "output_type": "stream",
          "name": "stdout",
          "text": [
            "110.00000000000001 114.99999999999999 125.0\n"
          ]
        }
      ],
      "source": [
        "def calcularimposto(imposto):\n",
        "  return lambda preco: (imposto + 1) * preco\n",
        "\n",
        "calcula_produto = calcularimposto(.1)\n",
        "calcula_servico = calcularimposto(.15)\n",
        "calcula_royalites = calcularimposto(.25)\n",
        "print(calcula_produto(100),\n",
        "      calcula_servico(100),\n",
        "      calcula_royalites(100))"
      ]
    },
    {
      "cell_type": "markdown",
      "metadata": {
        "id": "hFSLr8Igui93"
      },
      "source": [
        "- Agora vamos aplicar com um valor de nota fiscal de 100 para ver o resultado"
      ]
    },
    {
      "cell_type": "code",
      "execution_count": 14,
      "metadata": {
        "id": "Wc63Z7mFui95",
        "colab": {
          "base_uri": "https://localhost:8080/",
          "height": 379
        },
        "outputId": "c810ad82-f101-4fa1-e5b9-f61288d76144"
      },
      "outputs": [
        {
          "output_type": "error",
          "ename": "TypeError",
          "evalue": "ignored",
          "traceback": [
            "\u001b[0;31m---------------------------------------------------------------------------\u001b[0m",
            "\u001b[0;31mTypeError\u001b[0m                                 Traceback (most recent call last)",
            "\u001b[0;32m<ipython-input-14-553f4ad2db26>\u001b[0m in \u001b[0;36m<cell line: 4>\u001b[0;34m()\u001b[0m\n\u001b[1;32m      2\u001b[0m \u001b[0mpreco\u001b[0m \u001b[0;34m=\u001b[0m \u001b[0;32mlambda\u001b[0m \u001b[0mpreco\u001b[0m\u001b[0;34m:\u001b[0m \u001b[0mpreco\u001b[0m\u001b[0;34m\u001b[0m\u001b[0;34m\u001b[0m\u001b[0m\n\u001b[1;32m      3\u001b[0m \u001b[0;34m\u001b[0m\u001b[0m\n\u001b[0;32m----> 4\u001b[0;31m \u001b[0mcarcula_produto\u001b[0m \u001b[0;34m=\u001b[0m \u001b[0mimposto\u001b[0m\u001b[0;34m(\u001b[0m\u001b[0;36m0.1\u001b[0m\u001b[0;34m)\u001b[0m\u001b[0;34m\u001b[0m\u001b[0;34m\u001b[0m\u001b[0m\n\u001b[0m\u001b[1;32m      5\u001b[0m \u001b[0mcalcula_servicos\u001b[0m \u001b[0;34m=\u001b[0m \u001b[0mimposto\u001b[0m\u001b[0;34m(\u001b[0m\u001b[0;36m.15\u001b[0m\u001b[0;34m)\u001b[0m\u001b[0;34m\u001b[0m\u001b[0;34m\u001b[0m\u001b[0m\n\u001b[1;32m      6\u001b[0m \u001b[0mcalcula_royalite\u001b[0m \u001b[0;34m=\u001b[0m \u001b[0mimposto\u001b[0m\u001b[0;34m(\u001b[0m\u001b[0;36m.25\u001b[0m\u001b[0;34m)\u001b[0m\u001b[0;34m\u001b[0m\u001b[0;34m\u001b[0m\u001b[0m\n",
            "\u001b[0;32m<ipython-input-14-553f4ad2db26>\u001b[0m in \u001b[0;36m<lambda>\u001b[0;34m(imposto)\u001b[0m\n\u001b[0;32m----> 1\u001b[0;31m \u001b[0mimposto\u001b[0m \u001b[0;34m=\u001b[0m \u001b[0;32mlambda\u001b[0m \u001b[0mimposto\u001b[0m\u001b[0;34m:\u001b[0m \u001b[0mimposto\u001b[0m \u001b[0;34m+\u001b[0m  \u001b[0;36m1\u001b[0m \u001b[0;34m*\u001b[0m \u001b[0mpreco\u001b[0m\u001b[0;34m\u001b[0m\u001b[0;34m\u001b[0m\u001b[0m\n\u001b[0m\u001b[1;32m      2\u001b[0m \u001b[0mpreco\u001b[0m \u001b[0;34m=\u001b[0m \u001b[0;32mlambda\u001b[0m \u001b[0mpreco\u001b[0m\u001b[0;34m:\u001b[0m \u001b[0mpreco\u001b[0m\u001b[0;34m\u001b[0m\u001b[0;34m\u001b[0m\u001b[0m\n\u001b[1;32m      3\u001b[0m \u001b[0;34m\u001b[0m\u001b[0m\n\u001b[1;32m      4\u001b[0m \u001b[0mcarcula_produto\u001b[0m \u001b[0;34m=\u001b[0m \u001b[0mimposto\u001b[0m\u001b[0;34m(\u001b[0m\u001b[0;36m0.1\u001b[0m\u001b[0;34m)\u001b[0m\u001b[0;34m\u001b[0m\u001b[0;34m\u001b[0m\u001b[0m\n\u001b[1;32m      5\u001b[0m \u001b[0mcalcula_servicos\u001b[0m \u001b[0;34m=\u001b[0m \u001b[0mimposto\u001b[0m\u001b[0;34m(\u001b[0m\u001b[0;36m.15\u001b[0m\u001b[0;34m)\u001b[0m\u001b[0;34m\u001b[0m\u001b[0;34m\u001b[0m\u001b[0m\n",
            "\u001b[0;31mTypeError\u001b[0m: unsupported operand type(s) for *: 'int' and 'function'"
          ]
        }
      ],
      "source": []
    },
    {
      "cell_type": "markdown",
      "metadata": {
        "id": "oHThlXTfui96"
      },
      "source": [
        "### É menos usado do que a forma anterior que vimos, mas pode ser útil caso queira criar funções que possam ser adaptadas como vimos aqui"
      ]
    }
  ],
  "metadata": {
    "kernelspec": {
      "display_name": "Python 3",
      "language": "python",
      "name": "python3"
    },
    "language_info": {
      "codemirror_mode": {
        "name": "ipython",
        "version": 3
      },
      "file_extension": ".py",
      "mimetype": "text/x-python",
      "name": "python",
      "nbconvert_exporter": "python",
      "pygments_lexer": "ipython3",
      "version": "3.8.3"
    },
    "colab": {
      "provenance": [],
      "include_colab_link": true
    }
  },
  "nbformat": 4,
  "nbformat_minor": 0
}