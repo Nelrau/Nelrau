{
  "cells": [
    {
      "cell_type": "markdown",
      "metadata": {
        "id": "view-in-github",
        "colab_type": "text"
      },
      "source": [
        "<a href=\"https://colab.research.google.com/github/Nelrau/python_basic/blob/basic/Lambda_Expressions_02.ipynb\" target=\"_parent\"><img src=\"https://colab.research.google.com/assets/colab-badge.svg\" alt=\"Open In Colab\"/></a>"
      ]
    },
    {
      "cell_type": "markdown",
      "metadata": {
        "id": "Nu0wzY10KfHx"
      },
      "source": [
        "# Principal Aplicação de Lambda Expressions\n",
        "\n",
        "### Usar lambda como argumento de alguma outra função, como map e filter"
      ]
    },
    {
      "cell_type": "code",
      "execution_count": 1,
      "metadata": {
        "id": "V_pu-o6fKfIC"
      },
      "outputs": [],
      "source": [
        "preco_tecnologia = {'notebook asus': 2450, 'iphone': 4500, 'samsung galaxy': 3000, 'tv samsung': 1000, 'ps5': 3000, 'tablet': 1000, 'notebook dell': 3000, 'ipad': 3000, 'tv philco': 800, 'notebook hp': 1700}"
      ]
    },
    {
      "cell_type": "markdown",
      "metadata": {
        "id": "Ig4FOaTOKfIG"
      },
      "source": [
        "### map()\n",
        "- Queremos saber o preço de cada produto adicionando o valor do imposto de 30% sobre o valor do produto"
      ]
    },
    {
      "cell_type": "code",
      "execution_count": 7,
      "metadata": {
        "colab": {
          "base_uri": "https://localhost:8080/"
        },
        "id": "1fqC3RqpKfIJ",
        "outputId": "dfd1b06b-7b96-405c-e2db-af1e46dcf16c"
      },
      "outputs": [
        {
          "output_type": "stream",
          "name": "stdout",
          "text": [
            "[3185.0, 5850.0, 3900.0, 1300.0, 3900.0, 1300.0, 3900.0, 3900.0, 1040.0, 2210.0]\n"
          ]
        }
      ],
      "source": [
        "#Fazendo por function\n",
        "def calcular(preco):\n",
        "  return preco * 1.3\n",
        "\n",
        "valor = list(map(calcular, preco_tecnologia.values()))\n",
        "print(valor)"
      ]
    },
    {
      "cell_type": "code",
      "execution_count": 9,
      "metadata": {
        "colab": {
          "base_uri": "https://localhost:8080/"
        },
        "id": "GlrrvUfwKfIM",
        "outputId": "51e50319-60a2-482d-8c84-89dc9150b9d0"
      },
      "outputs": [
        {
          "output_type": "stream",
          "name": "stdout",
          "text": [
            "[3185.0, 5850.0, 3900.0, 1300.0, 3900.0, 1300.0, 3900.0, 3900.0, 1040.0, 2210.0]\n"
          ]
        }
      ],
      "source": [
        "#fazendo por lambda\n",
        "imp_valor = list(map(lambda preco: preco * 1.3,preco_tecnologia.values()))\n",
        "print(imp_valor)"
      ]
    },
    {
      "cell_type": "markdown",
      "metadata": {
        "id": "SQn-TslNKfIN"
      },
      "source": [
        "### filter()\n",
        "- Queremos apenas os produtos que custam acima de 2000"
      ]
    },
    {
      "cell_type": "raw",
      "metadata": {
        "id": "7BuxzjOLKfIP"
      },
      "source": [
        "filter(função, iterable) -> retorna como resposta todos os itens do iterable onde a função é True"
      ]
    },
    {
      "cell_type": "code",
      "execution_count": 3,
      "metadata": {
        "colab": {
          "base_uri": "https://localhost:8080/"
        },
        "id": "DTs-_xGdKfIQ",
        "outputId": "ce8d1c99-7bb7-473f-98ab-0771a7ad5fa6"
      },
      "outputs": [
        {
          "output_type": "stream",
          "name": "stdout",
          "text": [
            "[('notebook asus', 2450), ('iphone', 4500), ('samsung galaxy', 3000), ('ps5', 3000), ('notebook dell', 3000), ('ipad', 3000)]\n"
          ]
        }
      ],
      "source": [
        "#fazendo por function\n",
        "#print(preco_tecnologia.items())\n",
        "def item2000(item):\n",
        "  return item[1] > 2000\n",
        "\n",
        "i2000 = list(filter(item2000, preco_tecnologia.items()))\n",
        "print(i2000)"
      ]
    },
    {
      "cell_type": "code",
      "execution_count": 4,
      "metadata": {
        "colab": {
          "base_uri": "https://localhost:8080/"
        },
        "id": "lyGYBRiYKfIT",
        "outputId": "71544df1-2828-43d6-8b85-bc3805d2904c"
      },
      "outputs": [
        {
          "output_type": "stream",
          "name": "stdout",
          "text": [
            "[('notebook asus', 2450), ('iphone', 4500), ('samsung galaxy', 3000), ('ps5', 3000), ('notebook dell', 3000), ('ipad', 3000)]\n"
          ]
        }
      ],
      "source": [
        "#fazendo por lambda\n",
        "it = list(filter(lambda item: item[1] > 2000, preco_tecnologia.items()))\n",
        "print(it)"
      ]
    }
  ],
  "metadata": {
    "kernelspec": {
      "display_name": "Python 3",
      "language": "python",
      "name": "python3"
    },
    "language_info": {
      "codemirror_mode": {
        "name": "ipython",
        "version": 3
      },
      "file_extension": ".py",
      "mimetype": "text/x-python",
      "name": "python",
      "nbconvert_exporter": "python",
      "pygments_lexer": "ipython3",
      "version": "3.8.3"
    },
    "colab": {
      "provenance": [],
      "include_colab_link": true
    }
  },
  "nbformat": 4,
  "nbformat_minor": 0
}