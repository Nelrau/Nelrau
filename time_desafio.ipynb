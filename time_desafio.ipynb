{
  "cells": [
    {
      "cell_type": "markdown",
      "metadata": {
        "id": "view-in-github",
        "colab_type": "text"
      },
      "source": [
        "<a href=\"https://colab.research.google.com/github/Nelrau/python_basic/blob/basic/time_desafio.ipynb\" target=\"_parent\"><img src=\"https://colab.research.google.com/assets/colab-badge.svg\" alt=\"Open In Colab\"/></a>"
      ]
    },
    {
      "cell_type": "markdown",
      "metadata": {
        "id": "E-wFUTSWEy6k"
      },
      "source": [
        "## Tempo até o próximo ano\n",
        "\n",
        "Crie um script Python que calcula quantos dias, horas, minutos e segundos faltam até o próximo Ano Novo.\n",
        "\n"
      ]
    },
    {
      "cell_type": "markdown",
      "metadata": {
        "tags": [],
        "id": "XJx2-AMMEy6u"
      },
      "source": [
        "Lembrar da tupla de struct_time: https://docs.python.org/3/library/time.html#time.struct_time"
      ]
    },
    {
      "cell_type": "code",
      "execution_count": 1,
      "metadata": {
        "tags": [],
        "colab": {
          "base_uri": "https://localhost:8080/"
        },
        "id": "qywwJB9fEy6x",
        "outputId": "f8f3d629-96c2-459d-fdfe-ecc35488eeea"
      },
      "outputs": [
        {
          "output_type": "stream",
          "name": "stdout",
          "text": [
            "Segundos em um minuto: 60 s\n",
            "Segundos em uma hora: 3600 s\n",
            "Segundos em um dia: 86400 s\n"
          ]
        }
      ],
      "source": [
        "# lembrando\n",
        "\n",
        "segundos_por_minuto = 60\n",
        "segundos_por_hora = 60 * 60\n",
        "segundos_por_dia = 24 * 60 * 60\n",
        "\n",
        "print(f\"Segundos em um minuto: {segundos_por_minuto} s\")\n",
        "print(f\"Segundos em uma hora: {segundos_por_hora} s\")\n",
        "print(f\"Segundos em um dia: {segundos_por_dia} s\")"
      ]
    },
    {
      "cell_type": "markdown",
      "metadata": {
        "tags": [],
        "id": "2D6NyR5LEy63"
      },
      "source": [
        "Lembrando de divisão:\n",
        "\n",
        "![divisao](https://escolaeducacao.com.br/wp-content/uploads/2020/01/algoritmo-divisao.png)"
      ]
    },
    {
      "cell_type": "code",
      "execution_count": 54,
      "metadata": {
        "colab": {
          "base_uri": "https://localhost:8080/",
          "height": 307
        },
        "id": "4pJayqFWEy65",
        "outputId": "a5f5c0e7-b546-4b22-9664-25c2f2124e64"
      },
      "outputs": [
        {
          "output_type": "stream",
          "name": "stdout",
          "text": [
            " Tue Apr 21 04:38:54 1970\n",
            " Tue Apr 21 04:38:53 1970\n",
            " Tue Apr 21 04:38:52 1970\n"
          ]
        },
        {
          "output_type": "error",
          "ename": "KeyboardInterrupt",
          "evalue": "ignored",
          "traceback": [
            "\u001b[0;31m---------------------------------------------------------------------------\u001b[0m",
            "\u001b[0;31mKeyboardInterrupt\u001b[0m                         Traceback (most recent call last)",
            "\u001b[0;32m<ipython-input-54-40171d71b766>\u001b[0m in \u001b[0;36m<cell line: 2>\u001b[0;34m()\u001b[0m\n\u001b[1;32m      1\u001b[0m \u001b[0;32mfrom\u001b[0m \u001b[0mtime\u001b[0m \u001b[0;32mimport\u001b[0m \u001b[0;34m*\u001b[0m\u001b[0;34m\u001b[0m\u001b[0;34m\u001b[0m\u001b[0m\n\u001b[1;32m      2\u001b[0m \u001b[0;32mwhile\u001b[0m \u001b[0;32mTrue\u001b[0m\u001b[0;34m:\u001b[0m\u001b[0;34m\u001b[0m\u001b[0;34m\u001b[0m\u001b[0m\n\u001b[0;32m----> 3\u001b[0;31m   \u001b[0msleep\u001b[0m\u001b[0;34m(\u001b[0m\u001b[0;36m1\u001b[0m\u001b[0;34m)\u001b[0m\u001b[0;34m\u001b[0m\u001b[0;34m\u001b[0m\u001b[0m\n\u001b[0m\u001b[1;32m      4\u001b[0m   \u001b[0mdata\u001b[0m \u001b[0;34m=\u001b[0m  \u001b[0mtime\u001b[0m\u001b[0;34m(\u001b[0m\u001b[0;34m)\u001b[0m\u001b[0;34m\u001b[0m\u001b[0;34m\u001b[0m\u001b[0m\n\u001b[1;32m      5\u001b[0m   \u001b[0mano_novo\u001b[0m \u001b[0;34m=\u001b[0m \u001b[0;34m(\u001b[0m\u001b[0;36m2024\u001b[0m\u001b[0;34m,\u001b[0m \u001b[0;36m1\u001b[0m\u001b[0;34m,\u001b[0m \u001b[0;36m1\u001b[0m\u001b[0;34m,\u001b[0m \u001b[0;36m0\u001b[0m\u001b[0;34m,\u001b[0m \u001b[0;36m0\u001b[0m\u001b[0;34m,\u001b[0m \u001b[0;36m0\u001b[0m\u001b[0;34m,\u001b[0m \u001b[0;36m0\u001b[0m\u001b[0;34m,\u001b[0m \u001b[0;36m0\u001b[0m\u001b[0;34m,\u001b[0m \u001b[0;36m0\u001b[0m\u001b[0;34m)\u001b[0m\u001b[0;34m\u001b[0m\u001b[0;34m\u001b[0m\u001b[0m\n",
            "\u001b[0;31mKeyboardInterrupt\u001b[0m: "
          ]
        }
      ],
      "source": [
        "from time import *\n",
        "while True:\n",
        "  sleep(1)\n",
        "  data =  time()\n",
        "  ano_novo = (2024, 1, 1, 0, 0, 0, 0, 0, 0)\n",
        "  mk = mktime(ano_novo)\n",
        "  falta = mk - data\n",
        "  falta_a = gmtime(falta)\n",
        "  strf = strftime(' %c',falta_a)\n",
        "  print(strf)\n",
        "  if falta_a.tm_min == falta_a.tm_sec == 0 == falta_a.tm_hour:\n",
        "    print(falta)\n",
        "    break\n",
        "\n",
        "\n"
      ]
    },
    {
      "cell_type": "code",
      "source": [
        "c = 0\n",
        "while c != 10:\n",
        "  data = time()\n",
        "  falta = mk - data\n",
        "  sleep(1)\n",
        "  dia,resto_h = divmod(falta, segundos_por_dia )\n",
        "  hora,resto = divmod(resto_h, segundos_por_hora)\n",
        "  minuto, segundo = (divmod(resto, segundos_por_minuto))\n",
        "  print(f'{int(dia)} dias, {int(hora)} horas, {int(minuto)} minutos, {int(segundo)} segundos')\n",
        "  c += 1"
      ],
      "metadata": {
        "id": "potQEVl2fuyz"
      },
      "execution_count": null,
      "outputs": []
    }
  ],
  "metadata": {
    "kernelspec": {
      "display_name": "Python 3 (ipykernel)",
      "language": "python",
      "name": "python3"
    },
    "language_info": {
      "codemirror_mode": {
        "name": "ipython",
        "version": 3
      },
      "file_extension": ".py",
      "mimetype": "text/x-python",
      "name": "python",
      "nbconvert_exporter": "python",
      "pygments_lexer": "ipython3",
      "version": "3.10.11"
    },
    "colab": {
      "provenance": [],
      "include_colab_link": true
    }
  },
  "nbformat": 4,
  "nbformat_minor": 0
}