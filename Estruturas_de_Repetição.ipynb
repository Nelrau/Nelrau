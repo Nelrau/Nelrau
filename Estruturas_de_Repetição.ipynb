{
  "cells": [
    {
      "cell_type": "markdown",
      "metadata": {
        "id": "view-in-github",
        "colab_type": "text"
      },
      "source": [
        "<a href=\"https://colab.research.google.com/github/Nelrau/python_basic/blob/basic/Estruturas_de_Repeti%C3%A7%C3%A3o.ipynb\" target=\"_parent\"><img src=\"https://colab.research.google.com/assets/colab-badge.svg\" alt=\"Open In Colab\"/></a>"
      ]
    },
    {
      "cell_type": "markdown",
      "id": "ac60394f",
      "metadata": {
        "id": "ac60394f"
      },
      "source": [
        "# Estruturas de repetição\n",
        "\n",
        "<span style=\"color: red;\"><b>Todos os exercícios são feitos partindo-se do pressuposto de que todas as entradas são dadas de forma correta. Casos limite não mencionados no enunciado não são abordados porque não fazem parte do exercício.</b></span>"
      ]
    },
    {
      "cell_type": "markdown",
      "id": "017affd0",
      "metadata": {
        "id": "017affd0"
      },
      "source": [
        "#### 1. Faça um programa que peça uma nota, entre zero e dez. Mostre uma mensagem caso o valor seja inválido e continue pedindo até que o usuário informe um valor válido."
      ]
    },
    {
      "cell_type": "code",
      "execution_count": null,
      "id": "5f12870d",
      "metadata": {
        "id": "5f12870d",
        "colab": {
          "base_uri": "https://localhost:8080/"
        },
        "outputId": "f7730372-23dc-4bd4-f5da-d4ac112b8ebd"
      },
      "outputs": [
        {
          "name": "stdout",
          "output_type": "stream",
          "text": [
            "Nota: 13\n",
            "não e uma nota valida\n",
            "Nota: 13\n",
            "não e uma nota valida\n",
            "Nota: 7\n"
          ]
        }
      ],
      "source": [
        "nota = float(input('Nota: '))\n",
        "while not (0 <= nota <= 10):\n",
        "  print('não e uma nota valida')\n",
        "  nota = float(input('Nota: '))\n"
      ]
    },
    {
      "cell_type": "markdown",
      "id": "dd0c6d56",
      "metadata": {
        "id": "dd0c6d56"
      },
      "source": [
        "#### 2. Faça um programa que leia um nome de usuário e a sua senha e não aceite a senha igual ao nome do usuário, mostrando uma mensagem de erro e voltando a pedir as informações."
      ]
    },
    {
      "cell_type": "code",
      "execution_count": null,
      "id": "f6579866",
      "metadata": {
        "id": "f6579866",
        "colab": {
          "base_uri": "https://localhost:8080/"
        },
        "outputId": "3da60587-2024-4362-fa82-fdd35e7f29ef"
      },
      "outputs": [
        {
          "name": "stdout",
          "output_type": "stream",
          "text": [
            "Login: admin\n",
            "Senha: admin\n",
            "por segurança coloque uma senha diferente do login\n",
            "Login: admim\n",
            "Senha: admin\n"
          ]
        }
      ],
      "source": [
        "login = input('Login: ')\n",
        "senha = input('Senha: ')\n",
        "while login == senha:\n",
        "  print('por segurança coloque uma senha diferente do login')\n",
        "  login = input('Login: ')\n",
        "  senha = input('Senha: ')\n"
      ]
    },
    {
      "cell_type": "markdown",
      "id": "ed113a82",
      "metadata": {
        "id": "ed113a82"
      },
      "source": [
        "#### 3. Faça um programa que leia e valide as seguintes informações (e para cada uma delas, continue pedindo a informação até o usuário inserir corretamente):\n",
        "##### Nome: maior que 3 caracteres;\n",
        "##### Idade: entre 0 e 150;\n",
        "##### Salário: maior que zero;\n",
        "##### Sexo: 'f' ou 'm';\n",
        "##### Estado Civil: 's', 'c', 'v', 'd';"
      ]
    },
    {
      "cell_type": "code",
      "execution_count": null,
      "id": "3284f187",
      "metadata": {
        "id": "3284f187",
        "colab": {
          "base_uri": "https://localhost:8080/"
        },
        "outputId": "0b962bde-ecc9-495c-bd21-a42c0e4f47de"
      },
      "outputs": [
        {
          "output_type": "stream",
          "name": "stdout",
          "text": [
            "Nome: sa\n",
            "Nome com 2 caracteres\n",
            "Nome: Uarlen\n",
            "Idade: 40\n",
            "Salario: 1380\n",
            "Digite seu salario\n",
            "Salario: 1\n",
            "Digite seu salario\n",
            "Salario: -1\n",
            "Sexo f/m: m\n",
            "Estado Civil \"s\",\"c\",\"v\",\"d\": s\n",
            "Uarlen, 40, -1.0, m, s\n"
          ]
        }
      ],
      "source": [
        "nome = input('Nome: ')\n",
        "while len(nome) <= 2:\n",
        "  print(f'Nome com {len(nome)} caracteres')\n",
        "  nome = input('Nome: ')\n",
        "idade = int(input('Idade: '))\n",
        "while (0 <= idade >= 150):\n",
        "  print('você não tem essa idade')\n",
        "  idade = int(input('Idade: '))\n",
        "salario = float(input('Salario: '))\n",
        "while salario <= 0:\n",
        "  if salario == 0:\n",
        "    salario = 'desempregado'\n",
        "    break\n",
        "  else:\n",
        "    print('Digite seu salario')\n",
        "  salario = float(input('Salario: '))\n",
        "sexo = input('Sexo f/m: ')\n",
        "while not sexo.lower() in ['f','m']:\n",
        "  print(f'f - feminino e m - masculino')\n",
        "  sexo = input('Sexo f/m: ')\n",
        "est_civil = input('Estado Civil \"s\",\"c\",\"v\",\"d\": ')\n",
        "while not est_civil in ['s','c','d','v']:\n",
        "  print(f' Apenas {est_civil}')\n",
        "  est_civil = input('Estado Civil \"s\",\"c\",\"v\",\"d\": ')\n",
        "\n",
        "print(f'{nome}, {idade}, {salario}, {sexo}, {est_civil}')"
      ]
    },
    {
      "cell_type": "markdown",
      "id": "2f25dceb",
      "metadata": {
        "id": "2f25dceb"
      },
      "source": [
        "#### 4. Supondo que a população de um país A seja da ordem de 80000 habitantes com uma taxa anual de crescimento de 3% e que a população de B seja 200000 habitantes com uma taxa de crescimento de 1.5%. Faça um programa que calcule e escreva o número de anos necessários para que a população do país A ultrapasse ou iguale a população do país B, mantidas as taxas de crescimento."
      ]
    },
    {
      "cell_type": "code",
      "execution_count": null,
      "id": "7ad0f5e9",
      "metadata": {
        "id": "7ad0f5e9",
        "colab": {
          "base_uri": "https://localhost:8080/"
        },
        "outputId": "5ef57cdc-049a-4f0d-e368-abf4d2091419"
      },
      "outputs": [
        {
          "output_type": "stream",
          "name": "stdout",
          "text": [
            "63\n"
          ]
        }
      ],
      "source": [
        "pais_a = 80000\n",
        "pais_b = 200000\n",
        "anos = 0\n",
        "while pais_a < pais_b:\n",
        "  pais_a *= 1.03\n",
        "  pais_b *= 1.015\n",
        "  anos += 1\n",
        "\n",
        "print(anos)\n"
      ]
    },
    {
      "cell_type": "markdown",
      "id": "e9626858",
      "metadata": {
        "id": "e9626858"
      },
      "source": [
        "\n",
        "#### 5. Altere o programa anterior permitindo ao usuário informar as populações e as taxas de crescimento iniciais. Valide a entrada e permita repetir a operação."
      ]
    },
    {
      "cell_type": "code",
      "execution_count": null,
      "id": "c7e250a4",
      "metadata": {
        "id": "c7e250a4",
        "colab": {
          "base_uri": "https://localhost:8080/"
        },
        "outputId": "20e175ed-c964-4200-f757-e780c70c0dc5"
      },
      "outputs": [
        {
          "name": "stdout",
          "output_type": "stream",
          "text": [
            "População : 20\n",
            "População : 8\n",
            "Taxa : 1.03\n",
            "Taxa : 1.015\n",
            "Anos - 47534\n",
            "Quer continuarn\n"
          ]
        }
      ],
      "source": [
        "\n",
        "resposta = 's'\n",
        "while 's' == resposta:\n",
        "  pais_a = int(input('População : '))\n",
        "  pais_b = int(input('População : '))\n",
        "  taxa_a = float(input('Taxa : '))\n",
        "  taxa_b = float(input('Taxa : '))\n",
        "  anos = 0\n",
        "  tempo =0\n",
        "  while pais_a < pais_b:\n",
        "    pais_a *= taxa_a\n",
        "    pais_b *= taxa_b\n",
        "    anos += 1\n",
        "\n",
        "  while pais_a > pais_b:\n",
        "    pais_a *= taxa_a\n",
        "    pais_b *= taxa_b\n",
        "    tempo += 1\n",
        "\n",
        "  if anos > 0:\n",
        "    print(f'anos - {anos}')\n",
        "  else:\n",
        "    print(f'Anos - {tempo}')\n",
        "  resposta = input('Quer continuar')\n",
        "\n"
      ]
    },
    {
      "cell_type": "markdown",
      "id": "b3d268b5",
      "metadata": {
        "id": "b3d268b5"
      },
      "source": [
        "#### 6. Faça um programa que peça para o usuário inserir o faturamento dos últimos 5 meses (individualmente) e informe o maior faturamento"
      ]
    },
    {
      "cell_type": "code",
      "execution_count": null,
      "id": "8078e7a5",
      "metadata": {
        "id": "8078e7a5",
        "colab": {
          "base_uri": "https://localhost:8080/"
        },
        "outputId": "835bcc94-0c92-47c1-8f7e-a64254e85ce9"
      },
      "outputs": [
        {
          "output_type": "stream",
          "name": "stdout",
          "text": [
            "Faturamento 1: 50\n",
            "Faturamento 2: 100\n",
            "100.0\n",
            "Faturamento 3: 120\n",
            "120.0\n",
            "Faturamento 4: 300\n",
            "300.0\n",
            "Faturamento 5: 150\n",
            "300.0\n"
          ]
        }
      ],
      "source": [
        "for i in range(5):\n",
        "  relatorio = float(input(f'Faturamento {i +1}: '))\n",
        "  if i == 0: #prmeiro indice maior\n",
        "    maior = relatorio\n",
        "  else:\n",
        "    if relatorio > maior:\n",
        "      maior = relatorio\n",
        "      print(maior)\n",
        "\n",
        "print(maior)"
      ]
    },
    {
      "cell_type": "markdown",
      "id": "6407824c",
      "metadata": {
        "id": "6407824c"
      },
      "source": [
        "#### 7. Faça um programa que peça para o usuário inserir o faturamento dos últimos 5 meses (individualmente) e informe o faturamento total (soma) e o faturamento médio por mês (média)."
      ]
    },
    {
      "cell_type": "code",
      "execution_count": null,
      "id": "a02320d1",
      "metadata": {
        "id": "a02320d1",
        "colab": {
          "base_uri": "https://localhost:8080/"
        },
        "outputId": "247891a7-eeff-4821-8e18-e3cfac7f7203"
      },
      "outputs": [
        {
          "output_type": "stream",
          "name": "stdout",
          "text": [
            "Faturamento 1: 5\n",
            "Faturamento 2: 6\n",
            "Faturamento 3: 4\n",
            "Faturamento 4: 1\n",
            "Faturamento 5: 60\n",
            "76.0 15.2\n"
          ]
        }
      ],
      "source": [
        "total = 0\n",
        "for i in range(5):\n",
        "  faturamento = float(input(f'Faturamento {i + 1}: '))\n",
        "  total += faturamento\n",
        "  media = total / (i +1)\n",
        "print(total, media)"
      ]
    },
    {
      "cell_type": "markdown",
      "id": "703f3c4d",
      "metadata": {
        "id": "703f3c4d"
      },
      "source": [
        "#### 8. Faça um programa que consiga categorizar a idade das equipes de uma empresa. Faça um programa que peça para n pessoas a sua idade, ao final o programa devera verificar se a média de idade da equipe varia entre 0 e 25 (jovem) ,26 e 60 (sênior) e maior que 60 (idosa); e então, dizer se a equipe é jovem, sênior ou idosa, conforme a média calculada."
      ]
    },
    {
      "cell_type": "code",
      "execution_count": null,
      "id": "b56a85de",
      "metadata": {
        "id": "b56a85de",
        "colab": {
          "base_uri": "https://localhost:8080/"
        },
        "outputId": "b512e270-c006-4cf6-9dcf-3fd47351e424"
      },
      "outputs": [
        {
          "output_type": "stream",
          "name": "stdout",
          "text": [
            "N de funcionarios: 5\n",
            "Sua idade: 50\n",
            "Sua idade: 50\n",
            "Sua idade: 50\n",
            "Sua idade: 50\n",
            "Sua idade: 50\n",
            "Id 4, Senior de 50 anos\n"
          ]
        }
      ],
      "source": [
        "n = int(input('N de funcionarios: '))\n",
        "total = 0\n",
        "for i in range(n):\n",
        "  #id = input('Identificação: ')\n",
        "  idade = int(input('Sua idade: '))\n",
        "  total += idade\n",
        "  media = total/ n\n",
        "if media <= 25:\n",
        "  print(f'Id {i}, Jovem de {idade} anos')\n",
        "elif media <= 60:\n",
        "  print(f'Id {i}, Senior de {idade} anos')\n",
        "else:\n",
        "  print(f'Id {i}, Idoso(a) de {idade} anos')\n",
        "\n"
      ]
    },
    {
      "cell_type": "markdown",
      "id": "aad21b98",
      "metadata": {
        "id": "aad21b98"
      },
      "source": [
        "#### 9. Numa eleição existem três candidatos. Faça um programa que peça o número total de eleitores. Peça para cada eleitor votar e ao final mostrar o número de votos de cada candidato."
      ]
    },
    {
      "cell_type": "code",
      "execution_count": null,
      "id": "84aa7a93",
      "metadata": {
        "id": "84aa7a93",
        "colab": {
          "base_uri": "https://localhost:8080/"
        },
        "outputId": "5ed70521-321c-478d-9777-d610e24637bb"
      },
      "outputs": [
        {
          "output_type": "stream",
          "name": "stdout",
          "text": [
            "Numero de eleitores: 3\n",
            "Vote no seu candidato: 1\n",
            "Obrigado por votar\n",
            "Vote no seu candidato: 1\n",
            "Obrigado por votar\n",
            "Vote no seu candidato: 2\n",
            "Obrigado por votar\n",
            "Resultado da eleição é 3 votaram onde Pl com 2, Pp com 1 e Pt com 0 votos\n"
          ]
        }
      ],
      "source": [
        "total = 0\n",
        "eleitores = int(input('Numero de eleitores: '))\n",
        "pl = 0\n",
        "pt = 0\n",
        "pp = 0\n",
        "for i in range(eleitores):\n",
        "  voto = int(input('Vote no seu candidato: '))\n",
        "  if voto:\n",
        "    print('Obrigado por votar')\n",
        "\n",
        "    if voto == 1:\n",
        "      pl += 1\n",
        "    elif voto == 2:\n",
        "      pp += 1\n",
        "    else:\n",
        "      pt += 1\n",
        "print(f'Resultado da eleição é {eleitores} votaram onde Pl com {pl}, Pp com {pp} e Pt com {pt} votos')"
      ]
    },
    {
      "cell_type": "markdown",
      "id": "6e306453",
      "metadata": {
        "id": "6e306453"
      },
      "source": [
        "#### 10. Faça um programa que calcule o valor total investido por um colecionador em sua coleção de CDs e o valor médio gasto em cada um deles. O usuário deverá informar a quantidade de CDs e o valor para em cada um."
      ]
    },
    {
      "cell_type": "code",
      "execution_count": null,
      "id": "6b7fa4a2",
      "metadata": {
        "id": "6b7fa4a2",
        "colab": {
          "base_uri": "https://localhost:8080/"
        },
        "outputId": "c1908c01-9b3f-43c6-9141-9a6404bf7b65"
      },
      "outputs": [
        {
          "output_type": "stream",
          "name": "stdout",
          "text": [
            "quantos cd? 20\n",
            "Preço do CD15\n",
            "Preço do CD1\n",
            "Preço do CD1\n",
            "Preço do CD1\n",
            "Preço do CD10\n",
            "Preço do CD50\n",
            "Preço do CD60\n",
            "Preço do CD30\n",
            "Preço do CD10\n",
            "Preço do CD10\n",
            "Preço do CD10\n",
            "Preço do CD10\n",
            "Preço do CD10\n",
            "Preço do CD10\n",
            "Preço do CD10\n",
            "Preço do CD10\n",
            "Preço do CD10\n",
            "Preço do CD10\n",
            "Preço do CD20\n",
            "Preço do CD20\n",
            "O valor do CD é 20.0 e sua media 15.4, do total de 308.0\n"
          ]
        }
      ],
      "source": [
        "quant = int(input(f'quantos cd? '))\n",
        "total = 0\n",
        "for i in range(quant):\n",
        "  valor = float(input('Preço do CD: '))\n",
        "  total += valor\n",
        "\n",
        "print(f'Sua media {total/quant}, do total de {total}')\n"
      ]
    },
    {
      "cell_type": "markdown",
      "id": "f19c8d86",
      "metadata": {
        "id": "f19c8d86"
      },
      "source": [
        "#### 11. O Sr. Manoel Joaquim possui uma grande loja de artigos de R\\\\$ 1,99, com cerca de 10 caixas. Para agilizar o cálculo de quanto cada cliente deve pagar ele desenvolveu um tabela que contém o número de itens que o cliente comprou e ao lado o valor da conta. Desta forma a atendente do caixa precisa apenas contar quantos itens o cliente está levando e olhar na tabela de preços. Você foi contratado para desenvolver o programa que monta esta tabela de preços, que conterá os preços de 1 até 50 produtos, conforme o exemplo abaixo:\n",
        "<pre>\n",
        "Lojas Quase Dois - Tabela de preços\n",
        "1 - R$ 1.99\n",
        "2 - R$ 3.98\n",
        "...\n",
        "50 - R$ 99.50\n",
        "</pre>"
      ]
    },
    {
      "cell_type": "code",
      "execution_count": null,
      "id": "4fc4d54d",
      "metadata": {
        "id": "4fc4d54d",
        "colab": {
          "base_uri": "https://localhost:8080/"
        },
        "outputId": "0912a300-cba9-4544-dfa1-588f380b93e1"
      },
      "outputs": [
        {
          "output_type": "stream",
          "name": "stdout",
          "text": [
            " 1 - 1.99\n",
            " 2 - 3.98\n",
            " 3 - 5.97\n",
            " 4 - 7.96\n",
            " 5 - 9.95\n",
            " 6 - 11.94\n",
            " 7 - 13.93\n",
            " 8 - 15.92\n",
            " 9 - 17.91\n",
            "10 - 19.9\n",
            "11 - 21.89\n",
            "12 - 23.88\n",
            "13 - 25.87\n",
            "14 - 27.86\n",
            "15 - 29.85\n",
            "16 - 31.84\n",
            "17 - 33.83\n",
            "18 - 35.82\n",
            "19 - 37.81\n",
            "20 - 39.8\n",
            "21 - 41.79\n",
            "22 - 43.78\n",
            "23 - 45.77\n",
            "24 - 47.76\n",
            "25 - 49.75\n",
            "26 - 51.74\n",
            "27 - 53.73\n",
            "28 - 55.72\n",
            "29 - 57.71\n",
            "30 - 59.7\n",
            "31 - 61.69\n",
            "32 - 63.68\n",
            "33 - 65.67\n",
            "34 - 67.66\n",
            "35 - 69.65\n",
            "36 - 71.64\n",
            "37 - 73.63\n",
            "38 - 75.62\n",
            "39 - 77.61\n",
            "40 - 79.6\n",
            "41 - 81.59\n",
            "42 - 83.58\n",
            "43 - 85.57\n",
            "44 - 87.56\n",
            "45 - 89.55\n",
            "46 - 91.54\n",
            "47 - 93.53\n",
            "48 - 95.52\n",
            "49 - 97.51\n",
            "50 - 99.5\n"
          ]
        }
      ],
      "source": [
        "preco = float(1.99)\n",
        "for i in range(50):\n",
        "  print(f'{i + 1:2} - {(i + 1) * preco }')"
      ]
    },
    {
      "cell_type": "markdown",
      "id": "6cd19c52",
      "metadata": {
        "id": "6cd19c52"
      },
      "source": [
        "#### 12. Um funcionário de uma empresa recebe aumento salarial anualmente: Sabe-se que:\n",
        "<pre>\n",
        "Esse funcionário foi contratado em 1995, com salário inicial de R$ 1.000,00;\n",
        "Em 1996 recebeu aumento de 1,5% sobre seu salário inicial;\n",
        "A partir de 1997 (inclusive), os aumentos salariais sempre correspondem ao dobro do percentual do ano anterior. Faça um programa que determine o salário desse funcionário em 2003.\n",
        "</pre>"
      ]
    },
    {
      "cell_type": "code",
      "execution_count": null,
      "id": "98a4811b",
      "metadata": {
        "id": "98a4811b",
        "colab": {
          "base_uri": "https://localhost:8080/"
        },
        "outputId": "25e32bbb-b5da-4853-f608-6d71beb3170d"
      },
      "outputs": [
        {
          "output_type": "stream",
          "name": "stdout",
          "text": [
            "1996 - 1015.00 0.015\n",
            "1997 - 1045.45 0.03\n",
            "1998 - 1108.18 0.06\n",
            "1999 - 1241.16 0.12\n",
            "2000 - 1539.04 0.24\n",
            "2001 - 2277.77 0.48\n",
            "2002 - 4464.44 0.96\n",
            "2003 - 13036.15 1.92\n"
          ]
        }
      ],
      "source": [
        "ano = 1995\n",
        "atual = 2003\n",
        "salario = 1000\n",
        "percentual = .015\n",
        "for i in range(atual - ano):\n",
        "  if i == 0:\n",
        "    salario += percentual * salario\n",
        "  else:\n",
        "    percentual *= 2\n",
        "    salario += (percentual * salario)\n",
        "  print(f'{ano + (i + 1)} - {salario:.2f} {percentual}')"
      ]
    },
    {
      "cell_type": "markdown",
      "id": "227928d1",
      "metadata": {
        "id": "227928d1"
      },
      "source": [
        "#### 13. O cardápio de uma lanchonete é o seguinte:\n",
        "<pre>\n",
        "Especificação   Código  Preço\n",
        "Cachorro Quente 100     R$ 1,20\n",
        "Bauru Simples   101     R$ 1,30\n",
        "Bauru com ovo   102     R$ 1,50\n",
        "Hambúrguer      103     R$ 1,20\n",
        "Cheeseburguer   104     R$ 1,30\n",
        "Refrigerante    105     R$ 1,00\n",
        "Faça um programa que leia o código dos itens pedidos e as quantidades desejadas. Calcule e mostre o valor a ser pago por item (preço * quantidade) e o total geral do pedido. Considere que o cliente deve informar quando o pedido deve ser encerrado.\n",
        "</pre>"
      ]
    },
    {
      "cell_type": "code",
      "execution_count": 17,
      "id": "8a784b86",
      "metadata": {
        "id": "8a784b86",
        "colab": {
          "base_uri": "https://localhost:8080/"
        },
        "outputId": "e9ea6bd5-65f3-41ba-f52c-89d63da9b9d7"
      },
      "outputs": [
        {
          "output_type": "stream",
          "name": "stdout",
          "text": [
            "Para encerrar digite 0\n",
            "Codigo do pedido: 100\n",
            "Quantas porções de 100 você deseja? 3\n",
            "Codigo do pedido: 0\n",
            "Total 3.60\n"
          ]
        }
      ],
      "source": [
        "print('Para encerrar digite 0')\n",
        "total = 0\n",
        "cod = input('Codigo do pedido: ')\n",
        "\n",
        "while cod != '0':\n",
        "\n",
        "  quant = int(input(f'Quantas porções de {cod} você deseja? '))\n",
        "  if cod == '100':\n",
        "    total += 1.2 * quant\n",
        "  elif cod == '101':\n",
        "    total += 1.3 * quant\n",
        "  elif cod == '102':\n",
        "    total += 1.5 * quant\n",
        "  elif cod == '103':\n",
        "    total += 1.2 * quant\n",
        "  elif cod == '104':\n",
        "    total += 1.3 * quant\n",
        "  elif cod == '105':\n",
        "    total += 1 * quant\n",
        "  cod = input('Codigo do pedido: ')\n",
        "\n",
        "print(f'Total {total:.2f}')"
      ]
    },
    {
      "cell_type": "markdown",
      "id": "9877b8ba",
      "metadata": {
        "id": "9877b8ba"
      },
      "source": [
        "#### 14. Uma grande emissora de televisão quer fazer uma enquete entre os seus telespectadores para saber qual o melhor jogador após cada jogo. Para isto, faz-se necessário o desenvolvimento de um programa, que será utilizado pelas telefonistas, para a computação dos votos. Sua equipe foi contratada para desenvolver este programa, utilizando a linguagem de programação Python. Para computar cada voto, a telefonista digitará um número, entre 1 e 23, correspondente ao número da camisa do jogador. Um número de jogador igual zero, indica que a votação foi encerrada. Se um número inválido for digitado, o programa deve ignorá-lo, mostrando uma breve mensagem de aviso, e voltando a pedir outro número. Após o final da votação, o programa deverá exibir:\n",
        "<pre>a. O total de votos computados;\n",
        "b. Os números e respectivos votos de todos os jogadores que receberam votos;\n",
        "c. O percentual de votos de cada um destes jogadores;\n",
        "d. O número do jogador escolhido como o melhor jogador da partida, juntamente com o número de votos e o percentual de votos dados a ele.\n",
        "        Observe que os votos inválidos e o zero final não devem ser computados como votos. O resultado aparece ordenado pelo número do jogador. O programa deve fazer uso de arrays. O programa deverá executar o cálculo do percentual de cada jogador através de uma função. Esta função receberá dois parâmetros: o número de votos de um jogador e o total de votos. A função calculará o percentual e retornará o valor calculado. Abaixo segue uma tela de exemplo. O disposição das informações deve ser o mais próxima possível ao exemplo. Os dados são fictícios e podem mudar a cada execução do programa. Ao final, o programa deve ainda gravar os dados referentes ao resultado da votação em um arquivo texto no disco, obedecendo a mesma disposição apresentada na tela.</pre>\n",
        "```\n",
        "Enquete: Quem foi o melhor jogador?\n",
        "\n",
        "Número do jogador (0=fim): 9\n",
        "Número do jogador (0=fim): 10\n",
        "Número do jogador (0=fim): 9\n",
        "Número do jogador (0=fim): 10\n",
        "Número do jogador (0=fim): 11\n",
        "Número do jogador (0=fim): 10\n",
        "Número do jogador (0=fim): 50\n",
        "Informe um valor entre 1 e 23 ou 0 para sair!\n",
        "Número do jogador (0=fim): 9\n",
        "Número do jogador (0=fim): 9\n",
        "Número do jogador (0=fim): 0\n",
        "\n",
        "Resultado da votação:\n",
        "\n",
        "Foram computados 8 votos.\n",
        "\n",
        "Jogador Votos           %\n",
        "9               4               50,0%\n",
        "10              3               37,5%\n",
        "11              1               12,5%\n",
        "```"
      ]
    },
    {
      "cell_type": "code",
      "execution_count": 49,
      "id": "79b82364",
      "metadata": {
        "id": "79b82364",
        "colab": {
          "base_uri": "https://localhost:8080/"
        },
        "outputId": "d340c94c-cb43-4c8d-d1e9-349d507e1159"
      },
      "outputs": [
        {
          "output_type": "stream",
          "name": "stdout",
          "text": [
            "Enquete: Quem foi o melhor jogador?\n",
            "Número do jogador (0=fim): 1\n",
            "Número do jogador (0=fim): 2\n",
            "Número do jogador (0=fim): 9\n",
            "Número do jogador (0=fim): 9\n",
            "Número do jogador (0=fim): 0\n",
            "[1, 1, 0, 0, 0, 0, 0, 0, 2, 0, 0, 0, 0, 0, 0, 0, 0, 0, 0, 0, 0, 0, 0]\n",
            "Foram computados 4 votos.\n",
            "Jogador\tVotos\t%\n",
            "1\t1\t25.0%\n",
            "2\t1\t25.0%\n",
            "9\t2\t50.0%\n",
            "O melhor jogador foi o número 9, com 2 votos, correspondendo a 50% do total de votos.\n"
          ]
        }
      ],
      "source": [
        "votos = []\n",
        "print('Enquete: Quem foi o melhor jogador?')\n",
        "for i in range(23):\n",
        "    votos.append(0)\n",
        "while True:\n",
        "    numero = int(input('Número do jogador (0=fim): '))\n",
        "    if numero == 0:\n",
        "        break\n",
        "    elif not 1 <= numero <= 23:\n",
        "        print('Informe um valor entre 1 e 23 ou 0 para sair!')\n",
        "        continue\n",
        "    votos[numero - 1] += 1\n",
        "total = sum(votos)\n",
        "print('Foram computados', total, 'votos.')\n",
        "print('Jogador\\tVotos\\t%')\n",
        "for i, voto in enumerate(votos):\n",
        "    if voto > 0:\n",
        "        print(f'{i+1}\\t{voto}\\t{voto/total:.1%}')\n",
        "\n",
        "melhor = max(votos)\n",
        "i = votos.index(melhor)\n",
        "porcentagem = melhor/total\n",
        "print(f'O melhor jogador foi o número {i+1}, com {melhor} votos, correspondendo a {porcentagem:.0%} do total de votos.')"
      ]
    }
  ],
  "metadata": {
    "kernelspec": {
      "display_name": "Python 3 (ipykernel)",
      "language": "python",
      "name": "python3"
    },
    "language_info": {
      "codemirror_mode": {
        "name": "ipython",
        "version": 3
      },
      "file_extension": ".py",
      "mimetype": "text/x-python",
      "name": "python",
      "nbconvert_exporter": "python",
      "pygments_lexer": "ipython3",
      "version": "3.9.7"
    },
    "colab": {
      "provenance": [],
      "include_colab_link": true
    }
  },
  "nbformat": 4,
  "nbformat_minor": 5
}