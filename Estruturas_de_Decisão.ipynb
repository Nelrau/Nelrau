{
  "cells": [
    {
      "cell_type": "markdown",
      "metadata": {
        "id": "view-in-github",
        "colab_type": "text"
      },
      "source": [
        "<a href=\"https://colab.research.google.com/github/Nelrau/python_basic/blob/basic/Estruturas_de_Decis%C3%A3o.ipynb\" target=\"_parent\"><img src=\"https://colab.research.google.com/assets/colab-badge.svg\" alt=\"Open In Colab\"/></a>"
      ]
    },
    {
      "cell_type": "markdown",
      "id": "8535c274",
      "metadata": {
        "id": "8535c274"
      },
      "source": [
        "# Estruturas de decisão\n",
        "\n",
        "<span style=\"color: red;\"><b>Todos os exercícios são feitos partindo-se do pressuposto de que todas as entradas são dadas de forma correta. Casos limite não mencionados no enunciado não são abordados porque não fazem parte do exercício.</b></span>"
      ]
    },
    {
      "cell_type": "markdown",
      "id": "9c3d817e",
      "metadata": {
        "id": "9c3d817e"
      },
      "source": [
        "#### 1. Faça um Programa que peça dois números e imprima o maior deles."
      ]
    },
    {
      "cell_type": "code",
      "execution_count": null,
      "id": "ae45c028",
      "metadata": {
        "id": "ae45c028",
        "colab": {
          "base_uri": "https://localhost:8080/"
        },
        "outputId": "72c64ed7-8082-47dd-c85b-f6531efd88b3"
      },
      "outputs": [
        {
          "output_type": "stream",
          "name": "stdout",
          "text": [
            "Digite os numeros e veja se e maior ou menor\n",
            "primeiro numero: 1\n",
            "segundo numero: 5\n",
            "maior 5 > 1 menor\n"
          ]
        }
      ],
      "source": [
        "print('Digite os numeros e veja se e maior ou menor')\n",
        "num = int(input('primeiro numero: '))\n",
        "num1 = int(input('segundo numero: '))\n",
        "if num > num1:\n",
        "  print(f'maior {num} > {num1} menor')\n",
        "else:\n",
        "  print(f'maior {num1} > {num} menor')"
      ]
    },
    {
      "cell_type": "markdown",
      "id": "ff510803",
      "metadata": {
        "id": "ff510803"
      },
      "source": [
        "#### 2. Faça um Programa que peça um valor e mostre na tela se o valor é positivo ou negativo."
      ]
    },
    {
      "cell_type": "code",
      "execution_count": null,
      "id": "8952f58f",
      "metadata": {
        "id": "8952f58f",
        "colab": {
          "base_uri": "https://localhost:8080/"
        },
        "outputId": "5a949864-2c8c-4617-c66d-54bcbb90439e"
      },
      "outputs": [
        {
          "output_type": "stream",
          "name": "stdout",
          "text": [
            "Positivo ou negativo\n",
            "Digite um numero: -5\n",
            "o -5 é negativo\n"
          ]
        }
      ],
      "source": [
        "print('Positivo ou negativo')\n",
        "num = int(input('Digite um numero: '))\n",
        "if num >0:\n",
        "  print(f' o {num} é positivo')\n",
        "else:\n",
        "  print(f'o {num} é negativo')"
      ]
    },
    {
      "cell_type": "markdown",
      "id": "6966546b",
      "metadata": {
        "id": "6966546b"
      },
      "source": [
        "#### 3. Faça um Programa que verifique o estado civil de uma pessoa. Se a letra digitada é \"C\" (Casado), \"S\" (Solteiro), \"D\" (Divorciado), \"V\" (Viúvo) ou \"O\" (outros). Conforme a letra escrita pelo usuário seu programa deve escrever o estado civil, exemplo:\n",
        "\n",
        "Usuário digita: C\n",
        "\n",
        "Seu programa deve responder:\n",
        "C - Casado"
      ]
    },
    {
      "cell_type": "code",
      "execution_count": null,
      "id": "876a1e67",
      "metadata": {
        "id": "876a1e67",
        "colab": {
          "base_uri": "https://localhost:8080/"
        },
        "outputId": "cec8ba59-73dd-462f-aae0-537181ddfb5a"
      },
      "outputs": [
        {
          "output_type": "stream",
          "name": "stdout",
          "text": [
            "Digite C para casado d divorciado s solteiro v viuvo o outros c\n",
            "casado\n"
          ]
        }
      ],
      "source": [
        "e_civil = input('Digite C para casado d divorciado s solteiro v viuvo o outros ')\n",
        "if e_civil == 'c':\n",
        "  print('casado')\n",
        "elif e_civil == 's':\n",
        "  print('solteiro')\n",
        "elif e_civil == 'd':\n",
        "  print('divorciado')\n",
        "elif e_civil == 'v':\n",
        "  print('viuvo')\n",
        "elif e_civil == 'o':\n",
        "  print('outro')\n",
        "  outros = input('explique: ')\n",
        "  print(outros)\n",
        "else:\n",
        "  print('opção errada')\n"
      ]
    },
    {
      "cell_type": "markdown",
      "id": "c122c0cf",
      "metadata": {
        "id": "c122c0cf"
      },
      "source": [
        "#### 4. Faça um Programa que verifique se o e-mail digitado faz parte dos e-mails de spam."
      ]
    },
    {
      "cell_type": "code",
      "execution_count": null,
      "id": "59bed184",
      "metadata": {
        "id": "59bed184"
      },
      "outputs": [],
      "source": [
        "emails_spam = \"fulano@gmail.com, beltrano@gmail.com, ciclano@gmail.com\"\n",
        "email = input('Digite um email: ') #corrigido\n",
        "if emails_spam:#corrigido\n",
        "  print(f'email com evidencias de spam')"
      ]
    },
    {
      "cell_type": "code",
      "source": [],
      "metadata": {
        "id": "P8DT2rPlDMcN"
      },
      "id": "P8DT2rPlDMcN",
      "execution_count": null,
      "outputs": []
    },
    {
      "cell_type": "markdown",
      "id": "487ee073",
      "metadata": {
        "id": "487ee073"
      },
      "source": [
        "#### 5. Faça um programa para a leitura de duas notas parciais de um aluno. O programa deve calcular a média alcançada por aluno e apresentar:\n",
        "\n",
        "##### A mensagem \"Aprovado\", se a média alcançada for maior ou igual a sete;\n",
        "##### A mensagem \"Reprovado\", se a média for menor do que sete;\n",
        "##### A mensagem \"Aprovado com Distinção\", se a média for igual a dez."
      ]
    },
    {
      "cell_type": "code",
      "execution_count": null,
      "id": "7f5c7096",
      "metadata": {
        "id": "7f5c7096"
      },
      "outputs": [],
      "source": [
        "nota1 = int(input('semestre'))\n",
        "nota2 = int(input('semestre'))\n",
        "media = (nota1 + nota2) / 2\n",
        "if media < 7:\n",
        "  print('Reprovado')\n",
        "elif media >= 7:\n",
        "  print('Aprovado')\n",
        "else:\n",
        "  print('Aprovado com Distinção')"
      ]
    },
    {
      "cell_type": "markdown",
      "id": "6dd3f171",
      "metadata": {
        "id": "6dd3f171"
      },
      "source": [
        "#### 6. Faça um Programa que leia o orçamento de 3 empresas e mostre o maior deles."
      ]
    },
    {
      "cell_type": "code",
      "execution_count": null,
      "id": "51b591e5",
      "metadata": {
        "id": "51b591e5",
        "colab": {
          "base_uri": "https://localhost:8080/"
        },
        "outputId": "36f44a20-4701-4e26-974c-f34859d8d7bb"
      },
      "outputs": [
        {
          "output_type": "stream",
          "name": "stdout",
          "text": [
            "orcamento 1: 10\n",
            "orcamento 2: 15\n",
            "orcamento 3: 12\n",
            "empresaf 2 - 15\n"
          ]
        }
      ],
      "source": [
        "empresa1 = int(input('orcamento 1: '))\n",
        "empresa2 = int(input('orcamento 2: '))\n",
        "empresa3 = int(input('orcamento 3: '))\n",
        "\n",
        "if empresa2 > empresa3 > empresa1:\n",
        "  maior = empresa2\n",
        "  print(f'empresaf 2 - {maior}')#x\n",
        "elif empresa2 > empresa1 > empresa3:\n",
        "  maior = empresa2\n",
        "  print(f'empresa 2 - {maior}')#x\n",
        "elif empresa1 > empresa2 > empresa3:\n",
        "  maior = empresa1\n",
        "  print(f'empresaf 1 - {maior}')#x\n",
        "elif empresa1 > empresa3:\n",
        "  maior = empresa1\n",
        "  print(f'empresa 1 - {maior}')#x\n",
        "elif empresa3 > empresa2 > empresa1:\n",
        "  maior = empresa3\n",
        "  print(f'empresaf 3 - {maior}')#x\n",
        "elif empresa3 > empresa1:\n",
        "  maior = empresa3\n",
        "  print(f'empresa 3 - {maior}')#x\n",
        "\n",
        "# outra opçao\n",
        "'''if orcamento1 > orcamento2 and orcamento1 > orcamento3:\n",
        "    print('O maior orcamento é', orcamento1)\n",
        "elif orcamento2 > orcamento1 and orcamento2 > orcamento3:\n",
        "    print('O maior orcamento é', orcamento2)\n",
        "elif orcamento3 > orcamento1 and orcamento3 > orcamento2:\n",
        "    print('O maior orcamento é', orcamento3)'''"
      ]
    },
    {
      "cell_type": "markdown",
      "id": "ce09ed1c",
      "metadata": {
        "id": "ce09ed1c"
      },
      "source": [
        "#### 7. Faça um Programa que leia três orçamentos e mostre o maior e o menor deles."
      ]
    },
    {
      "cell_type": "code",
      "execution_count": null,
      "id": "249f1eb8",
      "metadata": {
        "id": "249f1eb8",
        "colab": {
          "base_uri": "https://localhost:8080/"
        },
        "outputId": "1696243f-8b77-4270-f5ab-7c3270e014fb"
      },
      "outputs": [
        {
          "output_type": "stream",
          "name": "stdout",
          "text": [
            "orcamento 1: 10\n",
            "orcamento 2: 11\n",
            "orcamento 3: 12\n",
            "empresaf 3 - 12 empresaf 1 10\n"
          ]
        }
      ],
      "source": [
        "empresa1 = int(input('orcamento 1: '))\n",
        "empresa2 = int(input('orcamento 2: '))\n",
        "empresa3 = int(input('orcamento 3: '))\n",
        "\n",
        "if empresa2 > empresa3 > empresa1:\n",
        "  maior = empresa2\n",
        "  menor = empresa1\n",
        "  print(f'empresaf 2 - {maior} empresa 1 {menor}')#x\n",
        "elif empresa2 > empresa1 > empresa3:\n",
        "  maior = empresa2\n",
        "  menor = empresa3\n",
        "  print(f'empresa 2 - {maior} empresa 2 {menor}')#x\n",
        "elif empresa1 > empresa2 > empresa3:\n",
        "  maior = empresa1\n",
        "  menor = empresa3\n",
        "  print(f'empresaf 1 - {maior}  empresa 3 {menor}')#x\n",
        "elif empresa1 > empresa3:\n",
        "  maior = empresa1\n",
        "  menor = empresa2\n",
        "  print(f'empresa 1 - {maior} empresa 2 {menor}')#x\n",
        "elif empresa3 > empresa2 > empresa1:\n",
        "  maior = empresa3\n",
        "  menor = empresa1\n",
        "  print(f'empresaf 3 - {maior} empresaf 1 {menor}')#x\n",
        "elif empresa3 > empresa1:\n",
        "  maior = empresa3\n",
        "  menor = empresa2\n",
        "  print(f'empresa 3 - {maior} empresa 3 {menor}')#x\n",
        "\n",
        "'''outra opção\n",
        "f orcamento1 > orcamento2 and orcamento1 > orcamento3:\n",
        "    print('O maior orcamento é', orcamento1)\n",
        "elif orcamento2 > orcamento1 and orcamento2 > orcamento3:\n",
        "    print('O maior orcamento é', orcamento2)\n",
        "elif orcamento3 > orcamento1 and orcamento3 > orcamento2:\n",
        "    print('O maior orcamento é', orcamento3)\n",
        "\n",
        "if orcamento1 < orcamento2 and orcamento1 < orcamento3:\n",
        "    print('O menor orcamento é', orcamento1)\n",
        "elif orcamento2 < orcamento1 and orcamento2 < orcamento3:\n",
        "    print('O menor orcamento é', orcamento2)\n",
        "elif orcamento3 < orcamento1 and orcamento3 < orcamento2:\n",
        "    print('O menor orcamento é', orcamento3)'''"
      ]
    },
    {
      "cell_type": "markdown",
      "id": "7453d43a",
      "metadata": {
        "id": "7453d43a"
      },
      "source": [
        "#### 8. Faça um programa que pergunte o preço de três produtos e informe qual produto você deve comprar, sabendo que a decisão é sempre pelo mais barato."
      ]
    },
    {
      "cell_type": "code",
      "execution_count": null,
      "id": "26a9503e",
      "metadata": {
        "id": "26a9503e"
      },
      "outputs": [],
      "source": [
        "product1 = int(input('Preço: '))\n",
        "product2 = int(input('Preço: '))\n",
        "product3 = int(input('Preço: '))\n",
        "\n",
        "if product1 < product2 < product3:\n",
        "  barato = product1\n",
        "  print(f'O produto mais barato é {barato}')\n",
        "elif product1 < product3 < product2:\n",
        "  barato = product1\n",
        "  print(f'O produto mais barato é {barato}')\n",
        "elif product2 < product1 < product3:\n",
        "  barato = product2\n",
        "  print(f'O produto mais barato é {barato}')\n",
        "elif product2 < product3 < product1:\n",
        "  barato = product2\n",
        "  print(f'O produto mais barato é {barato}')\n",
        "elif product3 < product1 < product2:\n",
        "  barato = product3\n",
        "  print(f'O produto mais barato é {barato}')\n",
        "elif product3 < product2 < product1:\n",
        "  barato = product3\n",
        "  print(f'O produto mais barato é {barato}')\n",
        "else:\n",
        "  print('Erro')\n",
        "\n",
        "\n",
        "  '''if produto1 < produto2 and produto1 < produto3:\n",
        "    print('O produto mais barato é o primeiro produto e custa R$', produto1)\n",
        "elif produto2 < produto1 and produto2 < produto3:\n",
        "    print('O produto mais barato é o segundo produto e custa R$', produto2)\n",
        "elif produto3 < produto1 and produto3 < produto2:\n",
        "    print('O produto mais barato é o terceiro produto e custa R$', produto3)'''"
      ]
    },
    {
      "cell_type": "markdown",
      "id": "9ade258f",
      "metadata": {
        "id": "9ade258f"
      },
      "source": [
        "#### 9. Faça um Programa que leia três números e mostre-os em ordem decrescente."
      ]
    },
    {
      "cell_type": "markdown",
      "source": [
        "## tenho de editar"
      ],
      "metadata": {
        "id": "7vVV0wjqBA3C"
      },
      "id": "7vVV0wjqBA3C"
    },
    {
      "cell_type": "code",
      "execution_count": null,
      "id": "f194c39e",
      "metadata": {
        "id": "f194c39e",
        "colab": {
          "base_uri": "https://localhost:8080/"
        },
        "outputId": "ab306eec-2479-4107-b4e5-a40e7e93f18b"
      },
      "outputs": [
        {
          "output_type": "stream",
          "name": "stdout",
          "text": [
            "Digite um numero: 5\n",
            "Digite um numero: 6\n",
            "Digite um numero: 1\n",
            " 1 6 5\n"
          ]
        }
      ],
      "source": [
        "num, num1, num2 = int(input('Digite um numero: ')),int(input('Digite um numero: ')),int(input('Digite um numero: '))\n",
        "if num < num1 < num2:\n",
        "  primeiro, segundo, terceiro = num, num1, num2\n",
        "  print(f' {terceiro} {segundo} {primeiro}')\n",
        "elif num < num2 < num1:\n",
        "  primeiro, segundo, terceiro = num, num1, num2\n",
        "  print(f' {terceiro} {segundo} {primeiro}')\n",
        "elif num2 < num1 < num:\n",
        "  primeiro, segundo, terceiro = num, num1, num2\n",
        "  print(f' {terceiro} {segundo} {primeiro}')\n",
        "elif num2 < num < num1:\n",
        "  primeiro, segundo, terceiro = num, num1, num2\n",
        "  print(f' {terceiro} {segundo} {primeiro}')\n",
        "elif num1 < num < num2:\n",
        "  primeiro, segundo, terceiro = num, num1, num2\n",
        "  print(f' {terceiro} {segundo} {primeiro}')\n",
        "elif num1 < num2 < num:\n",
        "  primeiro, segundo, terceiro = num, num1, num2\n",
        "  print(f' {terceiro} {segundo} {primeiro}')\n",
        "else:\n",
        "  print('Erro')"
      ]
    },
    {
      "cell_type": "markdown",
      "id": "d06e2fe8",
      "metadata": {
        "id": "d06e2fe8"
      },
      "source": [
        "#### 10. Faça um Programa que pergunte em que turno você estuda. Peça para digitar M-matutino ou V-Vespertino ou N- Noturno. Imprima a mensagem \"Bom Dia!\", \"Boa Tarde!\" ou \"Boa Noite!\" ou \"Valor Inválido!\", conforme o caso."
      ]
    },
    {
      "cell_type": "code",
      "execution_count": null,
      "id": "1eb36141",
      "metadata": {
        "id": "1eb36141",
        "colab": {
          "base_uri": "https://localhost:8080/"
        },
        "outputId": "7c6a2ebb-f342-4eb8-f10c-f6f53b34cac8"
      },
      "outputs": [
        {
          "output_type": "stream",
          "name": "stdout",
          "text": [
            "Qual seu turno: M-matutino\n",
            "Bom Dia\n"
          ]
        }
      ],
      "source": [
        "turno =  input('Qual seu turno: ')\n",
        "if turno == 'M':\n",
        "  print('Bom Dia')\n",
        "if turno == 'V':\n",
        "  print('Boa Tarde')\n",
        "if turno == 'N':\n",
        "  print('Boa Noite')"
      ]
    },
    {
      "cell_type": "markdown",
      "id": "4864b755",
      "metadata": {
        "id": "4864b755"
      },
      "source": [
        "#### 11. As Organizações Tabajara resolveram dar um aumento de salário aos seus colaboradores e lhe contraram para desenvolver o programa que calculará os reajustes. Faça um programa que recebe o salário de um colaborador e o reajuste segundo o seguinte critério, baseado no salário atual:\n",
        "\n",
        "##### salários até R\\\\$ 280,00 (incluindo) : aumento de 20%\n",
        "\n",
        "##### salários entre R\\\\$ 280,00 e R\\\\$ 700,00 : aumento de 15%\n",
        "\n",
        "##### salários entre R\\\\$ 700,00 e R\\\\$ 1500,00 : aumento de 10%\n",
        "\n",
        "##### salários de R\\\\$ 1500,00 em diante : aumento de 5% Após o aumento ser realizado, informe na tela:\n",
        "\n",
        "###### o salário antes do reajuste;\n",
        "\n",
        "###### o percentual de aumento aplicado;\n",
        "\n",
        "###### o valor do aumento;\n",
        "\n",
        "###### o novo salário, após o aumento.\n",
        "\n",
        "###### Obs: Não vamos nos preocupar tanto com a formatação dos números (nº de casas decimais, por exemplo, veremos isso no próximo módulo)"
      ]
    },
    {
      "cell_type": "code",
      "execution_count": null,
      "id": "f0d34916",
      "metadata": {
        "id": "f0d34916",
        "colab": {
          "base_uri": "https://localhost:8080/"
        },
        "outputId": "64102c40-59a4-4349-dac9-458ea72eb64e"
      },
      "outputs": [
        {
          "output_type": "stream",
          "name": "stdout",
          "text": [
            "Digite seu salario: 1547\n",
            "salario 1547 taxa 5%  adicionado 77.35000000000001 salario aumentado1624.35\n"
          ]
        }
      ],
      "source": [
        "consulta = int(input('Digite seu salario: '))\n",
        "if consulta <= 280:\n",
        "  aumento = 0.20\n",
        "  salario = consulta * aumento\n",
        "  print(f'salario {consulta} taxa {aumento:.0%}  adicionado {salario} salario aumentado{consulta + salario }')\n",
        "elif consulta <= 700:\n",
        "  aumento = 0.15\n",
        "  salario = consulta * aumento\n",
        "  print(f'salario {consulta} taxa {aumento:.0%}  adicionado {salario} salario aumentado{consulta + salario }')\n",
        "elif consulta <= 1500:\n",
        "  aumento = 0.10\n",
        "  salario = consulta * aumento\n",
        "  print(f'salario {consulta} taxa {aumento:.0%}  adicionado {salario} salario aumentado{consulta + salario }')\n",
        "elif consulta >= 1500:\n",
        "  aumento = 0.05\n",
        "  salario = consulta * aumento\n",
        "  print(f'salario {consulta} taxa {aumento:.0%}  adicionado {salario} salario aumentado{consulta + salario }')"
      ]
    },
    {
      "cell_type": "markdown",
      "id": "b037f1e8",
      "metadata": {
        "id": "b037f1e8"
      },
      "source": [
        "#### 12 . Faça um programa para o cálculo de uma folha de pagamento, sabendo que os descontos são do Imposto de Renda, que depende do salário bruto (conforme tabela abaixo) e que o FGTS corresponde a 11% do Salário Bruto, mas não é descontado (é a empresa que deposita). O Salário Líquido corresponde ao Salário Bruto menos os descontos. O programa deverá pedir ao usuário o valor da sua hora e a quantidade de horas trabalhadas no mês.\n",
        "\n",
        "Desconto do IR:<br>\n",
        "Salário Bruto até 900 (inclusive) - isento<br>\n",
        "Salário Bruto até 1500 (inclusive) - desconto de 5%<br>\n",
        "Salário Bruto até 2500 (inclusive) - desconto de 10%<br>\n",
        "Salário Bruto acima de 2500 - desconto de 20%<br>\n",
        "Imprima na tela as informações, dispostas conforme o exemplo abaixo. No exemplo o valor da hora é 5 e a quantidade de hora é 220.\n",
        "\n",
        "Salário Bruto: (5 * 220)        : R\\\\$ 1100,00<br>\n",
        "(-) IR (5%)                     : R\\\\$   55,00<br>\n",
        "(-) INSS ( 10%)                 : R\\\\$  110,00<br>\n",
        "FGTS (11%)                      : R\\\\$  121,00<br>\n",
        "Total de descontos              : R\\\\$  165,00<br>\n",
        "Salário Liquido                 : R\\\\$  935,00<br>\n",
        "\n",
        "###### Obs: Não vamos nos preocupar tanto com a formatação dos números (nº de casas decimais, por exemplo, veremos isso no próximo módulo)"
      ]
    },
    {
      "cell_type": "code",
      "execution_count": null,
      "id": "dad18bb2",
      "metadata": {
        "id": "dad18bb2",
        "colab": {
          "base_uri": "https://localhost:8080/"
        },
        "outputId": "b5c6384e-c1e6-4bb4-a09d-8cab631a00dc"
      },
      "outputs": [
        {
          "output_type": "stream",
          "name": "stdout",
          "text": [
            "Coloque horas trabalhadas: 160\n",
            "Salario bruto 12800\n",
            "Ir 2560.0\n",
            "Inss 1280.0\n",
            "Fgts 1408.0\n",
            "Total de desconto 3840.0\n",
            "Salario liquido 8960.0\n"
          ]
        }
      ],
      "source": [
        "consulta = int(input('Coloque horas trabalhadas: '))\n",
        "h_trabalhada = 80\n",
        "salario_b = consulta * h_trabalhada\n",
        "fgts = 0.11\n",
        "inss = .1\n",
        "if salario_b <= 900:\n",
        "  m_inss = salario_b * inss\n",
        "  m_fgts = salario_b * fgts\n",
        "  desconto = m_inss + m_fgts\n",
        "  salario_l = salario_b - desconto\n",
        "  print(f'Salario bruto {salario_b}\\nInss {m_inss}\\nFgts {m_fgts}\\nTotal de desconto {desconto}\\nSalario liquido{salario_l}')\n",
        "if salario_b <= 1500:\n",
        "  ir = .05 * salario_b\n",
        "  m_inss = salario_b * inss\n",
        "  m_fgts = salario_b * fgts\n",
        "  desconto = m_inss + m_fgts\n",
        "  salario_l = salario_b - desconto\n",
        "  print(f'Salario bruto {salario_b}\\nIr {ir}\\nInss {m_inss}\\nFgts {m_fgts}\\nTotal de desconto {desconto}\\nSalario liquido{salario_l}')\n",
        "if salario_b <= 2500:\n",
        "  ir = .1 * salario_b\n",
        "  m_inss = salario_b * inss\n",
        "  m_fgts = salario_b * fgts\n",
        "  desconto = m_inss + m_fgts\n",
        "  salario_l = salario_b - desconto\n",
        "  print(f'Salario bruto {salario_b}\\nIr {ir}\\nInss {m_inss}\\nFgts {m_fgts}\\nTotal de desconto {desconto}\\nSalario liquido{salario_l}')\n",
        "if salario_b >= 2500:\n",
        "  ir = .2 * salario_b\n",
        "  m_inss = salario_b * inss\n",
        "  m_fgts = salario_b * fgts\n",
        "  desconto = m_inss + ir\n",
        "  salario_l = salario_b - desconto\n",
        "  print(f'Salario bruto {salario_b}\\nIr {ir}\\nInss {m_inss}\\nFgts {m_fgts}\\nTotal de desconto {desconto}\\nSalario liquido {salario_l}')\n",
        "\n"
      ]
    },
    {
      "cell_type": "markdown",
      "id": "814fc211",
      "metadata": {
        "id": "814fc211"
      },
      "source": [
        "#### 13. Faça um Programa que leia um número e exiba o dia correspondente da semana. (1-Domingo, 2- Segunda, etc.), se digitar outro valor deve aparecer valor inválido."
      ]
    },
    {
      "cell_type": "code",
      "execution_count": null,
      "id": "f2c2b8d8",
      "metadata": {
        "id": "f2c2b8d8",
        "colab": {
          "base_uri": "https://localhost:8080/"
        },
        "outputId": "9677e530-c953-4a31-e3b1-f24f46ad1a4f"
      },
      "outputs": [
        {
          "output_type": "stream",
          "name": "stdout",
          "text": [
            "dia da semana: k\n",
            "a um erro\n"
          ]
        }
      ],
      "source": [
        "consulta =  input('dia da semana: ')\n",
        "if consulta == '1':\n",
        "  print('segunda feira')\n",
        "elif consulta == '2':\n",
        "  print('terça feira')\n",
        "elif consulta == '3':\n",
        "  print('quarta feira')\n",
        "elif consulta == '4':\n",
        "  print('quinta feira')\n",
        "elif consulta == '5':\n",
        "  print('sexta feira')\n",
        "elif consulta == '6':\n",
        "  print('sabado')\n",
        "elif consulta == '7':\n",
        "  print('domingo')\n",
        "else:\n",
        "  print('a um erro')\n",
        "\n"
      ]
    },
    {
      "cell_type": "markdown",
      "id": "6e5f461e",
      "metadata": {
        "id": "6e5f461e"
      },
      "source": [
        "#### 14. Faça um programa que lê as duas notas parciais obtidas por um aluno numa disciplina ao longo de um semestre, e calcule a sua média. Em seguida, mostre qual conceito o aluno teve. A atribuição de conceitos obedece à tabela abaixo:\n",
        "<pre>\n",
        "Média de Aproveitamento  Conceito\n",
        "Entre 9.0 e 10.0        A\n",
        "Entre 7.5 e 9.0         B\n",
        "Entre 6.0 e 7.5         C\n",
        "Entre 4.0 e 6.0         D\n",
        "Entre 4.0 e zero        E\n",
        "</pre>"
      ]
    },
    {
      "cell_type": "code",
      "execution_count": null,
      "id": "29721a43",
      "metadata": {
        "id": "29721a43"
      },
      "outputs": [],
      "source": [
        "nota1 = float(input('Nota'))\n",
        "nota2 = float(input('Nota'))\n",
        "\n",
        "media = (nota1 + nota2 ) / 2\n",
        "if media <= 4:\n",
        "  print('E')\n",
        "if media <= 6:\n",
        "  print('D')\n",
        "if media <= 7.5:\n",
        "  print('C')\n",
        "if media <= 9:\n",
        "  print('B')\n",
        "if media <= 10:\n",
        "  print('A')"
      ]
    },
    {
      "cell_type": "markdown",
      "id": "e6b3bcaf",
      "metadata": {
        "id": "e6b3bcaf"
      },
      "source": [
        "#### 15. Você está construindo um calendário para controlar dias de trabalho a pedido do RH. Nessa construção, você vai precisar definir quais anos são bissextos e quais não são, para montar o calendário de forma correta. Faça um Programa que peça um número correspondente a um determinado ano e em seguida informe se este ano é ou não bissexto.\n",
        "<pre>\n",
        "Dica para determinar se um ano é bissexto:\n",
        "- São bissextos todos os anos múltiplos de 400, p.ex.: 1600, 2000, 2400, 2800...\n",
        "- São bissextos todos os múltiplos de 4, exceto se for múltiplo de 100 mas não de 400,\n",
        "p.ex.: 1996, 2000, 2004, 2008, 2012, 2016, 2020, 2024, 2028...\n",
        "- Não são bissextos todos os demais anos.<br>\n",
        "ex1: 2004 é múltiplo de 4, mas não é múltiplo de 100, então é bissexto.\n",
        "ex2: 2000 é múltiplo de 4, mas é múltiplo de 100, só que também é multiplo de 400, então é bissexto (porque todo ano múltiplo de 400 é bissexto, independente do resto).\n",
        "ex3: 1900 é múltiplo de 4, é múltiplo de 100, mas não é múltiplo de 400, então não é bissexto\n",
        "\n",
        "</pre>\n",
        "\n",
        "Dica: lembre que: numero % 4 é o resto da divisão do número por 4, ex: 10 % 3 = 1 (já que 10/3 = 3 e resta 1)"
      ]
    },
    {
      "cell_type": "code",
      "execution_count": null,
      "id": "56af223f",
      "metadata": {
        "id": "56af223f",
        "colab": {
          "base_uri": "https://localhost:8080/"
        },
        "outputId": "7e6c6f37-e57e-4769-90d5-79b3bbf46088"
      },
      "outputs": [
        {
          "output_type": "stream",
          "name": "stdout",
          "text": [
            "ano bissexto: 1994\n",
            "O ano 1994 não é bissexto\n"
          ]
        }
      ],
      "source": [
        "consulta = int(input('ano bissexto: '))\n",
        "if consulta % 4 == 0 and consulta %  100 != 0 or consulta % 400 == 0:\n",
        "  print(f'O ano {consulta} ) é bissexto')\n",
        "else:\n",
        "  print(f'O ano {consulta} não é bissexto')"
      ]
    },
    {
      "cell_type": "markdown",
      "id": "9fe532c8",
      "metadata": {
        "id": "9fe532c8"
      },
      "source": [
        "#### 16. Faça um Programa para leitura de três notas parciais de um aluno. O programa deve calcular a média alcançada por aluno e presentar:\n",
        "<pre>\n",
        "A mensagem \"Aprovado\", se a média for maior ou igual a 7, com a respectiva média alcançada;\n",
        "A mensagem \"Reprovado\", se a média for menor do que 7, com a respectiva média alcançada;\n",
        "A mensagem \"Aprovado com Distinção\", se a média for igual a 10.\n",
        "</pre>"
      ]
    },
    {
      "cell_type": "code",
      "execution_count": null,
      "id": "1a56e99f",
      "metadata": {
        "id": "1a56e99f"
      },
      "outputs": [],
      "source": [
        "nota1, nota2, nota3 = float(input('nota: ')), float(input('nota: ')), float(input('nota: '))\n",
        "media = (nota1 + nota2 + nota3) / 3\n",
        "if media < 7:\n",
        "  print('Reprovado')\n",
        "if media > 7:\n",
        "  print('Aprovado')\n",
        "if media == 10:\n",
        "  print('Aprovado com Distinção')"
      ]
    },
    {
      "cell_type": "markdown",
      "id": "d544412e",
      "metadata": {
        "id": "d544412e"
      },
      "source": [
        "#### 17. João Papo-de-Pescador, homem de bem, comprou um microcomputador para controlar o rendimento diário de seu trabalho. Toda vez que ele traz um peso de peixes maior que o estabelecido pelo regulamento de pesca do estado de São Paulo (50 quilos) deve pagar uma multa de R$ 4,00 por quilo excedente. João precisa que você faça um programa que leia a variável peso (peso de peixes) e calcule o excesso. Gravar na variável excesso a quantidade de quilos além do limite e na variável multa o valor da multa que João deverá pagar. Imprima os dados do programa com as mensagens adequadas."
      ]
    },
    {
      "cell_type": "code",
      "execution_count": null,
      "id": "971ed027",
      "metadata": {
        "id": "971ed027",
        "colab": {
          "base_uri": "https://localhost:8080/"
        },
        "outputId": "e15641ab-57cb-429b-a4a1-f154b371d6ef"
      },
      "outputs": [
        {
          "output_type": "stream",
          "name": "stdout",
          "text": [
            "Peso do peixe: 49\n",
            "Não há multa a pagar\n"
          ]
        }
      ],
      "source": [
        "consulta = float(input('Peso do peixe: '))\n",
        "if consulta > 50:\n",
        "  excedente =consulta - 50\n",
        "  multa = excedente * 4\n",
        "  print(f'peso total - {consulta} peso excedente - {excedente:.2f} multa - {multa:.2f}')\n",
        "else:\n",
        "  print('Não há multa a pagar')"
      ]
    },
    {
      "cell_type": "markdown",
      "id": "0e5256e0",
      "metadata": {
        "id": "0e5256e0"
      },
      "source": [
        "#### 18. Faça um Programa para um caixa eletrônico. O programa deverá perguntar ao usuário a valor do saque e depois informar quantas notas de cada valor serão fornecidas. As notas disponíveis serão as de 1, 5, 10, 50 e 100 reais. O valor mínimo é de 10 reais e o máximo de 600 reais. O programa não deve se preocupar com a quantidade de notas existentes na máquina.\n",
        "<pre>\n",
        "Exemplo 1: Para sacar a quantia de 256 reais, o programa fornece duas notas de 100, uma nota de 50, uma nota de 5 e uma nota de 1;\n",
        "Exemplo 2: Para sacar a quantia de 399 reais, o programa fornece três notas de 100, uma nota de 50, quatro notas de 10, uma nota de 5 e quatro notas de 1.\n",
        "</pre>\n",
        "\n",
        "Dica1: numero // 10 vai te dar como resposta a parte inteira da divisão do número por 10.<br>\n",
        "Dica2: numero % 10 vai te dar o resto da divisão do número por 10."
      ]
    },
    {
      "cell_type": "code",
      "execution_count": null,
      "id": "9b4244c7",
      "metadata": {
        "id": "9b4244c7",
        "colab": {
          "base_uri": "https://localhost:8080/"
        },
        "outputId": "ea17ef38-391d-4672-dbe1-0340de618d94"
      },
      "outputs": [
        {
          "output_type": "stream",
          "name": "stdout",
          "text": [
            "Sacar: 397\n",
            " 3 notas de 100\n",
            " 1 notas de 50\n",
            " 4 notas de 10\n",
            " 1 notas de 5\n",
            " 2 notas de 1\n"
          ]
        }
      ],
      "source": [
        "consulta = int(input('Sacar: '))\n",
        "# if 10 <= valor <= 600:\n",
        "if consulta // 100 :\n",
        "  r = consulta // 100\n",
        "  print(f' {r} notas de 100')\n",
        "  consulta = consulta - (r * 100)\n",
        "if consulta // 50:\n",
        "  r = consulta // 50\n",
        "  print(f' {r} notas de 50')\n",
        "  consulta = consulta - (r * 50)\n",
        "if consulta // 10:\n",
        "  r =consulta // 10\n",
        "  print(f' {r} notas de 10')\n",
        "  consulta = consulta - (r * 10)\n",
        "if consulta // 5:\n",
        "    r =consulta // 5\n",
        "    print(f' {r} notas de 5')\n",
        "    consulta = consulta - (r * 5)\n",
        "if consulta // 1:\n",
        "  r =consulta // 1\n",
        "  print(f' {r} notas de 1')\n",
        "\n",
        "\n",
        "# if valor % 100 >= 50:"
      ]
    },
    {
      "cell_type": "markdown",
      "id": "cba47494",
      "metadata": {
        "id": "cba47494"
      },
      "source": [
        "#### 19. Faça um programa que faça 5 perguntas para uma pessoa sobre um crime. As perguntas são:\n",
        "<pre>\n",
        "\"Telefonou para a vítima?\"\n",
        "\"Esteve no local do crime?\"\n",
        "\"Mora perto da vítima?\"\n",
        "\"Devia para a vítima?\"\n",
        "\"Já trabalhou com a vítima?\"\n",
        "O programa deve no final emitir uma classificação sobre a participação da pessoa no crime. Se a pessoa responder positivamente a 2 questões ela deve ser classificada como \"Suspeita\", entre 3 e 4 como \"Cúmplice\" e 5 como \"Assassino\". Caso contrário, ele será classificado como \"Inocente\".\n",
        "</pre>"
      ]
    },
    {
      "cell_type": "code",
      "execution_count": null,
      "id": "5fdf9b88",
      "metadata": {
        "id": "5fdf9b88",
        "colab": {
          "base_uri": "https://localhost:8080/"
        },
        "outputId": "48e47244-c782-4de1-b95a-a7e624ec5b93"
      },
      "outputs": [
        {
          "output_type": "stream",
          "name": "stdout",
          "text": [
            "Telefonou para a vítima?sim\n",
            "Esteve no local do crime?sim\n",
            "Mora perto da vítima?nao\n",
            "Devia para a vítima?nao\n",
            "Já trabalhou com a vítima?nao\n",
            "2\n",
            "suspeita\n"
          ]
        }
      ],
      "source": [
        "pergunta = input('Telefonou para a vítima?')\n",
        "pergunta1 = input(\"Esteve no local do crime?\")\n",
        "pergunta2 = input(\"Mora perto da vítima?\")\n",
        "pergunta3 = input(\"Devia para a vítima?\")\n",
        "pergunta4 = input(\"Já trabalhou com a vítima?\")\n",
        "c = 0\n",
        "if pergunta == 'sim':\n",
        "  c += 1\n",
        "\n",
        "if pergunta1 == 'sim':\n",
        "  c += 1\n",
        "\n",
        "if pergunta2 == 'sim':\n",
        "  c += 1\n",
        "\n",
        "if pergunta3 == 'sim':\n",
        "  c += 1\n",
        "\n",
        "if pergunta4 == 'sim':\n",
        "  c += 1\n",
        "print(c)\n",
        "if c == 2:\n",
        "  print( 'suspeita')\n",
        "elif 2 < c < 4: #corrigido\n",
        "  print('cúmplice')\n",
        "elif c == 5:\n",
        "  print('assassino')\n",
        "else:\n",
        "  print('inocente')"
      ]
    },
    {
      "cell_type": "markdown",
      "id": "18901e98",
      "metadata": {
        "id": "18901e98"
      },
      "source": [
        "#### 20. Um posto está vendendo combustíveis com a seguinte tabela de descontos:\n",
        "<pre>\n",
        "Álcool:\n",
        "até 20 litros, desconto de 3% por litro\n",
        "acima de 20 litros, desconto de 5% por litro\n",
        "Gasolina:\n",
        "até 20 litros, desconto de 4% por litro\n",
        "acima de 20 litros, desconto de 6% por litro\n",
        "\n",
        "Escreva um algoritmo que leia o número de litros vendidos, o tipo de combustível (codificado da seguinte forma: A-álcool, G-gasolina), calcule e imprima o valor a ser pago pelo cliente sabendo-se que o preço do litro da gasolina é R$ 2,50 o preço do litro do álcool é R$ 1,90.\n",
        "</pre>"
      ]
    },
    {
      "cell_type": "code",
      "execution_count": null,
      "id": "a1fd8c38",
      "metadata": {
        "id": "a1fd8c38",
        "colab": {
          "base_uri": "https://localhost:8080/"
        },
        "outputId": "0a4202d7-41fe-4ff3-b410-04fb9eedb9ea"
      },
      "outputs": [
        {
          "output_type": "stream",
          "name": "stdout",
          "text": [
            "Qual combustivel? 1 para alcool e 2 para gasolina: 2\n",
            "Quanto litros de gasolina? 50\n",
            "valor total 117.50\n"
          ]
        }
      ],
      "source": [
        "consulta = int(input('Qual combustivel? 1 para alcool e 2 para gasolina: '))\n",
        "if consulta == 1:\n",
        "  preco_a = 1.9\n",
        "  alcool = float(input('Quanto litros de alcool? '))\n",
        "  if alcool > 20:\n",
        "    desconto = .05\n",
        "    valor = (preco_a - (preco_a * desconto))* alcool\n",
        "    print(f'valor total {valor:.2f}')\n",
        "  if alcool <= 20:\n",
        "    desconto = .03\n",
        "    valor = (preco_a - (preco_a * desconto))* alcool\n",
        "    print(f'Valor {valor:.2f}')\n",
        "\n",
        "if consulta == 2:\n",
        "  preco_g = 2.5\n",
        "  gasolina = float(input('Quanto litros de gasolina? '))\n",
        "  if gasolina > 20:\n",
        "    desconto = .06\n",
        "    valor = (preco_g - (preco_g * desconto))* gasolina\n",
        "    print(f'valor total {valor:.2f}')\n",
        "  if gasolina <= 20:\n",
        "    desconto = .04\n",
        "    valor = (preco_g - (preco_g * desconto))* gasolina\n",
        "    print(f'Valor {valor:.2f}')\n",
        "else:\n",
        "  print('Tente apenas 1 ou 2')\n",
        "\n",
        "'''tipo = input('Informe o tipo de combustível: ')\n",
        "quantidade = float(input('Informe a quantidade de combustível: '))\n",
        "\n",
        "if tipo == 'A' and quantidade <= 20:\n",
        "    total = (1.9 * quantidade) * 0.97\n",
        "elif tipo == 'A' and quantidade > 20:\n",
        "    total = (1.9 * quantidade) * 0.95\n",
        "elif tipo == 'G' and quantidade <= 20:\n",
        "    total = (2.5 * quantidade) * 0.96\n",
        "elif tipo == 'G' and quantidade > 20:\n",
        "    total = (2.5 * quantidade) * 0.94\n",
        "\n",
        "print('Total a pagar: R$', total)'''"
      ]
    },
    {
      "cell_type": "markdown",
      "id": "be0f8f32",
      "metadata": {
        "id": "be0f8f32"
      },
      "source": [
        "#### 21. Uma fruteira está vendendo frutas com a seguinte tabela de preços:\n",
        "<pre>\n",
        "                      Até 5 Kg           Acima de 5 Kg\n",
        "Morango         R$ 2,50 por Kg          R$ 2,20 por Kg\n",
        "Maçã            R$ 1,80 por Kg          R$ 1,50 por Kg\n",
        "Se o cliente comprar mais de 8 Kg em frutas ou o valor total da compra ultrapassar R$ 25,00, receberá ainda um desconto de 10% sobre este total. Escreva um algoritmo para ler a quantidade (em Kg) de morangos e a quantidade (em Kg) de maças adquiridas e escreva o valor a ser pago pelo cliente.\n",
        "</pre>"
      ]
    },
    {
      "cell_type": "code",
      "execution_count": null,
      "id": "35c47c8e",
      "metadata": {
        "id": "35c47c8e",
        "colab": {
          "base_uri": "https://localhost:8080/"
        },
        "outputId": "297c9a4d-2fac-4d7f-f3e5-f940b087d1a2"
      },
      "outputs": [
        {
          "output_type": "stream",
          "name": "stdout",
          "text": [
            "******* Hort Frut *******\n",
            "Qual fruta deseja? morango\n",
            "Quantos kgs? 1\n",
            "preço morango: 2.50\n",
            "Qual fruta deseja? maca\n",
            "Quantos kgs? 1\n",
            "preço maçã: 1.80\n",
            "valor total 4.30\n"
          ]
        }
      ],
      "source": [
        "print('*' * 7, 'Hort Frut', '*' * 7)\n",
        "fruta = input('Qual fruta deseja? ')\n",
        "peso = float(input('Quantos kgs? '))\n",
        "if fruta == 'morango':\n",
        "  if peso <= 5:\n",
        "    preco = 2.5\n",
        "    valormo = preco * peso\n",
        "    print(f'preço morango: {valormo:.2f}')\n",
        "  elif peso > 5:\n",
        "    preco = 2.2\n",
        "    valormo = preco * peso\n",
        "    print(f'preço morango: {valormo:.2f}')\n",
        "fruta = input('Qual fruta deseja? ')\n",
        "peso = float(input('Quantos kgs? '))\n",
        "if fruta == 'maca' or fruta == 'maçã' or fruta == 'maça':\n",
        "  if peso <= 5:\n",
        "    preco = 1.8\n",
        "    valorma = preco * peso\n",
        "    print(f'preço maçã: {valorma:.2f}')\n",
        "  elif peso > 5:\n",
        "    preco = 1.5\n",
        "    valorma = preco * peso\n",
        "    print(f'preço maçã: {valorma:.2f}')\n",
        "valor = valorma + valormo\n",
        "if valor > 25:\n",
        "  desconto = .1\n",
        "  valor = valor - (valor * desconto)\n",
        "  print(f'desconto de {desconto:.2%}')\n",
        "print(f'valor total {valor:.2f}')\n"
      ]
    },
    {
      "cell_type": "markdown",
      "id": "4dbd53ed",
      "metadata": {
        "id": "4dbd53ed"
      },
      "source": [
        "#### 22. O Hipermercado Tabajara está com uma promoção de carnes que é imperdível. Confira:\n",
        "<pre>\n",
        "                      Até 5 Kg           Acima de 5 Kg\n",
        "File Duplo      R$ 4,90 por Kg          R$ 5,80 por Kg\n",
        "Alcatra         R$ 5,90 por Kg          R$ 6,80 por Kg\n",
        "Picanha         R$ 6,90 por Kg          R$ 7,80 por Kg\n",
        "Para atender a todos os clientes, cada cliente poderá levar apenas um dos tipos de carne da promoção, porém não há limites para a quantidade de carne por cliente. Se compra for feita no cartão Tabajara o cliente receberá ainda um desconto de 5% sobre o total da compra. Escreva um programa que peça o tipo e a quantidade de carne comprada pelo usuário e gere um cupom fiscal, contendo as informações da compra: tipo e quantidade de carne, preço total, tipo de pagamento, valor do desconto e valor a pagar.\n",
        "</pre>"
      ]
    },
    {
      "cell_type": "code",
      "execution_count": null,
      "id": "15a77357",
      "metadata": {
        "id": "15a77357",
        "colab": {
          "base_uri": "https://localhost:8080/"
        },
        "outputId": "f434deb6-d8c9-4e74-e2cf-e545fdd93157"
      },
      "outputs": [
        {
          "output_type": "stream",
          "name": "stdout",
          "text": [
            "******* Mercado *******\n",
            " *********************\n",
            "Aproveite a promoção\n",
            "Escolha a promoção que cabe no seu bolso: file\n",
            "kg 5\n",
            "Modo de pagamento (cartão ou dinheiro): cartão\n",
            "produto: file, \n",
            "Quantidade: 5.0kg, \n",
            "valor 24.5, \n",
            "modo de pagamento: cartão, \n",
            "valor descontado: 1.225, \n",
            "valor a pagar 23.275\n"
          ]
        }
      ],
      "source": [
        "produto = 'Mercado'\n",
        "print(('*' *7 ),produto, ('*'* 7))\n",
        "print( '',int(len(produto)+ 14) * '*')\n",
        "print('Aproveite a promoção')\n",
        "produto = input('Escolha a promoção que cabe no seu bolso: ')\n",
        "peso = float(input('kg '))\n",
        "desconto = .05\n",
        "pag = input('Modo de pagamento (cartão ou dinheiro): ')\n",
        "if produto == 'file':\n",
        "  if peso <= 5:\n",
        "    preco = 4.9\n",
        "    valorr = preco * peso\n",
        "    if 'cartão' == pag:\n",
        "      valor = valorr - (valorr * desconto)\n",
        "    print(f'produto: {produto}, \\nQuantidade: {peso}kg, \\nvalor {valorr}, \\nmodo de pagamento: {pag}, \\nvalor descontado: {valorr * desconto}, \\nvalor a pagar {valor}')\n",
        "  elif peso > 5:\n",
        "    preco = 5.8\n",
        "    valorr = preco * peso\n",
        "    if 'cartão' == pag:\n",
        "      valor = valorr - (valorr * desconto)\n",
        "    print(f'produto: {produto}, \\nQuantidade: {peso}kg, \\nvalor {valorr}, \\nmodo de pagamento: {pag}, \\nvalor descontado: {valorr * desconto}, \\nvalor a pagar {valor}')\n",
        "\n",
        "if produto == 'alcatra':\n",
        "  print('alcatra')\n",
        "  if peso <= 5:\n",
        "    preco = 5.9\n",
        "    valorr = preco * peso\n",
        "    if 'cartão' == pag:\n",
        "      valor = valorr - (valorr * desconto)\n",
        "    print(f'produto: {produto}, \\nQuantidade: {peso}kg, \\nvalor {valorr}, \\nmodo de pagamento: {pag}, \\nvalor descontado: {valorr * desconto}, \\nvalor a pagar {valor}')\n",
        "  elif peso > 5:\n",
        "    preco = 6.8\n",
        "    valorr = preco * peso\n",
        "    if 'cartão' == pag:\n",
        "      valor = valorr - (valorr * desconto)\n",
        "    print(f'produto: {produto}, \\nQuantidade: {peso}kg, \\nvalor {valorr}, \\nmodo de pagamento: {pag}, \\nvalor descontado: {valorr * desconto}, \\nvalor a pagar {valor}')\n",
        "if produto == 'picanha':\n",
        "  print('picanha')\n",
        "  if peso <= 5:\n",
        "    preco = 6.9\n",
        "    valorr = preco * peso\n",
        "    if 'cartão' == pag:\n",
        "      valor = valorr - (valorr * desconto)\n",
        "    print(f'produto: {produto}, \\nQuantidade: {peso}kg, \\nvalor {valorr}, \\nmodo de pagamento: {pag}, \\nvalor descontado: {valorr * desconto}, \\nvalor a pagar {valor}')\n",
        "  elif peso > 5:\n",
        "    preco = 7.8\n",
        "    valorr = preco * peso\n",
        "    if 'cartão' == pag:\n",
        "      valor = valorr - (valorr * desconto)\n",
        "    print(f'produto: {produto}, \\nQuantidade: {peso}kg, \\nvalor {valorr}, \\nmodo de pagamento: {pag}, \\nvalor descontado: {valorr * desconto}, \\nvalor a pagar {valor}')\n",
        "# desconto = 0.05 * total if pagamento == 'C' else 0"
      ]
    },
    {
      "cell_type": "markdown",
      "id": "b949545b",
      "metadata": {
        "id": "b949545b"
      },
      "source": [
        "#### 23. Faça um Programa para uma loja de tintas. O programa deverá pedir o tamanho em metros quadrados da área a ser pintada. Considere que a cobertura da tinta é de 1 litro para cada 6 metros quadrados e que a tinta é vendida em latas de 18 litros, que custam R\\\\$ 80,00 ou em galões de 3,6 litros, que custam R\\\\$ 25,00."
      ]
    },
    {
      "cell_type": "code",
      "execution_count": null,
      "id": "b11185b0",
      "metadata": {
        "id": "b11185b0",
        "colab": {
          "base_uri": "https://localhost:8080/"
        },
        "outputId": "39f79591-12ec-41c2-d153-1e9df418853e"
      },
      "outputs": [
        {
          "output_type": "stream",
          "name": "stdout",
          "text": [
            "Informe a altura: 150\n",
            "Informe a largura: 1\n",
            "Quantas paredes? 1\n",
            "25.0\n"
          ]
        }
      ],
      "source": [
        "altura, largura = float(input('Informe a altura: ')), float(input('Informe a largura: '))\n",
        "area = altura * largura\n",
        "parede = int(input('Quantas paredes? '))\n",
        "litros_tinta = area / 6\n",
        "total = parede * litros_tinta\n",
        "print(total)"
      ]
    },
    {
      "cell_type": "markdown",
      "id": "b3d0598f",
      "metadata": {
        "id": "b3d0598f"
      },
      "source": [
        "##### Informe ao usuário as quantidades de tinta a serem compradas e os respectivos preços em 3 situações.\n",
        "\n",
        "Dica: lembre dos operadores // e % mostrados em exercícios anteriores<br>\n",
        "Dica1: numero // 10 vai te dar como resposta a parte inteira da divisão do número por 10.<br>\n",
        "Dica2: numero % 10 vai te dar o resto da divisão do número por 10.\n",
        "\n",
        "##### 1. Comprar apenas latas de 18 litros: (apenas latas inteiras)"
      ]
    },
    {
      "cell_type": "code",
      "execution_count": null,
      "id": "ed599d53",
      "metadata": {
        "id": "ed599d53",
        "colab": {
          "base_uri": "https://localhost:8080/"
        },
        "outputId": "9fe61f0c-1eb5-4243-8893-476ab2ca8e69"
      },
      "outputs": [
        {
          "output_type": "stream",
          "name": "stdout",
          "text": [
            "compra 2.0 de 18L por 160.0\n"
          ]
        }
      ],
      "source": [
        "if total % 18 > 0:\n",
        "  precou = total // 18 +1\n",
        "else:\n",
        "  precou = total // 18\n",
        "resto = precou * 80\n",
        "'''% 18'''\n",
        "print(f'compra {precou} de 18L por {resto}')\n",
        "\n"
      ]
    },
    {
      "cell_type": "markdown",
      "source": [
        "print(total)\n",
        "if float(total) > 0:\n",
        "  precou = 25\n",
        "  quanti = total // 3.6\n",
        "  quant = int(total % 3 + quanti)\n",
        "  if total % 3.6 != 0 :\n",
        "    quant += 1\n",
        "    preco = precou * quant\n",
        "    print(f'Recomenda se que leve {quant} de 3,6L no valor de R${preco:.2f} total de litro {quant * 3.6}')\n",
        "  else:\n",
        "    preco = precou * quant\n",
        "    print(f'Recomenda se que leve {quant} de 3,6L no valor de R${preco:.2f} total de litro {quant * 3.6}')\n",
        "  precou = 80\n",
        "  quant = total // 18\n",
        "  if total % 18 != 0:\n",
        "    quant += 1\n",
        "    preco = precou * quant\n",
        "    if quant > 0:\n",
        "      print(f'ou {int(quant)} no valor de R${preco:.2f} total de litro {quant * 18}')"
      ],
      "metadata": {
        "id": "Rgw-Sh_3Ai1S"
      },
      "id": "Rgw-Sh_3Ai1S"
    },
    {
      "cell_type": "markdown",
      "id": "ab03bc10",
      "metadata": {
        "id": "ab03bc10"
      },
      "source": [
        "##### 2. Comprar apenas galões de 3,6 litros: (apenas galoes inteiros)"
      ]
    },
    {
      "cell_type": "code",
      "execution_count": null,
      "id": "542f4a77",
      "metadata": {
        "id": "542f4a77",
        "colab": {
          "base_uri": "https://localhost:8080/"
        },
        "outputId": "0940af14-92b4-4683-e6ca-9d2f012f7356"
      },
      "outputs": [
        {
          "output_type": "stream",
          "name": "stdout",
          "text": [
            "a compre 7.0 de 3.6L no custo de: 175.0\n"
          ]
        }
      ],
      "source": [
        "if total % 3.6 > 0:\n",
        "  precou = total // 3.6 +1\n",
        "else:\n",
        "  precou = total // 3.6\n",
        "resto = precou * 25\n",
        "print(f'a compre {precou} de 3.6L no custo de: {resto}')\n"
      ]
    },
    {
      "cell_type": "markdown",
      "source": [
        "##### 3. Misturar latas e galões, de forma que o desperdício de tinta seja menor. Acrescente 10% de folga e sempre arredonde os valores para cima, isto é, considere latas cheias."
      ],
      "metadata": {
        "id": "8Jbw7RupH9Nc"
      },
      "id": "8Jbw7RupH9Nc"
    },
    {
      "cell_type": "markdown",
      "id": "93d4157b",
      "metadata": {
        "id": "93d4157b"
      },
      "source": [
        "O custo da lata é 80/18 = 4,44 R\\\\$/L\n",
        "\n",
        "O custo do galão é 25/3,6 = 6,94 R\\\\$/L\n",
        "\n",
        "A lata é mais econômica, então todas as latas inteiras que pudermos usar devemos comprar em latas. Se ficar faltando alguma coisa para completar devemos avaliar se é melhor comprar latas ou galões. Exemplo:\n",
        "\n",
        "Se queremos comprar 90 litros. 5 latas dão exatamente 90 litros. Então devemos comprar tudo em latas.\n",
        "\n",
        "Se queremos comprar 95 litros. 5 latas dão exatamente 90 litros. Então devemos comprar pelo menos 5 latas e avaliar o que falta, se estes últimos 5 litros valem mais apenas em latas ou galões.\n",
        "\n",
        "Para os 5 litros faltantes precisamos de 2 galões que custam 50 reais no total. Ou de uma lata que custa 80 reais no total. Portanto, neste caso vale mais a pena usar 2 galões.\n",
        "\n",
        "Se queremos comprar 107 litros. 5 latas dão exatamente 90 litros. Então devemos comprar pelo menos 5 latas e avaliar o que falta, se estes últimos 5 litros valem mais apenas em latas ou galões.\n",
        "\n",
        "Para os 17 litros faltantes precisamos de 5 galões que custam 125 reais no total. Ou de uma lata que custa 80 reais no total. Portanto, neste caso vale mais a pena usar uma lata.\n",
        "\n",
        "3 galões custam 75 reais, 4 galões custam 100 reais. Então, se for possível completar com até 3 galões escolhe-se galões. Qualquer quantidade maior que 3 galões, usa-se latas.\n",
        "\n",
        "Podemos ir ao exercício:"
      ]
    },
    {
      "cell_type": "code",
      "execution_count": null,
      "id": "01d104b6",
      "metadata": {
        "id": "01d104b6",
        "colab": {
          "base_uri": "https://localhost:8080/"
        },
        "outputId": "0fd3a9c1-95ab-4ba1-d37f-6acdb8f7ddb3"
      },
      "outputs": [
        {
          "output_type": "stream",
          "name": "stdout",
          "text": [
            "27.500000000000004\n",
            "9.500000000000004\n",
            "São necessarios 1.0 latas  e 3.0 galões. Custando R$155.0 no total\n"
          ]
        }
      ],
      "source": [
        "litros_folga = total * 1.1\n",
        "print(litros_folga)\n",
        "\n",
        "latas = litros_folga // 18 #quantidade de latas\n",
        "\n",
        "tinta_faltante = litros_folga - 18 * latas\n",
        "print(tinta_faltante)\n",
        "\n",
        "if tinta_faltante > 0:\n",
        "  if tinta_faltante % 3.6 > 0:\n",
        "    faltante_galoes = tinta_faltante // 3.6 + 1\n",
        "  else:\n",
        "    faltante_galoes = tinta_faltante // 3.6\n",
        "  if faltante_galoes <= 3:\n",
        "    galoes = faltante_galoes\n",
        "  else:\n",
        "    galoes = 0\n",
        "    latas = latas + 1\n",
        "\n",
        "preco = latas * 80 + galoes * 25\n",
        "print(f'São necessarios {latas} latas  e {galoes} galões. Custando R${preco} no total')"
      ]
    }
  ],
  "metadata": {
    "kernelspec": {
      "display_name": "Python 3 (ipykernel)",
      "language": "python",
      "name": "python3"
    },
    "language_info": {
      "codemirror_mode": {
        "name": "ipython",
        "version": 3
      },
      "file_extension": ".py",
      "mimetype": "text/x-python",
      "name": "python",
      "nbconvert_exporter": "python",
      "pygments_lexer": "ipython3",
      "version": "3.9.7"
    },
    "colab": {
      "provenance": [],
      "include_colab_link": true
    }
  },
  "nbformat": 4,
  "nbformat_minor": 5
}