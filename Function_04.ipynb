{
  "cells": [
    {
      "cell_type": "markdown",
      "metadata": {
        "id": "view-in-github",
        "colab_type": "text"
      },
      "source": [
        "<a href=\"https://colab.research.google.com/github/Nelrau/python_basic/blob/basic/Function_04.ipynb\" target=\"_parent\"><img src=\"https://colab.research.google.com/assets/colab-badge.svg\" alt=\"Open In Colab\"/></a>"
      ]
    },
    {
      "cell_type": "markdown",
      "metadata": {
        "id": "YyZo8cbyBnr4"
      },
      "source": [
        "# Argumentos/Parâmetros da Função\n",
        "\n",
        "### Estrutura:"
      ]
    },
    {
      "cell_type": "raw",
      "metadata": {
        "id": "c1ashjsUBnsA"
      },
      "source": [
        "def minha_funcao(parametro1, parametro2, parametro3):\n",
        "    return parametro1 + parametro2 + parametro3"
      ]
    },
    {
      "cell_type": "markdown",
      "metadata": {
        "id": "60NO7F3rBnsD"
      },
      "source": [
        "- Exemplo: nosso famoso print"
      ]
    },
    {
      "cell_type": "code",
      "execution_count": 1,
      "metadata": {
        "colab": {
          "base_uri": "https://localhost:8080/"
        },
        "id": "ZoIsv5EUBnsI",
        "outputId": "419fec3a-6ca8-4bde-9748-90c2625749b5"
      },
      "outputs": [
        {
          "output_type": "stream",
          "name": "stdout",
          "text": [
            "Produto Iphone Vendas 50\n"
          ]
        }
      ],
      "source": [
        "vendas = 50\n",
        "print('Produto', 'Iphone', 'Vendas', vendas)"
      ]
    },
    {
      "cell_type": "markdown",
      "metadata": {
        "id": "w09g9f5yBnsN"
      },
      "source": [
        "- Só para mostrar o funcionamento, vamos criar uma função de soma"
      ]
    },
    {
      "cell_type": "code",
      "execution_count": 2,
      "metadata": {
        "colab": {
          "base_uri": "https://localhost:8080/"
        },
        "id": "tUurvBjNBnsS",
        "outputId": "dbc4083b-15d2-48c3-de80-589f91b3e58b"
      },
      "outputs": [
        {
          "output_type": "stream",
          "name": "stdout",
          "text": [
            "30\n"
          ]
        }
      ],
      "source": [
        "def minha_soma(num1, num2, num3):\n",
        "    return num1 + num2 + num3\n",
        "\n",
        "\n",
        "soma = minha_soma(10, 20, 0)\n",
        "print(soma)"
      ]
    },
    {
      "cell_type": "markdown",
      "metadata": {
        "id": "Q1WvTFTvBnsW"
      },
      "source": [
        "- Vamos criar uma function com parâmetro\n",
        "\n",
        "Digamos que estamos criando um programa para categorizar os produtos de uma revendedora de bebidas.\n",
        "\n",
        "Cada produto tem um código. O tipo de produto é dado pelas 3 primeiras letras do código.\n",
        "\n",
        "Ex:<br>\n",
        "Vinho -> BEB12302<br>\n",
        "Cerveja -> BEB12043<br>\n",
        "Vodka -> BEB34501<br>\n",
        "\n",
        "Guaraná -> BSA11104<br>\n",
        "Coca -> BSA54301<br>\n",
        "Sprite -> BSA34012<br>\n",
        "Água -> BSA09871<br>\n",
        "\n",
        "Repare que bebidas não alcóolicas começam com BSA e bebidas alcoolicas começam com BEB.\n",
        "\n",
        "Crie um programa que analise uma lista de produtos e envie instruções para a equipe de estoque dizendo quais produtos devem ser enviados para a área de bebidas alcóolicas."
      ]
    },
    {
      "cell_type": "code",
      "execution_count": 18,
      "metadata": {
        "colab": {
          "base_uri": "https://localhost:8080/"
        },
        "id": "2f7fzbqCBnsc",
        "outputId": "cf7eaa68-1f7c-4898-de94-51da035863db"
      },
      "outputs": [
        {
          "output_type": "stream",
          "name": "stdout",
          "text": [
            "Bebida BEB21365 enviar para setor de bebida alcolica\n",
            "Bebida BEB31623 enviar para setor de bebida alcolica\n",
            "Bebida BEB73344 enviar para setor de bebida alcolica\n",
            "Bebida BEB80694 enviar para setor de bebida alcolica\n",
            "Bebida BEB19495 enviar para setor de bebida alcolica\n",
            "Bebida BEB97471 enviar para setor de bebida alcolica\n",
            "Bebida BEB62362 enviar para setor de bebida alcolica\n",
            "Bebida BEB85146 enviar para setor de bebida alcolica\n",
            "Bebida BEB48898 enviar para setor de bebida alcolica\n",
            "Bebida BEB79496 enviar para setor de bebida alcolica\n",
            "Bebida BEB15385 enviar para setor de bebida alcolica\n",
            "Bebida BEB24213 enviar para setor de bebida alcolica\n",
            "Bebida BEB56262 enviar para setor de bebida alcolica\n",
            "Bebida BEB75073 enviar para setor de bebida alcolica\n"
          ]
        }
      ],
      "source": [
        "produtos = ['beb46275','TFA23962','TFA64715','TFA69555','TFA56743','BSA45510','TFA44968','CAR75448','CAR23596','CAR13490','BEB21365','BEB31623','BSA62419','BEB73344','TFA20079','BEB80694','BSA11769','BEB19495','TFA14792','TFA78043','BSA33484','BEB97471','BEB62362','TFA27311','TFA17715','BEB85146','BEB48898','BEB79496','CAR38417','TFA19947','TFA58799','CAR94811','BSA59251','BEB15385','BEB24213','BEB56262','BSA96915','CAR53454','BEB75073']\n",
        "\n",
        "def analizar_bebidas(bebida):\n",
        "  if 'BEB'.upper() in bebidas:\n",
        "    return True\n",
        "\n",
        "for bebidas in produtos:\n",
        "  if analizar_bebidas(bebidas):\n",
        "    print(f'Bebida {bebidas} enviar para setor de bebida alcolica')\n"
      ]
    }
  ],
  "metadata": {
    "kernelspec": {
      "display_name": "Python 3",
      "language": "python",
      "name": "python3"
    },
    "language_info": {
      "codemirror_mode": {
        "name": "ipython",
        "version": 3
      },
      "file_extension": ".py",
      "mimetype": "text/x-python",
      "name": "python",
      "nbconvert_exporter": "python",
      "pygments_lexer": "ipython3",
      "version": "3.8.3"
    },
    "colab": {
      "provenance": [],
      "include_colab_link": true
    }
  },
  "nbformat": 4,
  "nbformat_minor": 0
}