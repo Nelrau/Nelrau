{
  "cells": [
    {
      "cell_type": "markdown",
      "metadata": {
        "id": "view-in-github",
        "colab_type": "text"
      },
      "source": [
        "<a href=\"https://colab.research.google.com/github/Nelrau/python_basic/blob/basic/Diferentes_for.ipynb\" target=\"_parent\"><img src=\"https://colab.research.google.com/assets/colab-badge.svg\" alt=\"Open In Colab\"/></a>"
      ]
    },
    {
      "cell_type": "code",
      "execution_count": 31,
      "id": "f384c181",
      "metadata": {
        "id": "f384c181"
      },
      "outputs": [],
      "source": [
        "produtos = [\"iphone\", \"ipad\", \"airpod\", \"macbook\"]\n",
        "precos = [7000, 10000, 2500, 14000]"
      ]
    },
    {
      "cell_type": "markdown",
      "id": "ed0a699c",
      "metadata": {
        "id": "ed0a699c"
      },
      "source": [
        "### For item in lista"
      ]
    },
    {
      "cell_type": "code",
      "execution_count": 44,
      "id": "3053355f",
      "metadata": {
        "id": "3053355f",
        "outputId": "ab5495b0-e31e-4195-9257-008ad9c33951",
        "colab": {
          "base_uri": "https://localhost:8080/"
        }
      },
      "outputs": [
        {
          "output_type": "stream",
          "name": "stdout",
          "text": [
            "7700.000000000001\n",
            "11000.0\n",
            "2750.0\n",
            "15400.000000000002\n"
          ]
        }
      ],
      "source": [
        "# preco com imposto\n",
        "imposto = 1.1\n",
        "for preco in precos:\n",
        "  preco = preco * imposto\n",
        "  print(preco)"
      ]
    },
    {
      "cell_type": "markdown",
      "id": "80aa8d07",
      "metadata": {
        "id": "80aa8d07"
      },
      "source": [
        "### For i in range"
      ]
    },
    {
      "cell_type": "code",
      "execution_count": 40,
      "id": "74b8e12d",
      "metadata": {
        "id": "74b8e12d",
        "outputId": "166f0f5f-2880-46fe-eb7e-2b085ac9e57d",
        "colab": {
          "base_uri": "https://localhost:8080/"
        }
      },
      "outputs": [
        {
          "output_type": "stream",
          "name": "stdout",
          "text": [
            "Iphone  - 7000\n",
            "Ipad    - 10000\n",
            "Airpod  - 2500\n",
            "Macbook - 14000\n"
          ]
        }
      ],
      "source": [
        "# preco de cada produto\n",
        "for preco in range(len(precos)):\n",
        "  print(f'{produtos[preco].capitalize():7} - {precos[preco]}')"
      ]
    },
    {
      "cell_type": "markdown",
      "id": "ba0b37d3",
      "metadata": {
        "id": "ba0b37d3"
      },
      "source": [
        "### For item in lista com enumerate"
      ]
    },
    {
      "cell_type": "code",
      "execution_count": 45,
      "id": "38271545",
      "metadata": {
        "id": "38271545",
        "outputId": "c50717fc-e3b0-4b7d-f0b7-95bee7d3fdbd",
        "colab": {
          "base_uri": "https://localhost:8080/"
        }
      },
      "outputs": [
        {
          "output_type": "stream",
          "name": "stdout",
          "text": [
            "Iphone  - 7700.000000000001\n",
            "Ipad    - 11000.0\n",
            "Airpod  - 2750.0\n",
            "Macbook - 15400.000000000002\n"
          ]
        }
      ],
      "source": [
        "# preco de cada produto com imposto\n",
        "\n",
        "for i, preco in enumerate(precos):\n",
        "  print(f'{produtos[i].capitalize():7} - {preco * imposto}')"
      ]
    }
  ],
  "metadata": {
    "kernelspec": {
      "display_name": "Python 3 (ipykernel)",
      "language": "python",
      "name": "python3"
    },
    "language_info": {
      "codemirror_mode": {
        "name": "ipython",
        "version": 3
      },
      "file_extension": ".py",
      "mimetype": "text/x-python",
      "name": "python",
      "nbconvert_exporter": "python",
      "pygments_lexer": "ipython3",
      "version": "3.9.13"
    },
    "colab": {
      "provenance": [],
      "include_colab_link": true
    }
  },
  "nbformat": 4,
  "nbformat_minor": 5
}