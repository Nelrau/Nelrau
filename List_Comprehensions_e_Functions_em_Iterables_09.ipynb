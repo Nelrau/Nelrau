{
  "cells": [
    {
      "cell_type": "markdown",
      "metadata": {
        "id": "view-in-github",
        "colab_type": "text"
      },
      "source": [
        "<a href=\"https://colab.research.google.com/github/Nelrau/python_basic/blob/basic/List_Comprehensions_e_Functions_em_Iterables_09.ipynb\" target=\"_parent\"><img src=\"https://colab.research.google.com/assets/colab-badge.svg\" alt=\"Open In Colab\"/></a>"
      ]
    },
    {
      "cell_type": "markdown",
      "metadata": {
        "id": "M0Cw5DWIWdvO"
      },
      "source": [
        "# Function em iterables\n",
        "\n",
        "### Segue a mesma lógica de list comprehension, mas é mais simples\n",
        "\n",
        "Basicamente alguns métodos e funções que já existem no Python podem rodar uma function para cada item, da mesma forma que fizemos com list comprehension.\n",
        "\n",
        "Isso pode ajudar a gente a resolver alguns desafios de forma mais simples\n",
        "\n",
        "Uma função que permite que a gente faça isso é a map function\n",
        "\n",
        "### map function"
      ]
    },
    {
      "cell_type": "raw",
      "metadata": {
        "id": "HmyLiLHHWdvg"
      },
      "source": [
        "lista = list(map(função, iterable_original))"
      ]
    },
    {
      "cell_type": "markdown",
      "metadata": {
        "id": "giiwDXmfWdvk"
      },
      "source": [
        "- Exemplo: digamos que eu tenha uma function que corrige um código de um produto (semelhante ao que fizemos na seção de function aqui do curso)"
      ]
    },
    {
      "cell_type": "code",
      "execution_count": null,
      "metadata": {
        "id": "nOSruN8WWdvl"
      },
      "outputs": [],
      "source": [
        "def padronizar_texto(texto):\n",
        "    texto = texto.casefold()\n",
        "    texto = texto.replace(\"  \", \" \")\n",
        "    texto = texto.strip()\n",
        "    return texto"
      ]
    },
    {
      "cell_type": "markdown",
      "metadata": {
        "id": "RAtIOcYZWdvr"
      },
      "source": [
        "- Agora queremos padronizar uma lista de códigos:"
      ]
    },
    {
      "cell_type": "code",
      "execution_count": null,
      "metadata": {
        "id": "ldEskbaOWdvu"
      },
      "outputs": [],
      "source": [
        "produtos = [' ABC12 ', 'abc34', 'AbC37', 'beb12', ' BSA151', 'BEB23']"
      ]
    },
    {
      "cell_type": "markdown",
      "metadata": {
        "id": "qYNMQtRHWdvw"
      },
      "source": [
        "- Usando o for, temos que percorrer a lista toda e para cada item executar a function"
      ]
    },
    {
      "cell_type": "code",
      "execution_count": null,
      "metadata": {
        "id": "nez0ARGGWdvy",
        "colab": {
          "base_uri": "https://localhost:8080/"
        },
        "outputId": "92d3c978-2c94-4122-bd43-80167353f4b7"
      },
      "outputs": [
        {
          "output_type": "stream",
          "name": "stdout",
          "text": [
            "['abc12', 'abc34', 'abc37', 'beb12', 'bsa151', 'beb23']\n"
          ]
        }
      ],
      "source": [
        "for i, produto in enumerate(produtos):\n",
        "  produtos[i] = padronizar_texto(produto)\n",
        "print(produtos)"
      ]
    },
    {
      "cell_type": "markdown",
      "metadata": {
        "id": "E4C7062QWdv2"
      },
      "source": [
        "- Usando o map, apenas chamamos a função e ela já faz isso para a gente"
      ]
    },
    {
      "cell_type": "code",
      "execution_count": null,
      "metadata": {
        "id": "cZDZdVxgWdv7",
        "colab": {
          "base_uri": "https://localhost:8080/"
        },
        "outputId": "ec2e7fd6-e877-4aec-b767-083b0d2b3f63"
      },
      "outputs": [
        {
          "output_type": "stream",
          "name": "stdout",
          "text": [
            "['abc12', 'abc34', 'abc37', 'beb12', 'bsa151', 'beb23']\n"
          ]
        }
      ],
      "source": [
        "produtos = list(map(padronizar_texto,produtos))\n",
        "print(produtos)"
      ]
    },
    {
      "cell_type": "markdown",
      "metadata": {
        "id": "3lGECPi1Wdv-"
      },
      "source": [
        "### Olhando assim pode não parecer tão útil, mas a lógica de executar uma função para cada item é bem útil para outras funções que já existem no Python. Veremos na próxima aula"
      ]
    }
  ],
  "metadata": {
    "kernelspec": {
      "display_name": "Python 3",
      "language": "python",
      "name": "python3"
    },
    "language_info": {
      "codemirror_mode": {
        "name": "ipython",
        "version": 3
      },
      "file_extension": ".py",
      "mimetype": "text/x-python",
      "name": "python",
      "nbconvert_exporter": "python",
      "pygments_lexer": "ipython3",
      "version": "3.8.3"
    },
    "colab": {
      "provenance": [],
      "include_colab_link": true
    }
  },
  "nbformat": 4,
  "nbformat_minor": 0
}