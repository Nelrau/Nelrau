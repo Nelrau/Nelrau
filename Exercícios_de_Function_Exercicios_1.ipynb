{
  "cells": [
    {
      "cell_type": "markdown",
      "metadata": {
        "id": "view-in-github",
        "colab_type": "text"
      },
      "source": [
        "<a href=\"https://colab.research.google.com/github/Nelrau/python_basic/blob/basic/Exerc%C3%ADcios_de_Function_Exercicios_1.ipynb\" target=\"_parent\"><img src=\"https://colab.research.google.com/assets/colab-badge.svg\" alt=\"Open In Colab\"/></a>"
      ]
    },
    {
      "cell_type": "markdown",
      "metadata": {
        "id": "WPzChkNEpAqC"
      },
      "source": [
        "# Exercícios\n",
        "\n",
        "Para fazer um treino simples antes de avançarmos em mais functions, vamos criar uma function que resolve 1 \"desafio simples\"\n",
        "\n",
        "## 1. Function para Cálculo de Carga Tributária\n",
        "\n",
        "(Lembrando, não se atente ao funcionamento real da carga tributária, é apenas um exemplo imaginário para treinarmos as functions com algo mais prático)\n",
        "\n",
        "Imagine que você trabalha no setor contábil de uma grande empresa de Varejo.\n",
        "\n",
        "Crie uma function que calcule qual o % de carga tributária que está sendo aplicado sobre um determinado produto, dado o preço de venda, o \"lucro\" e os custos (com exceção do imposto) dele."
      ]
    },
    {
      "cell_type": "code",
      "execution_count": 1,
      "metadata": {
        "id": "leIMm4pPpAqa"
      },
      "outputs": [],
      "source": [
        "preco = 1500\n",
        "custo = 400\n",
        "lucro = 800"
      ]
    },
    {
      "cell_type": "markdown",
      "metadata": {
        "id": "G4O-MiCYpAqh"
      },
      "source": [
        "Repare que preço - custo não é igual ao lucro, porque ainda foi descontado o imposto. Sua functiona deve calcular qual foi o % de imposto aplicado sobre o preço total."
      ]
    },
    {
      "cell_type": "code",
      "execution_count": 5,
      "metadata": {
        "colab": {
          "base_uri": "https://localhost:8080/"
        },
        "id": "fZo6nkqrpAqi",
        "outputId": "a09c072f-cb84-41f1-ad25-51ebaa8c6989"
      },
      "outputs": [
        {
          "output_type": "stream",
          "name": "stdout",
          "text": [
            "taxa - 20%\n"
          ]
        }
      ],
      "source": [
        "#crie sua function aqui\n",
        "def carga_tributaria(a, b, c):\n",
        "   imposto = a - b - c\n",
        "   carga = imposto / a\n",
        "   return carga\n",
        "\n",
        "taxa = carga_tributaria(preco, custo, lucro)\n",
        "print(f'taxa - {taxa:.0%}')"
      ]
    },
    {
      "cell_type": "code",
      "execution_count": null,
      "metadata": {
        "id": "ULTx9i7npAqk"
      },
      "outputs": [],
      "source": [
        "#aplique sua function nos valores fornecidos para ver se ela está funcionando corretamente"
      ]
    }
  ],
  "metadata": {
    "kernelspec": {
      "display_name": "Python 3",
      "language": "python",
      "name": "python3"
    },
    "language_info": {
      "codemirror_mode": {
        "name": "ipython",
        "version": 3
      },
      "file_extension": ".py",
      "mimetype": "text/x-python",
      "name": "python",
      "nbconvert_exporter": "python",
      "pygments_lexer": "ipython3",
      "version": "3.8.3"
    },
    "colab": {
      "provenance": [],
      "include_colab_link": true
    }
  },
  "nbformat": 4,
  "nbformat_minor": 0
}