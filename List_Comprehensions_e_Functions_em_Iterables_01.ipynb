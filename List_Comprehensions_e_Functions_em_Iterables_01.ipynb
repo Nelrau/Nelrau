{
  "cells": [
    {
      "cell_type": "markdown",
      "metadata": {
        "id": "view-in-github",
        "colab_type": "text"
      },
      "source": [
        "<a href=\"https://colab.research.google.com/github/Nelrau/python_basic/blob/basic/List_Comprehensions_e_Functions_em_Iterables_01.ipynb\" target=\"_parent\"><img src=\"https://colab.research.google.com/assets/colab-badge.svg\" alt=\"Open In Colab\"/></a>"
      ]
    },
    {
      "cell_type": "markdown",
      "metadata": {
        "id": "MewNQWdiNght"
      },
      "source": [
        "# List Comprehension - O que é e qual a importância?\n",
        "\n",
        "### Descrição:\n",
        "\n",
        "- List Comprehension é uma forma de iterar pelos elementas das listas de maneira \"mais direta\", com mais \"cara de Python\"\n",
        "- Em resumo: é como se você fizesse um \"for\" em 1 linha de código\n",
        "\n",
        "### Observação Importante:\n",
        "\n",
        "- Você não precisa de List comprehension para programar, tudo que vamos mostrar aqui dá pra fazer do jeito que já aprendemos\n",
        "- Você não vai sair de uma hora pra outra fazendo tudo list comprehension ao invés de for, porque é realmente mais confuso.\n",
        "- O objetivo aqui é:\n",
        "    1. Saber ler e entender o que tá acontecendo quando ver list comprehension (principal)\n",
        "    2. A medida do tempo você vai se acostumando com isso, vendo mais, usando mais e vai fazer naturalmente quando precisar.\n",
        "    \n",
        "- Mas se você sair desse módulo do curso achando isso tudo muito difícil, fica tranquilo, não usa por hora list comprehension e a medida que você for pegando mais experiência com o Python você lembra que tem esse módulo aqui e pode voltar no futuro\n",
        "\n",
        "### Estrutura:"
      ]
    },
    {
      "cell_type": "raw",
      "metadata": {
        "id": "O8_KyHIfNgh7"
      },
      "source": [
        "lista = [expressão for item in iterable]"
      ]
    },
    {
      "cell_type": "code",
      "execution_count": 1,
      "metadata": {
        "id": "FZFQOT5cNgiA"
      },
      "outputs": [],
      "source": [
        "preco_produtos = [100, 150, 300, 5500]\n",
        "produtos = ['vinho', 'cafeiteira', 'microondas', 'iphone']\n",
        "\n",
        "#digamos que o imposto sobre os produtos é de 30%, ou seja, 0.3. Como eu faria para criar uma lista com os\n",
        "#valores de imposto de cada produto?"
      ]
    },
    {
      "cell_type": "markdown",
      "metadata": {
        "id": "Q4yflQwQNgiG"
      },
      "source": [
        "- Usando um for"
      ]
    },
    {
      "cell_type": "code",
      "execution_count": null,
      "metadata": {
        "colab": {
          "base_uri": "https://localhost:8080/"
        },
        "id": "70zFipzINgiL",
        "outputId": "40abd638-ee17-4eda-e626-90299f1b06ef"
      },
      "outputs": [
        {
          "output_type": "stream",
          "name": "stdout",
          "text": [
            "[30.0, 45.0, 90.0, 1650.0]\n"
          ]
        }
      ],
      "source": [
        "impostos = [preco * .3 for preco in preco_produtos]\n",
        "print(impostos)"
      ]
    },
    {
      "cell_type": "markdown",
      "metadata": {
        "id": "3au032HiNgiQ"
      },
      "source": [
        "- Usando list comprehension"
      ]
    },
    {
      "cell_type": "code",
      "execution_count": null,
      "metadata": {
        "colab": {
          "base_uri": "https://localhost:8080/"
        },
        "id": "T8KxtVqMNgiS",
        "outputId": "58ce2317-0c74-4118-dd13-e26ee4f57aff"
      },
      "outputs": [
        {
          "output_type": "stream",
          "name": "stdout",
          "text": [
            "[30.0, 45.0, 90.0, 1650.0]\n"
          ]
        }
      ],
      "source": [
        "imposto = []\n",
        "for preco in preco_produtos:\n",
        "  imposto.append(preco * .3)\n",
        "print(imposto)"
      ]
    },
    {
      "cell_type": "markdown",
      "metadata": {
        "id": "iS2OMiW4NgiU"
      },
      "source": [
        "- A \"expressão\" na list comprehension pode ser uma function tb"
      ]
    },
    {
      "cell_type": "code",
      "execution_count": null,
      "metadata": {
        "colab": {
          "base_uri": "https://localhost:8080/"
        },
        "id": "P2ZUcwpmNgiX",
        "outputId": "9ffbda03-a11c-4a93-dca9-56ea3c153d21"
      },
      "outputs": [
        {
          "output_type": "stream",
          "name": "stdout",
          "text": [
            "[30.0, 45.0, 90.0, 1650.0]\n"
          ]
        }
      ],
      "source": [
        "def calcular_imposto(preco, imposto):\n",
        "    return preco * imposto\n",
        "\n",
        "print(impostos)"
      ]
    },
    {
      "cell_type": "code",
      "source": [
        "\n",
        "def calcular_imposto(preco, imposto):\n",
        "\n",
        "   return [preco_item * imposto for preco_item in preco]\n",
        "\n",
        "imposto = .3\n",
        "impostos = calcular_imposto(preco_produtos, imposto)\n",
        "print(impostos)"
      ],
      "metadata": {
        "colab": {
          "base_uri": "https://localhost:8080/"
        },
        "id": "6mse9_s_R3Fy",
        "outputId": "85b3c454-3b03-4dc2-e3e6-8cf3b21b5d47"
      },
      "execution_count": 13,
      "outputs": [
        {
          "output_type": "stream",
          "name": "stdout",
          "text": [
            "[30.0, 45.0, 90.0, 1650.0]\n"
          ]
        }
      ]
    },
    {
      "cell_type": "markdown",
      "metadata": {
        "id": "St6stFfGNgid"
      },
      "source": [
        "### Observação:\n",
        "\n",
        "- Normalmente isso é usado quando queremos fazer uma única ação com os itens de uma lista. Não é obrigatório, mas é comum de encontrar principalmente com programadores mais experientes/preocupados com \"a melhor forma de fazer alguma coisa\"\n",
        "\n",
        "- Cuidado: se a sua lista for MUITO grande, o list comprehension pode acabar sendo difícil de compilar. Nesses casos podemos usar funções, for tradicionais com breaks para interromper ou até bibliotecas como o panda que trabalham bem com muitos dados"
      ]
    }
  ],
  "metadata": {
    "kernelspec": {
      "display_name": "Python 3",
      "language": "python",
      "name": "python3"
    },
    "language_info": {
      "codemirror_mode": {
        "name": "ipython",
        "version": 3
      },
      "file_extension": ".py",
      "mimetype": "text/x-python",
      "name": "python",
      "nbconvert_exporter": "python",
      "pygments_lexer": "ipython3",
      "version": "3.8.3"
    },
    "colab": {
      "provenance": [],
      "include_colab_link": true
    }
  },
  "nbformat": 4,
  "nbformat_minor": 0
}