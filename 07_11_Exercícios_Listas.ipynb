{
  "cells": [
    {
      "cell_type": "markdown",
      "metadata": {
        "id": "view-in-github",
        "colab_type": "text"
      },
      "source": [
        "<a href=\"https://colab.research.google.com/github/Nelrau/python_basic/blob/basic/07_11_Exerc%C3%ADcios_Listas.ipynb\" target=\"_parent\"><img src=\"https://colab.research.google.com/assets/colab-badge.svg\" alt=\"Open In Colab\"/></a>"
      ]
    },
    {
      "cell_type": "markdown",
      "metadata": {
        "id": "xLST6XLAPQJi"
      },
      "source": [
        "# Exercícios\n",
        "\n",
        "## 1. Mudança de Carga Tributária\n",
        "\n",
        "- Reformas e mudanças de cargas tributárias são bem comuns no Brasil.\n",
        "\n",
        "Digamos que você trabalhe em uma empresa de ecommerce\n",
        "\n",
        "No Brasil, o imposto sobre livros é zerado. De um ano para o outro, o governo criou um novo imposto que incide em 10% sobre o valor dos livros e agora você precisa alterar o registro dos preços dos livros da empresa para garantir que esse imposto vai ser repassado para o preço final do produto.\n",
        "\n",
        "Crie um código que recalcule o valor do livro da sua lista de produtos e ajuste na tabela.\n",
        "\n",
        "Além disso, calcule qual vai ser o impacto financeiro da criação desse imposto para a empresa (ou seja, quanto que o imposto vai aumentar de custo para a empresa)\n",
        "\n",
        "Obs: para facilitar, colocamos apenas 1 livro na lista, mas em breve vamos aprender um for que vai adaptar esse cenário para qualquer quantidade de livros na sua lista.\n",
        "\n",
        "Obs2: Seu código deve funcionar mesmo que não haja livros na lista de produtos da empresa"
      ]
    },
    {
      "cell_type": "code",
      "execution_count": 102,
      "metadata": {
        "id": "mn86XA6ePQJ3"
      },
      "outputs": [],
      "source": [
        "produtos = ['computador', '\\nlivro', 'tablet', 'celular', 'tv', 'ar condicionado', 'alexa', 'máquina de café', 'kindle']\n",
        "\n",
        "#cada item da lista dos produtos corresponde a quantidade de vendas no mês e preço, nessa ordem\n",
        "produtos_ecommerce = [\n",
        "    [10000, 2500],\n",
        "    [50000, 40],\n",
        "    [7000, 1200],\n",
        "    [20000, 1500],\n",
        "    [5800, 1300],\n",
        "    [7200, 2500],\n",
        "    [200, 800],\n",
        "    [3300, 700],\n",
        "    [1900, 400]\n",
        "]"
      ]
    },
    {
      "cell_type": "code",
      "source": [
        "if 'livro' in produtos:\n",
        "  pos_l =  produtos.index('livro')\n",
        "  preco_l = produtos_ecommerce[pos_l][1]\n",
        "  antigo = preco_l * produtos_ecommerce[pos_l][0]\n",
        "  preco_livro_atual = preco_l + (preco_l * .1)\n",
        "  pre_novo =  preco_livro_atual * produtos_ecommerce[pos_l][0]\n",
        "  print(antigo, pre_novo)\n",
        "  produtos_ecommerce[pos_l][1] = preco_livro_atual"
      ],
      "metadata": {
        "id": "fv5wfrrcPZMG",
        "outputId": "a497b78a-fc36-4471-d272-467268c4c4b1",
        "colab": {
          "base_uri": "https://localhost:8080/"
        }
      },
      "execution_count": 61,
      "outputs": [
        {
          "output_type": "stream",
          "name": "stdout",
          "text": [
            "2000000 2200000.0\n"
          ]
        }
      ]
    },
    {
      "cell_type": "code",
      "source": [
        "print(f'imposto adicionado - R${pre_novo- antigo:^.2f} preco com imposto - {produtos_ecommerce}'.replace('.',','))\n",
        "display(f'imposto adicionado - R${pre_novo- antigo:^.2f} preco com imposto - {produtos_ecommerce}'.replace('.',','))"
      ],
      "metadata": {
        "id": "Z5z0YuESU_-6",
        "outputId": "a4d84997-9546-4d85-80fd-d9463d4f66af",
        "colab": {
          "base_uri": "https://localhost:8080/",
          "height": 52
        }
      },
      "execution_count": 103,
      "outputs": [
        {
          "output_type": "stream",
          "name": "stdout",
          "text": [
            "imposto adicionado - R$200000,00 preco com imposto - [[10000, 2500], [50000, 40], [7000, 1200], [20000, 1500], [5800, 1300], [7200, 2500], [200, 800], [3300, 700], [1900, 400]]\n"
          ]
        },
        {
          "output_type": "display_data",
          "data": {
            "text/plain": [
              "'imposto adicionado - R$200000,00 preco com imposto - [[10000, 2500], [50000, 40], [7000, 1200], [20000, 1500], [5800, 1300], [7200, 2500], [200, 800], [3300, 700], [1900, 400]]'"
            ],
            "application/vnd.google.colaboratory.intrinsic+json": {
              "type": "string"
            }
          },
          "metadata": {}
        }
      ]
    }
  ],
  "metadata": {
    "kernelspec": {
      "display_name": "Python 3",
      "language": "python",
      "name": "python3"
    },
    "language_info": {
      "codemirror_mode": {
        "name": "ipython",
        "version": 3
      },
      "file_extension": ".py",
      "mimetype": "text/x-python",
      "name": "python",
      "nbconvert_exporter": "python",
      "pygments_lexer": "ipython3",
      "version": "3.8.3"
    },
    "colab": {
      "provenance": [],
      "include_colab_link": true
    }
  },
  "nbformat": 4,
  "nbformat_minor": 0
}