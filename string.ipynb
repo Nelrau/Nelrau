{
  "nbformat": 4,
  "nbformat_minor": 0,
  "metadata": {
    "colab": {
      "provenance": [],
      "authorship_tag": "ABX9TyP9oow7y8bQl1ZLarPXMkPA",
      "include_colab_link": true
    },
    "kernelspec": {
      "name": "python3",
      "display_name": "Python 3"
    },
    "language_info": {
      "name": "python"
    }
  },
  "cells": [
    {
      "cell_type": "markdown",
      "metadata": {
        "id": "view-in-github",
        "colab_type": "text"
      },
      "source": [
        "<a href=\"https://colab.research.google.com/github/Nelrau/python_basic/blob/basic/string.ipynb\" target=\"_parent\"><img src=\"https://colab.research.google.com/assets/colab-badge.svg\" alt=\"Open In Colab\"/></a>"
      ]
    },
    {
      "cell_type": "code",
      "execution_count": 2,
      "metadata": {
        "colab": {
          "base_uri": "https://localhost:8080/"
        },
        "id": "qp_Cnic5zA9h",
        "outputId": "c0e572bf-e0e8-411a-d010-4d44a1c2619e"
      },
      "outputs": [
        {
          "output_type": "stream",
          "name": "stdout",
          "text": [
            "gmail\n"
          ]
        }
      ],
      "source": [
        "nome = 'lira'\n",
        "email = 'lira@gmail.com'\n",
        "print(email[5:-4])"
      ]
    },
    {
      "cell_type": "code",
      "source": [
        "print('Tamanho do email ' +  str(len(email)) + ' caracteres')"
      ],
      "metadata": {
        "colab": {
          "base_uri": "https://localhost:8080/"
        },
        "id": "1G52XDi3Lbzv",
        "outputId": "d09a7496-0481-4269-943a-2a633cd804e6"
      },
      "execution_count": 9,
      "outputs": [
        {
          "output_type": "stream",
          "name": "stdout",
          "text": [
            "Tamanho do email 14 caracteres\n"
          ]
        }
      ]
    },
    {
      "cell_type": "code",
      "source": [
        "print('Primeiro caracter ' + email[0])"
      ],
      "metadata": {
        "colab": {
          "base_uri": "https://localhost:8080/"
        },
        "id": "v9hFRSXGL84w",
        "outputId": "92448e23-d72c-4e2c-b231-23f54ede30b8"
      },
      "execution_count": 11,
      "outputs": [
        {
          "output_type": "stream",
          "name": "stdout",
          "text": [
            "Primeiro caracterl\n"
          ]
        }
      ]
    },
    {
      "cell_type": "code",
      "source": [
        "print('Ultimo caracter ' + email[-1])"
      ],
      "metadata": {
        "colab": {
          "base_uri": "https://localhost:8080/"
        },
        "id": "f0K-rgljMaDd",
        "outputId": "d519bb11-651e-40bb-8607-17f008634b86"
      },
      "execution_count": 12,
      "outputs": [
        {
          "output_type": "stream",
          "name": "stdout",
          "text": [
            "Ultimo caracter m\n"
          ]
        }
      ]
    },
    {
      "cell_type": "code",
      "source": [
        "print(f'inicial maiuscula {nome.capitalize()}, \\nminusculas {nome.casefold()}, {nome.lower()}, \\nmaiuscula {nome.upper()}')\n"
      ],
      "metadata": {
        "colab": {
          "base_uri": "https://localhost:8080/"
        },
        "id": "0h9VvYZLTBN3",
        "outputId": "a5946ce1-dac1-488b-cf27-c3c5562283f1"
      },
      "execution_count": 21,
      "outputs": [
        {
          "output_type": "stream",
          "name": "stdout",
          "text": [
            "inicial maiuscula Lira, \n",
            "minusculas lira, lira, \n",
            "maiuscula LIRA\n"
          ]
        }
      ]
    },
    {
      "cell_type": "code",
      "source": [
        "print(email.count('@'))\n",
        "print(email.endswith('gmail.com'))\n",
        "print(email.find('@'))\n",
        "print(email.replace('.',','))"
      ],
      "metadata": {
        "colab": {
          "base_uri": "https://localhost:8080/"
        },
        "id": "ghKQNeoGU8jx",
        "outputId": "74fb81a1-8e2c-4c5b-af91-b2243625f8ab"
      },
      "execution_count": 32,
      "outputs": [
        {
          "output_type": "stream",
          "name": "stdout",
          "text": [
            "1\n",
            "True\n",
            "4\n",
            "lira@gmail,com\n"
          ]
        }
      ]
    },
    {
      "cell_type": "code",
      "source": [
        "# separa o antes e depois de um argumento escolhido em uma lista indexada\n",
        "servidor = email.split('@')\n",
        "print(servidor[1])"
      ],
      "metadata": {
        "colab": {
          "base_uri": "https://localhost:8080/"
        },
        "id": "_YHIhaYEkKzU",
        "outputId": "7642140f-956f-4d63-9333-1202d3d11c50"
      },
      "execution_count": 3,
      "outputs": [
        {
          "output_type": "stream",
          "name": "stdout",
          "text": [
            "gmail.com\n"
          ]
        }
      ]
    },
    {
      "cell_type": "code",
      "source": [
        "print(servidor[1].strip())"
      ],
      "metadata": {
        "colab": {
          "base_uri": "https://localhost:8080/"
        },
        "id": "6lFt9YxQmSVS",
        "outputId": "7fb25568-378c-4122-d22a-cfb1c72b7e8b"
      },
      "execution_count": 7,
      "outputs": [
        {
          "output_type": "stream",
          "name": "stdout",
          "text": [
            "gmail.com\n"
          ]
        }
      ]
    }
  ]
}