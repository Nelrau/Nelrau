{
  "cells": [
    {
      "cell_type": "markdown",
      "metadata": {
        "id": "view-in-github",
        "colab_type": "text"
      },
      "source": [
        "<a href=\"https://colab.research.google.com/github/Nelrau/python_basic/blob/basic/Exerc%C3%ADcios_List_Comprehension_Exercicios_1.ipynb\" target=\"_parent\"><img src=\"https://colab.research.google.com/assets/colab-badge.svg\" alt=\"Open In Colab\"/></a>"
      ]
    },
    {
      "cell_type": "markdown",
      "metadata": {
        "id": "QhWmbzSt40Bc"
      },
      "source": [
        "# Exercícios\n",
        "\n",
        "## 1. Tirando informações de listas e dicionários\n",
        "\n",
        "Digamos que você está analisando as vendas de produtos de uma empresa de varejo.\n",
        "\n",
        "Essa lista tem: (produto, vendas de 2019, vendas de 2020) para cada produto.\n",
        "\n",
        "Crie uma lista com as vendas de 2019."
      ]
    },
    {
      "cell_type": "code",
      "execution_count": 1,
      "metadata": {
        "id": "EdhW_Hl740Bp"
      },
      "outputs": [],
      "source": [
        "vendas_produtos = [('iphone', 558147, 951642), ('galaxy', 712350, 244295), ('ipad', 573823, 26964), ('tv', 405252, 787604), ('máquina de café', 718654, 867660), ('kindle', 531580, 78830), ('geladeira', 973139, 710331), ('adega', 892292, 646016), ('notebook dell', 422760, 694913), ('notebook hp', 154753, 539704), ('notebook asus', 887061, 324831), ('microsoft surface', 438508, 667179), ('webcam', 237467, 295633), ('caixa de som', 489705, 725316), ('microfone', 328311, 644622), ('câmera canon', 591120, 994303)]\n",
        "\n"
      ]
    },
    {
      "cell_type": "code",
      "source": [
        "\n",
        "vendas_2019 = [vendas_2019 for produto, vendas_2019, vendas in vendas_produtos]\n",
        "print(vendas_2019)"
      ],
      "metadata": {
        "colab": {
          "base_uri": "https://localhost:8080/"
        },
        "id": "jVXHrRwo9TM8",
        "outputId": "efe6e431-986f-412c-b1f4-653987324edd"
      },
      "execution_count": 7,
      "outputs": [
        {
          "output_type": "stream",
          "name": "stdout",
          "text": [
            "[558147, 712350, 573823, 405252, 718654, 531580, 973139, 892292, 422760, 154753, 887061, 438508, 237467, 489705, 328311, 591120]\n"
          ]
        }
      ]
    },
    {
      "cell_type": "markdown",
      "metadata": {
        "id": "ESGr6GEl40By"
      },
      "source": [
        "- Agora, qual o maior valor de vendas de 2019?"
      ]
    },
    {
      "cell_type": "code",
      "execution_count": 9,
      "metadata": {
        "colab": {
          "base_uri": "https://localhost:8080/"
        },
        "id": "zm2SMJCn40B1",
        "outputId": "91faa72e-6dd4-41ae-8e39-5b93a2c6a74b"
      },
      "outputs": [
        {
          "output_type": "stream",
          "name": "stdout",
          "text": [
            "973139\n"
          ]
        }
      ],
      "source": [
        "maior_venda = max(vendas_2019)\n",
        "print(maior_venda)"
      ]
    },
    {
      "cell_type": "markdown",
      "metadata": {
        "id": "PLvSmvpc40B3"
      },
      "source": [
        "- E se eu quisesse descobrir o produto que mais vendeu em 2019?\n",
        "Temos 2 formas de fazer, refazendo o list comprehension ou consultando a lista original"
      ]
    },
    {
      "cell_type": "code",
      "execution_count": 14,
      "metadata": {
        "colab": {
          "base_uri": "https://localhost:8080/"
        },
        "id": "SxRAC86r40B5",
        "outputId": "7c4a1dec-a254-4016-aece-f78364ab0769"
      },
      "outputs": [
        {
          "output_type": "stream",
          "name": "stdout",
          "text": [
            "geladeira\n"
          ]
        }
      ],
      "source": [
        "mais_vendido = vendas_2019.index(maior_venda)\n",
        "produto_m_vendido = vendas_produtos[mais_vendido]\n",
        "print(produto_m_vendido[0])"
      ]
    },
    {
      "cell_type": "code",
      "source": [
        "produto_m_vendido2019 = [(ven2019, produtos2019) for produtos2019, ven2019, ven2020 in vendas_produtos]\n",
        "print(max(produto_m_vendido2019))"
      ],
      "metadata": {
        "colab": {
          "base_uri": "https://localhost:8080/"
        },
        "id": "68E_R0u0E1wX",
        "outputId": "41466f2a-9062-4e1e-97e3-a699ee9c25b8"
      },
      "execution_count": 6,
      "outputs": [
        {
          "output_type": "stream",
          "name": "stdout",
          "text": [
            "(973139, 'geladeira')\n"
          ]
        }
      ]
    }
  ],
  "metadata": {
    "kernelspec": {
      "display_name": "Python 3",
      "language": "python",
      "name": "python3"
    },
    "language_info": {
      "codemirror_mode": {
        "name": "ipython",
        "version": 3
      },
      "file_extension": ".py",
      "mimetype": "text/x-python",
      "name": "python",
      "nbconvert_exporter": "python",
      "pygments_lexer": "ipython3",
      "version": "3.8.3"
    },
    "colab": {
      "provenance": [],
      "include_colab_link": true
    }
  },
  "nbformat": 4,
  "nbformat_minor": 0
}