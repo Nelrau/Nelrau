{
  "cells": [
    {
      "cell_type": "markdown",
      "metadata": {
        "id": "view-in-github",
        "colab_type": "text"
      },
      "source": [
        "<a href=\"https://colab.research.google.com/github/Nelrau/python_basic/blob/basic/07_datetime_exercicios.ipynb\" target=\"_parent\"><img src=\"https://colab.research.google.com/assets/colab-badge.svg\" alt=\"Open In Colab\"/></a>"
      ]
    },
    {
      "cell_type": "markdown",
      "metadata": {
        "id": "IYIIQvX_SGdj"
      },
      "source": [
        "## Oferecendo desconto para cliente com base na última compra\n",
        "\n",
        "Suponha que você está trabalhando para uma empresa que deseja rastrear a atividade do cliente. Uma métrica que eles estão interessados é o tempo que passou desde a última transação do cliente. Se for muito tempo, eles podem oferecer um desconto para o cliente. Crie um script Python que mostra quanto tempo se passou desde a última compra do cliente. Se faz mais de 30 dias, mostre uma mensagem oferecendo um desconto para o cliente."
      ]
    },
    {
      "cell_type": "code",
      "source": [
        "from datetime import datetime\n",
        "\n",
        "agora = datetime.now()\n",
        "ultima_compra = datetime(2023, 5, 10)\n",
        "diferença = agora - ultima_compra\n",
        "\n",
        "if diferença.days >= 30:\n",
        "  print('desconto de 25%')\n",
        "else:\n",
        "  print('Obrigado pela compra!!!')"
      ],
      "metadata": {
        "colab": {
          "base_uri": "https://localhost:8080/"
        },
        "id": "j35-8d87Sf09",
        "outputId": "5674c1ff-4d16-4e9c-e93f-1ff48a8d8b54"
      },
      "execution_count": 112,
      "outputs": [
        {
          "output_type": "stream",
          "name": "stdout",
          "text": [
            "desconto de 25%\n"
          ]
        }
      ]
    },
    {
      "cell_type": "code",
      "source": [
        "diferença = agora - ultima_compra\n",
        "print(diferença)"
      ],
      "metadata": {
        "colab": {
          "base_uri": "https://localhost:8080/"
        },
        "id": "HXF2jYkJWZU5",
        "outputId": "9ef34e6c-75ad-4736-d15c-93f1b141d333"
      },
      "execution_count": 113,
      "outputs": [
        {
          "output_type": "stream",
          "name": "stdout",
          "text": [
            "129 days, 12:14:34.670142\n"
          ]
        }
      ]
    },
    {
      "cell_type": "code",
      "source": [
        "if diferença.days >= 30:\n",
        "  print('desconto de 25%')\n",
        "else:\n",
        "  print('Obrigado pela compra!!!')"
      ],
      "metadata": {
        "colab": {
          "base_uri": "https://localhost:8080/"
        },
        "id": "PFgIiA6DWfHu",
        "outputId": "a5890bfc-b604-46f3-845e-ab9c7edc3bf8"
      },
      "execution_count": 114,
      "outputs": [
        {
          "output_type": "stream",
          "name": "stdout",
          "text": [
            "desconto de 25%\n"
          ]
        }
      ]
    },
    {
      "cell_type": "markdown",
      "metadata": {
        "id": "4oLu7X0qSGdx"
      },
      "source": [
        "## Data e hora em diferentes fusos horários\n",
        "\n",
        "Uma empresa tem escritórios em São Paulo, Nova York e Tóquio. Crie um script Python que mostra a data e hora atuais nesses três fusos horários. Exiba, também, se estes escritórios estão abertos ou fechados (9h às 17h).\n"
      ]
    },
    {
      "cell_type": "code",
      "source": [
        "from datetime import datetime\n",
        "from zoneinfo import ZoneInfo\n",
        "hoje = datetime\n"
      ],
      "metadata": {
        "id": "M0ajmEmUjZSL"
      },
      "execution_count": 123,
      "outputs": []
    },
    {
      "cell_type": "code",
      "source": [
        "fuso_sp = ZoneInfo('America/Sao_Paulo')\n",
        "fuso_new = ZoneInfo('America/New_York')\n",
        "fuso_tokio = ZoneInfo('Asia/Tokyo')\n"
      ],
      "metadata": {
        "id": "CO5WUtYLXwUx"
      },
      "execution_count": 124,
      "outputs": []
    },
    {
      "cell_type": "code",
      "source": [
        "f_sp = agora.astimezone(fuso_sp)\n",
        "f_new = agora.astimezone(fuso_new)\n",
        "f_tokyo = agora.astimezone(fuso_tokio)\n",
        "print(f_new.strftime('%H:%M New'), f_sp.strftime('%H:%M SP'), f_tokyo.strftime('%H:%M Tk'), sep='\\n')"
      ],
      "metadata": {
        "id": "AGT622PzfNuR",
        "colab": {
          "base_uri": "https://localhost:8080/"
        },
        "outputId": "2452a2d7-b93f-4a83-87f1-ac5164df1ee3"
      },
      "execution_count": 125,
      "outputs": [
        {
          "output_type": "stream",
          "name": "stdout",
          "text": [
            "08:14 New\n",
            "09:14 SP\n",
            "21:14 Tk\n"
          ]
        }
      ]
    },
    {
      "cell_type": "code",
      "source": [
        "hora_a = 9\n",
        "hora_f = 17\n",
        "if hora_a <= f_sp.hour > hora_f:\n",
        "  print('sp aberto', f_sp.strftime('%H:%M'))\n",
        "else:\n",
        "  print('sp fechado', f_sp.strftime('%H:%M'))\n",
        "if  hora_a <=  f_tokyo.hour > hora_f:\n",
        "  print('tk aberto', f_tokyo.strftime('%H:%M'))\n",
        "else:\n",
        "  print('tk fechado', f_tokyo.strftime('%H:%M'))\n",
        "if hora_a <=  f_new.hour > hora_f:\n",
        "  print('nw aberto', f_new.strftime('%H:%M'))\n",
        "else:\n",
        "  print('nw fechado', f_new.strftime('%H:%M'))\n",
        "print(agora)"
      ],
      "metadata": {
        "colab": {
          "base_uri": "https://localhost:8080/"
        },
        "id": "jlWcXxoHh49T",
        "outputId": "e7604b1b-dd16-4642-83c2-0cc12bbd7ead"
      },
      "execution_count": 118,
      "outputs": [
        {
          "output_type": "stream",
          "name": "stdout",
          "text": [
            "sp fechado 09:14\n",
            "tk aberto 21:14\n",
            "nw fechado 08:14\n",
            "2023-09-16 12:14:34.670142\n"
          ]
        }
      ]
    },
    {
      "cell_type": "code",
      "source": [
        "def fuso(hora_fuso):\n",
        "  if 9 >= hora_fuso.hour < 17:\n",
        "    return 'aberto'\n",
        "  else:\n",
        "    return 'fechado'\n"
      ],
      "metadata": {
        "id": "ve5jn8Xq2nLn"
      },
      "execution_count": 126,
      "outputs": []
    },
    {
      "cell_type": "code",
      "source": [
        "sp = fuso(f_sp)\n",
        "ny = fuso(f_new)\n",
        "tok = fuso(f_tokyo)\n",
        "print(f'São Paulo - {sp} {f_sp.strftime(\"%H:%M\")}, Nova York - {ny} {f_new.strftime(\"%H:%M\")}, Toquio - {tok} {f_tokyo.strftime(\"%H:%M\")}')"
      ],
      "metadata": {
        "colab": {
          "base_uri": "https://localhost:8080/"
        },
        "id": "yVS9BHct3g2d",
        "outputId": "0852fa71-9cf6-44f1-e556-ed99f0481c65"
      },
      "execution_count": 127,
      "outputs": [
        {
          "output_type": "stream",
          "name": "stdout",
          "text": [
            "São Paulo - aberto 09:14, Nova York - aberto 08:14, Toquio - fechado 21:14\n"
          ]
        }
      ]
    }
  ],
  "metadata": {
    "kernelspec": {
      "display_name": "Python 3 (ipykernel)",
      "language": "python",
      "name": "python3"
    },
    "language_info": {
      "codemirror_mode": {
        "name": "ipython",
        "version": 3
      },
      "file_extension": ".py",
      "mimetype": "text/x-python",
      "name": "python",
      "nbconvert_exporter": "python",
      "pygments_lexer": "ipython3",
      "version": "3.10.11"
    },
    "colab": {
      "provenance": [],
      "include_colab_link": true
    }
  },
  "nbformat": 4,
  "nbformat_minor": 0
}