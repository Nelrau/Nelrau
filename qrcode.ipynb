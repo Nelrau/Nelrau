{
  "cells": [
    {
      "cell_type": "markdown",
      "metadata": {
        "id": "view-in-github",
        "colab_type": "text"
      },
      "source": [
        "<a href=\"https://colab.research.google.com/github/Nelrau/python_basic/blob/basic/qrcode.ipynb\" target=\"_parent\"><img src=\"https://colab.research.google.com/assets/colab-badge.svg\" alt=\"Open In Colab\"/></a>"
      ]
    },
    {
      "cell_type": "markdown",
      "id": "9d4ec1f7-92e3-4764-8b47-318a52fc62c4",
      "metadata": {
        "id": "9d4ec1f7-92e3-4764-8b47-318a52fc62c4"
      },
      "source": [
        "# Criando QR Code"
      ]
    },
    {
      "cell_type": "markdown",
      "id": "6a649f54-8f0f-46dd-933a-e934d67e51b0",
      "metadata": {
        "id": "6a649f54-8f0f-46dd-933a-e934d67e51b0"
      },
      "source": [
        "Para instalar:\n",
        "\n",
        "```\n",
        "pip install qrcode\n",
        "pip install Pillow\n",
        "```"
      ]
    },
    {
      "cell_type": "markdown",
      "id": "0a2ec7b0-c74f-4857-a6a7-2b79641a44da",
      "metadata": {
        "id": "0a2ec7b0-c74f-4857-a6a7-2b79641a44da"
      },
      "source": [
        "Links da Hashtag:\n",
        "\n",
        "- https://www.youtube.com/@HashtagProgramacao\n",
        "- https://www.facebook.com/hashtagprogramacao\n",
        "- https://www.instagram.com/hashtagprogramacao\n",
        "- https://www.youtube.com/@HashtagProgramacao\n",
        "- https://www.tiktok.com/@hashtagprogramacao"
      ]
    },
    {
      "cell_type": "markdown",
      "id": "fbd74860-92b2-4efe-96cb-1bd4f701ba30",
      "metadata": {
        "id": "fbd74860-92b2-4efe-96cb-1bd4f701ba30"
      },
      "source": [
        "## QR Code simples"
      ]
    },
    {
      "cell_type": "code",
      "source": [
        "!pip install qrcode"
      ],
      "metadata": {
        "colab": {
          "base_uri": "https://localhost:8080/"
        },
        "id": "-bxglmU_OrRr",
        "outputId": "4dd6de67-bc9a-4cc3-ede7-2c529350786d"
      },
      "id": "-bxglmU_OrRr",
      "execution_count": null,
      "outputs": [
        {
          "output_type": "stream",
          "name": "stdout",
          "text": [
            "Requirement already satisfied: qrcode in /usr/local/lib/python3.10/dist-packages (7.4.2)\n",
            "Requirement already satisfied: typing-extensions in /usr/local/lib/python3.10/dist-packages (from qrcode) (4.5.0)\n",
            "Requirement already satisfied: pypng in /usr/local/lib/python3.10/dist-packages (from qrcode) (0.20220715.0)\n"
          ]
        }
      ]
    },
    {
      "cell_type": "code",
      "execution_count": null,
      "id": "aeb7d00d-0dbd-446e-8f94-3b00e10a763d",
      "metadata": {
        "id": "aeb7d00d-0dbd-446e-8f94-3b00e10a763d"
      },
      "outputs": [],
      "source": [
        "import qrcode\n",
        "img = qrcode.make('https://google.com')\n",
        "img.save('google.png')"
      ]
    },
    {
      "cell_type": "code",
      "source": [],
      "metadata": {
        "id": "X2D7ptfJPhrd"
      },
      "id": "X2D7ptfJPhrd",
      "execution_count": null,
      "outputs": []
    },
    {
      "cell_type": "markdown",
      "id": "0df50a17-96db-49b2-bf18-d00f8193ae0e",
      "metadata": {
        "id": "0df50a17-96db-49b2-bf18-d00f8193ae0e"
      },
      "source": [
        "## QR Code com imagem"
      ]
    },
    {
      "cell_type": "code",
      "execution_count": null,
      "id": "038b1eac-e441-4d0f-84af-097c3ade3791",
      "metadata": {
        "id": "038b1eac-e441-4d0f-84af-097c3ade3791"
      },
      "outputs": [],
      "source": [
        "import qrcode\n",
        "from qrcode.image.styledpil import StyledPilImage\n",
        "qr = qrcode.QRCode(error_correction=qrcode.ERROR_CORRECT_H)\n",
        "qr.make('https://plimbet.com/register/d7566043-090d-4773-9778-912e4e3bddd2')\n",
        "imagem = qr.make_image(image_factory=StyledPilImage,\n",
        "                       embeded_image_path='/content/google.png')\n",
        "imagem.save('plimbet.png')"
      ]
    },
    {
      "cell_type": "markdown",
      "id": "6bd9dccf-64e7-4dfe-b4cb-f81ef1cd2f9f",
      "metadata": {
        "id": "6bd9dccf-64e7-4dfe-b4cb-f81ef1cd2f9f"
      },
      "source": [
        "## Criando diversos QR Code ao mesmo tempo"
      ]
    },
    {
      "cell_type": "code",
      "execution_count": null,
      "id": "2028e0a0-49a6-4a9e-a903-0d1397cf2422",
      "metadata": {
        "id": "2028e0a0-49a6-4a9e-a903-0d1397cf2422"
      },
      "outputs": [],
      "source": [
        "links = {'face': '1','zap': '3', 'telegram': '2'}\n",
        "\n",
        "for rede, url in links.items():\n",
        "  qr = qrcode.QRCode(error_correction=qrcode.ERROR_CORRECT_H)\n",
        "  qr.make(url)\n",
        "  #imagem = qr.make_image(image_factory=StyledPilImage, embeded_image_path='/content/google.png')\n",
        "  imagem = qrcode.make('camiholocaldaimagem')\n",
        "  imagem.save(f'{rede}.png')\n"
      ]
    }
  ],
  "metadata": {
    "kernelspec": {
      "display_name": "qrcode",
      "language": "python",
      "name": "qrcode"
    },
    "language_info": {
      "codemirror_mode": {
        "name": "ipython",
        "version": 3
      },
      "file_extension": ".py",
      "mimetype": "text/x-python",
      "name": "python",
      "nbconvert_exporter": "python",
      "pygments_lexer": "ipython3",
      "version": "3.11.4"
    },
    "colab": {
      "provenance": [],
      "include_colab_link": true
    }
  },
  "nbformat": 4,
  "nbformat_minor": 5
}