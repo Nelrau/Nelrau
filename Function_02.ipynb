{
  "cells": [
    {
      "cell_type": "markdown",
      "metadata": {
        "id": "view-in-github",
        "colab_type": "text"
      },
      "source": [
        "<a href=\"https://colab.research.google.com/github/Nelrau/python_basic/blob/basic/Function_02.ipynb\" target=\"_parent\"><img src=\"https://colab.research.google.com/assets/colab-badge.svg\" alt=\"Open In Colab\"/></a>"
      ]
    },
    {
      "cell_type": "markdown",
      "metadata": {
        "id": "hHuB83IPge3m"
      },
      "source": [
        "# Retornar um valor na Function Python\n",
        "\n",
        "### Estrutura Básica"
      ]
    },
    {
      "cell_type": "raw",
      "metadata": {
        "id": "nST29KSdge30"
      },
      "source": [
        "def nome_funcao():\n",
        "    return valor_final"
      ]
    },
    {
      "cell_type": "markdown",
      "metadata": {
        "id": "XUR_fXUqge33"
      },
      "source": [
        "- Exemplo: vamos criar uma função de cadastro de um Produto. Essa função deve garantir que o produto cadastrado está em letra minúscula."
      ]
    },
    {
      "cell_type": "code",
      "execution_count": 6,
      "metadata": {
        "id": "pvVgQ5c2ge35"
      },
      "outputs": [],
      "source": [
        "def cadastrar_produto():\n",
        "    produto = input('Digite o nome do produto que deseja cadastrar: ')\n",
        "    produto = produto.casefold()\n",
        "    produto = produto.strip()\n",
        "    return produto # compartilha o resultado com o ambiente externo\n"
      ]
    },
    {
      "cell_type": "code",
      "execution_count": 4,
      "metadata": {
        "colab": {
          "base_uri": "https://localhost:8080/"
        },
        "id": "xIZL8a5kge4A",
        "outputId": "cedb5050-0bc0-4477-e5ca-1744ea9c1fe0"
      },
      "outputs": [
        {
          "output_type": "stream",
          "name": "stdout",
          "text": [
            "Digite o nome do produto que deseja cadastrarcarro\n",
            "carro\n"
          ]
        }
      ],
      "source": [
        "produto = cadastrar_produto()\n",
        "print(produto)"
      ]
    }
  ],
  "metadata": {
    "kernelspec": {
      "display_name": "Python 3",
      "language": "python",
      "name": "python3"
    },
    "language_info": {
      "codemirror_mode": {
        "name": "ipython",
        "version": 3
      },
      "file_extension": ".py",
      "mimetype": "text/x-python",
      "name": "python",
      "nbconvert_exporter": "python",
      "pygments_lexer": "ipython3",
      "version": "3.8.3"
    },
    "colab": {
      "provenance": [],
      "include_colab_link": true
    }
  },
  "nbformat": 4,
  "nbformat_minor": 0
}