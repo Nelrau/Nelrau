{
  "cells": [
    {
      "cell_type": "markdown",
      "metadata": {
        "id": "view-in-github",
        "colab_type": "text"
      },
      "source": [
        "<a href=\"https://colab.research.google.com/github/Nelrau/python_basic/blob/basic/Dicionario_04.ipynb\" target=\"_parent\"><img src=\"https://colab.research.google.com/assets/colab-badge.svg\" alt=\"Open In Colab\"/></a>"
      ]
    },
    {
      "cell_type": "markdown",
      "metadata": {
        "id": "kdmO2sg-f4Mj"
      },
      "source": [
        "# For nos Dicionarios\n",
        "\n",
        "### Estrutura:"
      ]
    },
    {
      "cell_type": "raw",
      "metadata": {
        "id": "99g1_2Dkf4Ms"
      },
      "source": [
        "for chave in dicionario:\n",
        "    faça alguma coisa"
      ]
    },
    {
      "cell_type": "code",
      "execution_count": 1,
      "metadata": {
        "id": "qgfk_A5mf4Mv"
      },
      "outputs": [],
      "source": [
        "vendas_tecnologia = {'iphone': 15000, 'samsung galaxy': 12000, 'tv samsung': 10000, 'ps5': 14300, 'tablet': 1720, 'ipad': 1000, 'tv philco': 2500, 'notebook hp': 1000, 'notebook dell': 17000, 'notebook asus': 2450}\n",
        "\n",
        "#demonstrando o for"
      ]
    },
    {
      "cell_type": "markdown",
      "metadata": {
        "id": "5FgoaJcwf4Mz"
      },
      "source": [
        "- Qual o total de notebooks vendidos?"
      ]
    },
    {
      "cell_type": "code",
      "execution_count": 19,
      "metadata": {
        "colab": {
          "base_uri": "https://localhost:8080/"
        },
        "id": "oYeTMBFsf4M3",
        "outputId": "9c6b41f1-e3a8-4a47-ad54-d936e35d2ca8"
      },
      "outputs": [
        {
          "output_type": "stream",
          "name": "stdout",
          "text": [
            "iphone         - 15000\n",
            "samsung galaxy - 12000\n",
            "tv samsung     - 10000\n",
            "ps5            - 14300\n",
            "tablet         - 1720\n",
            "ipad           - 1000\n",
            "tv philco      - 2500\n",
            "notebook hp    - 1000\n",
            "notebook dell  - 17000\n",
            "notebook asus  - 2450\n"
          ]
        }
      ],
      "source": [
        "for chave in vendas_tecnologia:\n",
        "\n",
        "  #print(vendas_tecnologia[chave])\n",
        "  if vendas_tecnologia[chave]:\n",
        "    print(f'{chave:14} - {vendas_tecnologia[chave]}')"
      ]
    }
  ],
  "metadata": {
    "kernelspec": {
      "display_name": "Python 3",
      "language": "python",
      "name": "python3"
    },
    "language_info": {
      "codemirror_mode": {
        "name": "ipython",
        "version": 3
      },
      "file_extension": ".py",
      "mimetype": "text/x-python",
      "name": "python",
      "nbconvert_exporter": "python",
      "pygments_lexer": "ipython3",
      "version": "3.8.3"
    },
    "colab": {
      "provenance": [],
      "include_colab_link": true
    }
  },
  "nbformat": 4,
  "nbformat_minor": 0
}