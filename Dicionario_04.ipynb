{
  "cells": [
    {
      "cell_type": "markdown",
      "metadata": {
        "id": "view-in-github",
        "colab_type": "text"
      },
      "source": [
        "<a href=\"https://colab.research.google.com/github/Nelrau/python_basic/blob/basic/Dicionario_04.ipynb\" target=\"_parent\"><img src=\"https://colab.research.google.com/assets/colab-badge.svg\" alt=\"Open In Colab\"/></a>"
      ]
    },
    {
      "cell_type": "markdown",
      "metadata": {
        "id": "0spifLVKvy-w"
      },
      "source": [
        "# For nos Dicionarios\n",
        "\n",
        "### Estrutura:"
      ]
    },
    {
      "cell_type": "raw",
      "metadata": {
        "id": "dkqK9BYcvy-7"
      },
      "source": [
        "for chave in dicionario:\n",
        "    faça alguma coisa"
      ]
    },
    {
      "cell_type": "code",
      "execution_count": null,
      "metadata": {
        "id": "jW11atYXvy--"
      },
      "outputs": [],
      "source": [
        "vendas_tecnologia = {'iphone': 15000, 'samsung galaxy': 12000, 'tv samsung': 10000, 'ps5': 14300, 'tablet': 1720, 'ipad': 1000, 'tv philco': 2500, 'notebook hp': 1000, 'notebook dell': 17000, 'notebook asus': 2450}\n",
        "\n",
        "#demonstrando o for"
      ]
    },
    {
      "cell_type": "markdown",
      "metadata": {
        "id": "7z5twgTjvy_B"
      },
      "source": [
        "- Qual o total de notebooks vendidos?"
      ]
    },
    {
      "cell_type": "code",
      "execution_count": null,
      "metadata": {
        "colab": {
          "base_uri": "https://localhost:8080/"
        },
        "id": "aE6uPwPovy_F",
        "outputId": "dd4da8e6-54f8-48ff-a603-aaf860b3f154"
      },
      "outputs": [
        {
          "output_type": "stream",
          "name": "stdout",
          "text": [
            "iphone\n",
            "samsung galaxy\n",
            "tv samsung\n",
            "ps5\n",
            "tablet\n",
            "ipad\n",
            "tv philco\n",
            "notebook hp\n",
            "notebook dell\n",
            "notebook asus\n"
          ]
        }
      ],
      "source": [
        "for chave in vendas_tecnologia:\n",
        "  print(chave)"
      ]
    }
  ],
  "metadata": {
    "kernelspec": {
      "display_name": "Python 3",
      "language": "python",
      "name": "python3"
    },
    "language_info": {
      "codemirror_mode": {
        "name": "ipython",
        "version": 3
      },
      "file_extension": ".py",
      "mimetype": "text/x-python",
      "name": "python",
      "nbconvert_exporter": "python",
      "pygments_lexer": "ipython3",
      "version": "3.8.3"
    },
    "colab": {
      "provenance": [],
      "include_colab_link": true
    }
  },
  "nbformat": 4,
  "nbformat_minor": 0
}