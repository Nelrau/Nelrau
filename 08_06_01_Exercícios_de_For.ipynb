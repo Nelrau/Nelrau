{
  "cells": [
    {
      "cell_type": "markdown",
      "metadata": {
        "id": "view-in-github",
        "colab_type": "text"
      },
      "source": [
        "<a href=\"https://colab.research.google.com/github/Nelrau/python_basic/blob/basic/08_06_01_Exerc%C3%ADcios_de_For.ipynb\" target=\"_parent\"><img src=\"https://colab.research.google.com/assets/colab-badge.svg\" alt=\"Open In Colab\"/></a>"
      ]
    },
    {
      "cell_type": "markdown",
      "metadata": {
        "id": "SrmQgJC-ktb8"
      },
      "source": [
        "# Exercícios\n",
        "\n",
        "## 1. Calculando % de uma lista\n",
        "\n",
        "Faremos algo parecido com \"filtrar\" uma lista. Mais pra frente no curso aprenderemos outras formas de fazer isso, mas com o nosso conhecimentoa atual já conseguimos resolver o desafio.\n",
        "\n",
        "Digamos que a gente tenha uma lista de vendedores e ao invés de saber todos os vendedores que bateram a meta, eu quero conseguir calcular o % de vendedores que bateram a meta. Ou seja, se temos 10 vendedores e 3 bateram a meta, temos 30% dos vendedores que bateram a meta."
      ]
    },
    {
      "cell_type": "code",
      "execution_count": 13,
      "metadata": {
        "colab": {
          "base_uri": "https://localhost:8080/"
        },
        "id": "MZUJCa_7ktcO",
        "outputId": "0d70d5b0-ef00-4915-fd82-a2ffdd9d3911"
      },
      "outputs": [
        {
          "output_type": "stream",
          "name": "stdout",
          "text": [
            "50% conseguiram bater a meta\n"
          ]
        }
      ],
      "source": [
        "meta = 10000\n",
        "vendas = [\n",
        "    ['João', 15000],\n",
        "    ['Julia', 27000],\n",
        "    ['Marcus', 9900],\n",
        "    ['Maria', 3750],\n",
        "    ['Ana', 10300],\n",
        "    ['Alon', 7870],\n",
        "]\n",
        "#seu código aqui\n"
      ]
    },
    {
      "cell_type": "code",
      "source": [
        "# lista auxiliar\n",
        "metas = []\n",
        "for venda in vendas:\n",
        "  if venda[1] > meta:\n",
        "    metas.append(venda[1])\n",
        "tam = len(metas) / len(vendas)\n",
        "print(f'{tam:.0%} conseguiram bater a meta')"
      ],
      "metadata": {
        "id": "Fi-WTQc6qOve"
      },
      "execution_count": null,
      "outputs": []
    },
    {
      "cell_type": "code",
      "source": [
        "# variavel auxiliar - contador\n",
        "metas = 0\n",
        "for venda in vendas:\n",
        "  if venda[1] > meta:\n",
        "    metas += 1\n",
        "tam = metas / len(vendas)\n",
        "print(f'{tam:.0%} conseguiram bater a meta')"
      ],
      "metadata": {
        "colab": {
          "base_uri": "https://localhost:8080/"
        },
        "id": "ZMAFwMjNqOfZ",
        "outputId": "d838c4be-01de-460e-e977-ba77ad200878"
      },
      "execution_count": 15,
      "outputs": [
        {
          "output_type": "stream",
          "name": "stdout",
          "text": [
            "50% conseguiram bater a meta\n"
          ]
        }
      ]
    },
    {
      "cell_type": "markdown",
      "metadata": {
        "id": "WJ9XBqjoktcS"
      },
      "source": [
        "- Vamos resolver de 2 formas:\n",
        "    1. Criando uma lista auxiliar apenas com os vendedores que bateram a meta\n",
        "    2. Fazendo o cálculo diretamente na lista que já temos"
      ]
    },
    {
      "cell_type": "markdown",
      "metadata": {
        "id": "NXkEQvnzktcV"
      },
      "source": [
        "## Para treinar uma estrutura parecida, crie um código para responder: quem foi o vendedor que mais vendeu?"
      ]
    },
    {
      "cell_type": "code",
      "execution_count": null,
      "metadata": {
        "id": "NatwPYGKktcY"
      },
      "outputs": [],
      "source": [
        "#seu código aqui"
      ]
    }
  ],
  "metadata": {
    "kernelspec": {
      "display_name": "Python 3",
      "language": "python",
      "name": "python3"
    },
    "language_info": {
      "codemirror_mode": {
        "name": "ipython",
        "version": 3
      },
      "file_extension": ".py",
      "mimetype": "text/x-python",
      "name": "python",
      "nbconvert_exporter": "python",
      "pygments_lexer": "ipython3",
      "version": "3.8.3"
    },
    "colab": {
      "provenance": [],
      "include_colab_link": true
    }
  },
  "nbformat": 4,
  "nbformat_minor": 0
}