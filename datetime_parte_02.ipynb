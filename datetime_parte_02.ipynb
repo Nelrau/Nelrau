{
  "cells": [
    {
      "cell_type": "markdown",
      "metadata": {
        "id": "view-in-github",
        "colab_type": "text"
      },
      "source": [
        "<a href=\"https://colab.research.google.com/github/Nelrau/python_basic/blob/basic/datetime_parte_02.ipynb\" target=\"_parent\"><img src=\"https://colab.research.google.com/assets/colab-badge.svg\" alt=\"Open In Colab\"/></a>"
      ]
    },
    {
      "cell_type": "markdown",
      "metadata": {
        "id": "IH3Fgny9RS5d"
      },
      "source": [
        "# Guia para o módulo `datetime` em Python\n",
        "\n",
        "O módulo `datetime` em Python fornece classes para manipulação de datas e horas. Aqui está um guia simples para algumas das funções mais úteis deste módulo.\n",
        "\n"
      ]
    },
    {
      "cell_type": "markdown",
      "metadata": {
        "id": "GjGwD-aXRS5s"
      },
      "source": [
        "## datetime.datetime.strftime()\n",
        "\n",
        "A função `strftime()` converte um objeto datetime para uma string de acordo com um formato específico.\n",
        "\n",
        "Símbolos que podem ser usados para formatar datas podem ser achados [aqui](https://docs.python.org/3/library/datetime.html#strftime-and-strptime-format-codes).\n"
      ]
    },
    {
      "cell_type": "code",
      "execution_count": 1,
      "metadata": {
        "jupyter": {
          "outputs_hidden": false
        },
        "colab": {
          "base_uri": "https://localhost:8080/"
        },
        "id": "bDL1cd7TRS5v",
        "outputId": "bb10791e-9e53-43a3-8499-ac0c641f88c0"
      },
      "outputs": [
        {
          "output_type": "stream",
          "name": "stdout",
          "text": [
            "2023-09-12 21:24:22.123356\n"
          ]
        }
      ],
      "source": [
        "from datetime import datetime\n",
        "\n",
        "agora = datetime.now()\n",
        "print(agora)"
      ]
    },
    {
      "cell_type": "code",
      "execution_count": null,
      "metadata": {
        "tags": [],
        "id": "AwpEZKlFRS51",
        "outputId": "eeca3767-b985-487d-fe7d-574e648af755"
      },
      "outputs": [
        {
          "name": "stdout",
          "output_type": "stream",
          "text": [
            "<class 'datetime.datetime'>\n"
          ]
        }
      ],
      "source": [
        "print(type(agora))"
      ]
    },
    {
      "cell_type": "code",
      "execution_count": 2,
      "metadata": {
        "colab": {
          "base_uri": "https://localhost:8080/"
        },
        "id": "1FsC8TaeRS54",
        "outputId": "4ec00ed2-9271-4348-cc90-b4ea78015786"
      },
      "outputs": [
        {
          "output_type": "stream",
          "name": "stdout",
          "text": [
            "Tuesday, 12 de September\n"
          ]
        }
      ],
      "source": [
        "print(agora.strftime(\"%A, %d de %B\"))"
      ]
    },
    {
      "cell_type": "code",
      "execution_count": 3,
      "metadata": {
        "colab": {
          "base_uri": "https://localhost:8080/"
        },
        "id": "qK1G7accRS58",
        "outputId": "b4498941-a3de-4a03-ab8e-3e58906aadd9"
      },
      "outputs": [
        {
          "output_type": "stream",
          "name": "stdout",
          "text": [
            "Data formatada: Tuesday, 12 de September de 2023, 21:24:22\n"
          ]
        }
      ],
      "source": [
        "data_formatada = agora.strftime(\"%A, %d de %B de %Y, %H:%M:%S\")\n",
        "\n",
        "print(f\"Data formatada: {data_formatada}\")"
      ]
    },
    {
      "cell_type": "code",
      "execution_count": 5,
      "metadata": {
        "jupyter": {
          "outputs_hidden": false
        },
        "colab": {
          "base_uri": "https://localhost:8080/"
        },
        "id": "tw7RyDWvRS5-",
        "outputId": "69ac5955-be42-4f5c-bd1a-27e5ae02c746"
      },
      "outputs": [
        {
          "output_type": "stream",
          "name": "stdout",
          "text": [
            "Data formatada: Tuesday, 12 de September de 2023, 21:26:06\n"
          ]
        }
      ],
      "source": [
        "import locale\n",
        "from datetime import datetime\n",
        "\n",
        "# Definir a localização para português.\n",
        "#locale.setlocale(locale.LC_TIME, 'pt_BR.UTF-8')\n",
        "\n",
        "agora = datetime.now()\n",
        "data_formatada = agora.strftime(\"%A, %d de %B de %Y, %H:%M:%S\")\n",
        "\n",
        "print(f\"Data formatada: {data_formatada}\")"
      ]
    },
    {
      "cell_type": "markdown",
      "metadata": {
        "id": "tMeBaJXGRS6C"
      },
      "source": [
        "## datetime.datetime.strptime()\n",
        "\n",
        "A função `strptime()` analisa uma string representando uma data e hora de acordo com um formato. O retorno é um objeto datetime.\n",
        "\n"
      ]
    },
    {
      "cell_type": "code",
      "execution_count": 12,
      "metadata": {
        "jupyter": {
          "outputs_hidden": false
        },
        "colab": {
          "base_uri": "https://localhost:8080/"
        },
        "id": "Sg-8WcCkRS6G",
        "outputId": "c9dd2388-28b1-4aab-d5ca-e43df34bf1f3"
      },
      "outputs": [
        {
          "output_type": "stream",
          "name": "stdout",
          "text": [
            "Data: 2023-06-30 15:30:20\n"
          ]
        }
      ],
      "source": [
        "from datetime import datetime\n",
        "\n",
        "string_data = \"30 6, 2023, 15:30:20\"\n",
        "formato = \"%d %m, %Y, %H:%M:%S\"\n",
        "data = datetime.strptime(string_data, formato)\n",
        "\n",
        "print(f\"Data: {data}\")"
      ]
    },
    {
      "cell_type": "code",
      "execution_count": 15,
      "metadata": {
        "colab": {
          "base_uri": "https://localhost:8080/"
        },
        "id": "I0LqVv7kRS6L",
        "outputId": "808c19f6-0735-4480-b079-eb2f58bbe1aa"
      },
      "outputs": [
        {
          "output_type": "stream",
          "name": "stdout",
          "text": [
            "Data: 2023-06-09 15:30:20\n"
          ]
        }
      ],
      "source": [
        "# formato DD/MM/YYYY\n",
        "string_data = \"09/06/2023, 15:30:20\"\n",
        "formato = \"%d/%m/%Y, %H:%M:%S\"\n",
        "data = datetime.strptime(string_data, formato)\n",
        "\n",
        "print(f\"Data: {data}\")"
      ]
    },
    {
      "cell_type": "code",
      "execution_count": 17,
      "metadata": {
        "colab": {
          "base_uri": "https://localhost:8080/"
        },
        "id": "ajK2-uIGRS6N",
        "outputId": "e9508eed-8bb3-4218-b849-63c7dfa9883e"
      },
      "outputs": [
        {
          "output_type": "stream",
          "name": "stdout",
          "text": [
            "Data: 2023-09-06 15:30:20\n"
          ]
        }
      ],
      "source": [
        "# formato MM/DD/YYYY\n",
        "string_data = \"09/06/2023, 15:30:20\"\n",
        "formato = \"%m/%d/%Y, %H:%M:%S\"\n",
        "data = datetime.strptime(string_data, formato)\n",
        "\n",
        "print(f\"Data: {data}\")"
      ]
    },
    {
      "cell_type": "markdown",
      "metadata": {
        "id": "-_lxTeBBRS6T"
      },
      "source": [
        "## Trabalhando com fuso horário\n",
        "\n",
        "Podemos criar um objeto datetime usando a classe `datetime`. O construtor da classe aceita os seguintes argumentos:\n",
        "\n",
        "- `year`: ano (por exemplo, 2023)\n",
        "- `month`: mês (1-12)\n",
        "- `day`: dia (1-31)\n",
        "- `hour`: hora (0-23)\n",
        "- `minute`: minuto (0-59)\n",
        "- `second`: segundo (0-59)\n",
        "- `microsecond`: microssegundo (0-999999)\n",
        "- `tzinfo`: fuso horário\n"
      ]
    },
    {
      "cell_type": "code",
      "execution_count": null,
      "metadata": {
        "jupyter": {
          "outputs_hidden": false
        },
        "id": "V7qP7kKuRS6V",
        "outputId": "cbbb3676-2ac1-45ad-86ef-8cdbc37ad92a"
      },
      "outputs": [
        {
          "name": "stdout",
          "output_type": "stream",
          "text": [
            "Data/hora: 2023-06-26 15:30:20\n"
          ]
        }
      ],
      "source": [
        "from datetime import datetime\n",
        "\n",
        "data_hora = datetime(2023, 6, 26, 15, 30, 20)\n",
        "print(f\"Data/hora: {data_hora}\")"
      ]
    },
    {
      "cell_type": "markdown",
      "metadata": {
        "id": "k9CQHHPnRS6Y"
      },
      "source": [
        "Os horários que vimos até o momento são os que chamamos de ingênuos (*naive*). Eles não possuem informações sobre o fuso horário. Para criar um horário consciente (*aware*), precisamos passar um objeto `tzinfo` para o construtor da classe `datetime`. O módulo `datetime` fornece uma classe `timezone` que pode ser usada para criar um objeto `tzinfo`. No exemplo abaixo, usamos UTC como fuso horário. UTC significa Tempo Universal Coordenado, que é o fuso horário de referência a partir do qual todos os outros fusos horários são calculados.\n",
        "\n",
        "![UTC](https://upload.wikimedia.org/wikipedia/commons/thumb/8/88/World_Time_Zones_Map.png/800px-World_Time_Zones_Map.png)\n"
      ]
    },
    {
      "cell_type": "code",
      "execution_count": 39,
      "metadata": {
        "jupyter": {
          "outputs_hidden": false
        },
        "colab": {
          "base_uri": "https://localhost:8080/"
        },
        "id": "FaHDDG6xRS6Z",
        "outputId": "86996f75-92cb-4097-e04b-485b614ab934"
      },
      "outputs": [
        {
          "output_type": "stream",
          "name": "stdout",
          "text": [
            "Data/hora: 2023-06-26 15:30:20+00:00\n"
          ]
        }
      ],
      "source": [
        "# exemplo com fuso horário\n",
        "from datetime import datetime, timezone\n",
        "\n",
        "fuso_horario = timezone.utc\n",
        "data_hora = datetime(2023, 6, 26, 15, 30, 20, 0, tzinfo=fuso_horario)\n",
        "print(f\"Data/hora: {data_hora}\")"
      ]
    },
    {
      "cell_type": "markdown",
      "metadata": {
        "id": "e2H4SoBdRS6b"
      },
      "source": [
        "Podemos passar um objeto `timedelta` para o construtor da classe `timezone` para criar um fuso horário com um deslocamento específico. Por exemplo, o código abaixo cria um fuso horário com um deslocamento de 3 horas em relação ao UTC:\n"
      ]
    },
    {
      "cell_type": "code",
      "execution_count": 45,
      "metadata": {
        "jupyter": {
          "outputs_hidden": false
        },
        "colab": {
          "base_uri": "https://localhost:8080/"
        },
        "id": "GSi2OeBURS6c",
        "outputId": "fe110472-137e-4eb4-8725-01c49f930b10"
      },
      "outputs": [
        {
          "output_type": "stream",
          "name": "stdout",
          "text": [
            "Data/hora: 2023-06-26 12:30:20-03:00\n"
          ]
        }
      ],
      "source": [
        "# exemplo com fuso horário de São Paulo\n",
        "from datetime import datetime, timezone, timedelta\n",
        "\n",
        "fuso_horario_sao_paulo = timezone(timedelta(hours=-3))\n",
        "data_hora = datetime(2023, 6, 26, 12, 30, 20, tzinfo=fuso_horario_sao_paulo)\n",
        "print(f\"Data/hora: {data_hora}\")"
      ]
    },
    {
      "cell_type": "markdown",
      "metadata": {
        "id": "UxhX4XqtRS6e"
      },
      "source": [
        "Como alternativa, podemos usar o módulo `zoneinfo` para criar um objeto `tzinfo`. O módulo `zoneinfo` está disponível na biblioteca padrão do Python desde a versão 3.9. O módulo `zoneinfo` fornece uma classe `ZoneInfo` que pode ser usada para criar um objeto `tzinfo`. No exemplo abaixo, usamos o fuso horário de São Paulo. Observe que não precisamos passar um objeto `timedelta` para o construtor da classe `ZoneInfo`."
      ]
    },
    {
      "cell_type": "code",
      "execution_count": 46,
      "metadata": {
        "jupyter": {
          "outputs_hidden": false
        },
        "colab": {
          "base_uri": "https://localhost:8080/"
        },
        "id": "GizCC-h0RS6f",
        "outputId": "1bbd4644-da4f-4ac7-d859-4db1b079f5c7"
      },
      "outputs": [
        {
          "output_type": "stream",
          "name": "stdout",
          "text": [
            "Data/hora: 2023-06-26 15:30:20-03:00\n"
          ]
        }
      ],
      "source": [
        "# exemplo com fuso horário de São Paulo sem necessidade de timedelta\n",
        "from datetime import datetime\n",
        "from zoneinfo import ZoneInfo\n",
        "\n",
        "fuso_horario_sao_paulo = ZoneInfo('America/Sao_Paulo')\n",
        "data_hora = datetime(2023, 6, 26, 15, 30, 20, tzinfo=fuso_horario_sao_paulo)\n",
        "print(f\"Data/hora: {data_hora}\")"
      ]
    },
    {
      "cell_type": "markdown",
      "metadata": {
        "id": "tkUWJDQ0RS6g"
      },
      "source": [
        "### Conversão entre fusos horários\n",
        "\n",
        "Podemos converter um objeto datetime de um fuso horário para outro usando o método `astimezone()`.\n"
      ]
    },
    {
      "cell_type": "code",
      "execution_count": 47,
      "metadata": {
        "jupyter": {
          "outputs_hidden": false
        },
        "tags": [],
        "colab": {
          "base_uri": "https://localhost:8080/"
        },
        "id": "_YRizW6MRS6i",
        "outputId": "a21998a9-5af6-48a9-c4fd-09425ef91a44"
      },
      "outputs": [
        {
          "output_type": "stream",
          "name": "stdout",
          "text": [
            "Data/hora atual (fuso horário local): 2023-09-13 00:43:52.950574\n"
          ]
        }
      ],
      "source": [
        "from datetime import datetime\n",
        "from zoneinfo import ZoneInfo\n",
        "\n",
        "data_hora_atual = datetime.now()\n",
        "print(f\"Data/hora atual (fuso horário local): {data_hora_atual}\")"
      ]
    },
    {
      "cell_type": "code",
      "execution_count": 48,
      "metadata": {
        "tags": [],
        "colab": {
          "base_uri": "https://localhost:8080/"
        },
        "id": "f8RTHvGTRS6k",
        "outputId": "b1878627-fc3b-4b83-83c6-a33ee4dde57c"
      },
      "outputs": [
        {
          "output_type": "stream",
          "name": "stdout",
          "text": [
            "Data/hora atual em São Paulo: 2023-09-12 21:43:52.950574-03:00\n"
          ]
        }
      ],
      "source": [
        "fuso_horario_sao_paulo = ZoneInfo('America/Sao_Paulo')\n",
        "data_hora_sao_paulo = data_hora_atual.astimezone(fuso_horario_sao_paulo)\n",
        "print(f\"Data/hora atual em São Paulo: {data_hora_sao_paulo}\")"
      ]
    },
    {
      "cell_type": "code",
      "execution_count": 49,
      "metadata": {
        "tags": [],
        "colab": {
          "base_uri": "https://localhost:8080/"
        },
        "id": "5QGRztb1RS6l",
        "outputId": "e0c761e4-9baf-494c-c1d7-ad2ffac612ba"
      },
      "outputs": [
        {
          "output_type": "stream",
          "name": "stdout",
          "text": [
            "Data/hora atual em Nova York: 2023-09-12 20:43:52.950574-04:00\n"
          ]
        }
      ],
      "source": [
        "fuso_horario_ny = ZoneInfo('America/New_York')\n",
        "data_hora_ny = data_hora_atual.astimezone(fuso_horario_ny)\n",
        "print(f\"Data/hora atual em Nova York: {data_hora_ny}\")"
      ]
    }
  ],
  "metadata": {
    "kernelspec": {
      "display_name": "Python 3 (ipykernel)",
      "language": "python",
      "name": "python3"
    },
    "language_info": {
      "codemirror_mode": {
        "name": "ipython",
        "version": 3
      },
      "file_extension": ".py",
      "mimetype": "text/x-python",
      "name": "python",
      "nbconvert_exporter": "python",
      "pygments_lexer": "ipython3",
      "version": "3.10.11"
    },
    "colab": {
      "provenance": [],
      "include_colab_link": true
    }
  },
  "nbformat": 4,
  "nbformat_minor": 0
}