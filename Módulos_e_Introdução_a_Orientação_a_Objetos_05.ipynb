{
  "cells": [
    {
      "cell_type": "markdown",
      "metadata": {
        "id": "view-in-github",
        "colab_type": "text"
      },
      "source": [
        "<a href=\"https://colab.research.google.com/github/Nelrau/python_basic/blob/basic/M%C3%B3dulos_e_Introdu%C3%A7%C3%A3o_a_Orienta%C3%A7%C3%A3o_a_Objetos_05.ipynb\" target=\"_parent\"><img src=\"https://colab.research.google.com/assets/colab-badge.svg\" alt=\"Open In Colab\"/></a>"
      ]
    },
    {
      "cell_type": "markdown",
      "metadata": {
        "id": "2Zx3a-2za4If"
      },
      "source": [
        "# Usando módulos para ajudar a resolver desafios\n",
        "\n",
        "### Objetivo\n",
        "\n",
        "- Muitas vezes algum módulo vai ajudar a gente a resolver um desafio que talvez até conseguíssemos resolver de outra forma.\n",
        "\n",
        "### Exemplo\n",
        "\n",
        "- Digamos que você está analisando todas as vendas dos produtos de tecnologia de um e-commerce e quer saber quais foram os 5 produtos que mais venderam (e suas respectivas quantidades de vendas) - ou seja, queremos descobrir um top 3 produtos de forma simples"
      ]
    },
    {
      "cell_type": "code",
      "source": [
        "from collections import Counter"
      ],
      "metadata": {
        "id": "T-elEYxDa6tV"
      },
      "execution_count": 2,
      "outputs": []
    },
    {
      "cell_type": "code",
      "execution_count": 1,
      "metadata": {
        "id": "C-EZLk-wa4Iv"
      },
      "outputs": [],
      "source": [
        "vendas_tecnologia = {'notebook asus': 2450, 'iphone': 15000, 'samsung galaxy': 12000, 'tv samsung': 10000, 'ps5': 14300, 'tablet': 1720, 'notebook dell': 17000, 'ipad': 1000, 'tv philco': 2500, 'notebook hp': 1000}\n"
      ]
    },
    {
      "cell_type": "code",
      "source": [
        "top = Counter(vendas_tecnologia)\n",
        "top.most_common(3)"
      ],
      "metadata": {
        "colab": {
          "base_uri": "https://localhost:8080/"
        },
        "id": "dtvyyOj_cqOO",
        "outputId": "4076d477-c447-4d22-bc94-4aea071f9444"
      },
      "execution_count": 3,
      "outputs": [
        {
          "output_type": "execute_result",
          "data": {
            "text/plain": [
              "[('notebook dell', 17000), ('iphone', 15000), ('ps5', 14300)]"
            ]
          },
          "metadata": {},
          "execution_count": 3
        }
      ]
    }
  ],
  "metadata": {
    "kernelspec": {
      "display_name": "Python 3",
      "language": "python",
      "name": "python3"
    },
    "language_info": {
      "codemirror_mode": {
        "name": "ipython",
        "version": 3
      },
      "file_extension": ".py",
      "mimetype": "text/x-python",
      "name": "python",
      "nbconvert_exporter": "python",
      "pygments_lexer": "ipython3",
      "version": "3.8.3"
    },
    "colab": {
      "provenance": [],
      "include_colab_link": true
    }
  },
  "nbformat": 4,
  "nbformat_minor": 0
}